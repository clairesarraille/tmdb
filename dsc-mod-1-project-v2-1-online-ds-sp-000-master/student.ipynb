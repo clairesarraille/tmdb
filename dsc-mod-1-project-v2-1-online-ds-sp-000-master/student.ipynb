{
 "cells": [
  {
   "cell_type": "markdown",
   "metadata": {},
   "source": [
    "## Final Project Submission\n",
    "\n",
    "Please fill out:\n",
    "* Student name: Claire Sarraille\n",
    "* Student pace: self paced\n",
    "* Scheduled project review date/time:  Monday June 14th 1pm PST\n",
    "* Instructor name: Jeff Herman\n",
    "* Project Repo URL: https://github.com/clairesarraille/mod1finproj/tree/main/dsc-mod-1-project-v2-1-online-ds-sp-000-master\n",
    "* Blog post URL:\n"
   ]
  },
  {
   "source": [
    "Set environment before running this script with: conda activate learn-env\n",
    "Import datascience libraries:"
   ],
   "cell_type": "markdown",
   "metadata": {}
  },
  {
   "cell_type": "code",
   "execution_count": 265,
   "metadata": {},
   "outputs": [],
   "source": [
    "# Import datascience libraries:\n",
    "import pandas as pd\n",
    "import matplotlib\n",
    "import matplotlib.pyplot as plt\n",
    "%matplotlib inline\n",
    "import numpy as np\n",
    "\n",
    "# Import libraries for fetching and formatting data:\n",
    "from tmdbv3api import TMDb, Discover, Movie\n",
    "import os\n",
    "\n",
    "# Import libraries for performing operations:\n",
    "from math import ceil\n",
    "\n",
    "# Load classes from tmdbv3api - a python library for The Movie Database (TMDb) API\n",
    "tmdb = TMDb()\n",
    "discover = Discover()\n",
    "movie = Movie()\n",
    "\n",
    "# Store my API key in my previously set environment variable as a tmdb.api_key string\n",
    "priv_api_key = os.environ.get('TMDB_PRIVATE_API_KEY')\n",
    "tmdb.api_key = priv_api_key\n"
   ]
  },
  {
   "source": [
    "Preview of discover.discover_movies data:\n",
    "\n",
    "I used this function to quickly scan a sub-set of titles & tweak variables such as:\n",
    "- 'with_original_language': 'en'\n",
    "\n",
    "I used a slightly different function to pretty-print samples of all info for a sub-set of movies. See appendix."
   ],
   "cell_type": "markdown",
   "metadata": {}
  },
  {
   "cell_type": "code",
   "execution_count": 266,
   "metadata": {},
   "outputs": [],
   "source": [
    "def print_sample_tmdb(m, m_r, p, y):\n",
    "    print()\n",
    "    print(f\"Year is: {y}\")\n",
    "    print(f\"Page is: {p +1}\")\n",
    "    print(f\"There are {len(m[y])} movies in movies dict for {y}\")\n",
    "    for d in m_r[0:1]:\n",
    "        print(\"sample original title: \", (dict(d))['original_title'])\n",
    "    print()\n",
    "    "
   ]
  },
  {
   "source": [
    "Function to extract 500 movies each for years 2016-2021 inclusive, sorted by revenue descending\n",
    "This line is commented out in the code below, to preserve space in the notebook:\n",
    "- print_sample_tmdb(movies, movies_running, page, year)"
   ],
   "cell_type": "markdown",
   "metadata": {}
  },
  {
   "cell_type": "code",
   "execution_count": 267,
   "metadata": {
    "tags": []
   },
   "outputs": [],
   "source": [
    "# This function uses the discover.discover_movies() method from the tmdbv3api package to intake initial movie data:\n",
    "\n",
    "# Define Constants\n",
    "# Constants are usually defined on a module level and written in all capital letters with underscores separating words\n",
    "N_YEAR_RANGE = range(2016, 2022)  # grab 2016-2021 data, inclusive\n",
    "N_RESULT = 500  # Enter number of results desired for each year\n",
    "N_RESULT_PAGE = 20  # Discover() class returns 20 results per page\n",
    "# Num pages = Num results / num results per page, rounded UP using math.ceil\n",
    "N_PAGES = ceil(N_RESULT / N_RESULT_PAGE)\n",
    "\n",
    "# Instantiate empty dictionary movies to store outside of the following loops,\n",
    "# because you want to use movies after loops are finished executing\n",
    "movies = {}\n",
    "\n",
    "# Function to grab data from discover.discover_movies:\n",
    "\n",
    "\n",
    "def return_discover_movies():\n",
    "    for year in N_YEAR_RANGE:  # iterate through years 2000-2019 inclusive\n",
    "        # Keys are integers for each year\n",
    "        # Values will be lists of tmdbv3api objects, converted to dictionaries\n",
    "        movies[year] = []\n",
    "        for page in range(0, N_PAGES):\n",
    "            # For N_PAGES, create list movies_running, querying results by year, page, & sort revenue desc\n",
    "            # The objects within movies_running 'tmdbv3api.as_obj.AsObj' objects, and will need to be converted to dictionaries later\n",
    "            movies_running = discover.discover_movies({\n",
    "                # We want to sort by revenue so that we make sure we're getting the highest grossing movies in each batch of 500\n",
    "                'sort_by': 'revenue.desc',\n",
    "                'primary_release_year': str(year),\n",
    "                # API is 1 indexed - so we grab pages 1 to N_PAGES inclusive\n",
    "                'page': str(page + 1),\n",
    "                # Movies with 0 votes are likely among the most unpopular. OK to filter by at least 1 vote.\n",
    "                'vote_count.gte': 1,\n",
    "                # Since our studio is still in R&D mode, we'll focus on movies originally shot in English\n",
    "                'with_original_language': 'en'\n",
    "            })\n",
    "            # For each year in our movies dictionary, store the year as a key (datatype list) in dictionary \"movies\"\n",
    "            # Then, iterate through 'tmdbv3api.as_obj.AsObj' objects in movies_running for N_PAGES, converting each object as a dictionary\n",
    "            # For each year we will have a list of dictionaries, and each dictionary is a set of information for a single movie\n",
    "            # .extend used rather than .append in order to extend our list by >1 items at once\n",
    "            movies[year].extend([dict(tmdb_obj)\n",
    "                                for tmdb_obj in movies_running])\n",
    "\n",
    "            # print_sample_tmdb(movies, movies_running, page, year)  # Preview original movie titles:\n",
    "\n",
    "\n",
    "# Now we have our dictionary movies, with years 2000-2019 inclusive, each with 100 movies in each list from that year\n",
    "# We didn't need to return movies in the definition of this function, because movies was declared before the function\n",
    "return_discover_movies()\n"
   ]
  },
  {
   "source": [
    "# Now that we've collected our 3,000 titles, sorted by descending revenue for each year, let's do some initial data exploration and clenaing:"
   ],
   "cell_type": "markdown",
   "metadata": {}
  },
  {
   "cell_type": "code",
   "execution_count": 268,
   "metadata": {
    "tags": []
   },
   "outputs": [
    {
     "output_type": "stream",
     "name": "stdout",
     "text": [
      "The total movie count returned from our return_discover_movies() function above is: \n3000\n\nThe keys in our movies dictionary are:\ndict_keys([2016, 2017, 2018, 2019, 2020, 2021])\n"
     ]
    }
   ],
   "source": [
    "# Sanity check there are 3,000 titles in movies dictionary\n",
    "# Print ALL movie titles and ids from movies dictionary to qa_titles.txt for data-cleaning prep: manual review\n",
    "movie_count = 0\n",
    "for year in movies:\n",
    "    for moo_vie in range(0, len(movies[year])):\n",
    "        movie_count += 1\n",
    "        my_string = f\"{movies[year][moo_vie]['title']}       {movies[year][moo_vie]['id']}\"\n",
    "        with open(\"/Users/clairesarraille/git-repos/mod1finproj/dsc-mod-1-project-v2-1-online-ds-sp-000-master/qa_files/qa_titles.txt\", \"a+\", encoding='utf-8') as file_object:\n",
    "            # Move read cursor to the start of file.\n",
    "            file_object.seek(0)\n",
    "            data = file_object.read(100)\n",
    "            if len(data) > 0:\n",
    "                file_object.write(\"\\n\")\n",
    "            file_object.write(my_string)\n",
    "\n",
    "# Print movie counts in movies dict:\n",
    "print(\"The total movie count returned from our return_discover_movies() function above is: \")\n",
    "print(movie_count)\n",
    "\n",
    "# Print keys in movies dict:\n",
    "print()\n",
    "print(\"The keys in our movies dictionary are:\")\n",
    "print(movies.keys())\n"
   ]
  },
  {
   "source": [
    "While scanning the above list, I found the following that I'll use to develop some data clean-up methods:\n",
    "\n",
    "- These don't look legitimate:\n",
    "    - movie_02    813075\n",
    "    - movie_01    813064\n",
    "    - welcome_home.exe    82418\n",
    "    - jji    763071\n",
    "\n",
    "- There's a double entry for this movie:\n",
    "    - Split    358364\n",
    "    - Split    381288\n",
    "\n",
    "- Not in English, this one I later caught when running the analysis to find non-ascii characters:\n",
    "    - عتيج    676624\n"
   ],
   "cell_type": "markdown",
   "metadata": {}
  },
  {
   "cell_type": "code",
   "execution_count": 325,
   "metadata": {},
   "outputs": [
    {
     "output_type": "stream",
     "name": "stdout",
     "text": [
      "movie_02\n813075\n2021-04-02\nAn experimental short shot in March of 2021.\n0.6\n\nmovie_01\n813064\n2021-03-24\nAn experimental short shot over summer 2020.\n0.6\n\nwelcome_home.exe\n824186\n2021-04-29\nAs technology accelerates, our species' collective imagination of the future grows ever more kaleidoscopic. We are all haunted by temporal distortion, perhaps no more than when we attempt to remember what the future looked like to our younger selves. As the mist of time devours our memories, the future recedes; each of us burdened by the gaping mouth of entropy. Yet, emerging technology provides a glimmer of hope; transhumanism promises a future free from mortality, disease and pain. Does our salvation lie in digital simulacra? We're here to sell you the answer to that question, for the low, low price of four hundred and seventy seconds.\n0.6\n\njji\n763071\n2019-04-19\nthe summer breathes.\n0.6\n\nSplit\n358364\n2016-04-07\nThe story of a young woman who takes an epic journey to claim her own darkness and sexuality so she can stop putting it into the hands of her abusive lover.  When Inanna, a young actress, working as a stripper, becomes obsessed with a mask maker, she sacrifices parts of herself and her life, piece by piece, in order to win his love.  At the same time she enters a mythic journey in the theater.  One that forces her to face the many abuses endured by women around that world and that blurs her performance, her dreams and her real life and results in a provocative and powerful confrontation that frees her. -- from official website\n2.439\n\nSplit\n381288\n2016-11-15\nThough Kevin has evidenced 23 personalities to his trusted psychiatrist, Dr. Fletcher, there remains one still submerged who is set to materialize and dominate all the others. Compelled to abduct three teenage girls led by the willful, observant Casey, Kevin reaches a war for survival among all of those contained within him — as well as everyone around him — as the walls between his compartments shatter apart.\n62.109\n\n"
     ]
    }
   ],
   "source": [
    "# Upon internet research and cross-referencing I found that they're all legitimate movies. Nice!\n",
    "\n",
    "likely_suspects = [813075,813064,824186,763071,358364,381288]\n",
    "\n",
    "for suspect in likely_suspects:\n",
    "    m = movie.details(suspect)   \n",
    "    print(m.title)\n",
    "    print(m.id)\n",
    "    print(m.release_date)\n",
    "    print(m.overview)\n",
    "    print(m.popularity)\n",
    "    print()\n"
   ]
  },
  {
   "cell_type": "code",
   "execution_count": 269,
   "metadata": {},
   "outputs": [
    {
     "output_type": "stream",
     "name": "stdout",
     "text": [
      "Bigfoot vs the Illuminati\n784281\n\nCheez-It's & Chili\n802103\n\nA Tiny House Christmas\n796438\n\n"
     ]
    }
   ],
   "source": [
    "# Check that API is working properly by spot-checking movie titles/ids between methods discover.discover_movies and movie.details()\n",
    "\n",
    "# Expected data (from discover.movies)\n",
    "# Bigfoot vs the Illuminati\n",
    "# 784281\n",
    "my_result = movie.details(784281)\n",
    "print(my_result.title)\n",
    "print(my_result.id)\n",
    "print()\n",
    "\n",
    "# Expected data (from discover.movies)\n",
    "# Cheez-It's & Chili\n",
    "# 802103\n",
    "my_result = movie.details(802103)\n",
    "print(my_result.title)\n",
    "print(my_result.id)\n",
    "print()\n",
    "\n",
    "# Expected data (from discover.movies)\n",
    "# A Tiny House Christmas\n",
    "# 796438\n",
    "my_result = movie.details(796438)\n",
    "print(my_result.title)\n",
    "print(my_result.id)\n",
    "print()\n"
   ]
  },
  {
   "source": [
    "Our movies dictionary has keys for years 2016-2021\n",
    "The value for each year is a list of dictionaries. Each dictionary is a movie.\n",
    "To turn this data into a Pandas datastructure, we iterate through all the years and all the dictionaries in each year\n",
    "Our result, movies_list_of_dict is a simple list of all the movie dictionaries.\n",
    "All we have to do then is use pd.DataFrame() to use the keys as column headers and the values as the cell values in rows."
   ],
   "cell_type": "markdown",
   "metadata": {}
  },
  {
   "cell_type": "code",
   "execution_count": 270,
   "metadata": {},
   "outputs": [],
   "source": [
    "movies_list_of_dict = [movie_d for movie_yr in movies for movie_d in movies[movie_yr]]\n",
    "df_movies = pd.DataFrame(movies_list_of_dict)\n"
   ]
  },
  {
   "cell_type": "code",
   "execution_count": 271,
   "metadata": {},
   "outputs": [
    {
     "output_type": "execute_result",
     "data": {
      "text/plain": [
       "   adult                     backdrop_path            genre_ids      id  \\\n",
       "0  False  /kvRT3GwcnqGHzPjXIVrVPhUix7Z.jpg        [12, 28, 878]  271110   \n",
       "1  False  /6t8ES1d12OzWyCGxBeDYLHoaDrT.jpg        [28, 12, 878]  330459   \n",
       "2  False  /wijltj1toRcicHlCn8Cpsp4yPXe.jpg  [12, 16, 35, 10751]  127380   \n",
       "\n",
       "  original_language                original_title  \\\n",
       "0                en    Captain America: Civil War   \n",
       "1                en  Rogue One: A Star Wars Story   \n",
       "2                en                  Finding Dory   \n",
       "\n",
       "                                            overview  popularity  \\\n",
       "0  Following the events of Age of Ultron, the col...      86.040   \n",
       "1  A rogue band of resistance fighters unite for ...      37.495   \n",
       "2  Dory is reunited with her friends Nemo and Mar...      42.162   \n",
       "\n",
       "                        poster_path release_date  \\\n",
       "0  /rAGiXaUfPzY7CDEyNKUofk3Kw2e.jpg   2016-04-27   \n",
       "1  /5jX3p0apUG5bkMHtnKZch0xpkBS.jpg   2016-12-14   \n",
       "2   /3UVe8NL1E2ZdUZ9EDlKGJY5UzE.jpg   2016-06-16   \n",
       "\n",
       "                          title  video  vote_average  vote_count  \n",
       "0    Captain America: Civil War  False           7.4       18129  \n",
       "1  Rogue One: A Star Wars Story  False           7.5       12139  \n",
       "2                  Finding Dory  False           7.0        9917  "
      ],
      "text/html": "<div>\n<style scoped>\n    .dataframe tbody tr th:only-of-type {\n        vertical-align: middle;\n    }\n\n    .dataframe tbody tr th {\n        vertical-align: top;\n    }\n\n    .dataframe thead th {\n        text-align: right;\n    }\n</style>\n<table border=\"1\" class=\"dataframe\">\n  <thead>\n    <tr style=\"text-align: right;\">\n      <th></th>\n      <th>adult</th>\n      <th>backdrop_path</th>\n      <th>genre_ids</th>\n      <th>id</th>\n      <th>original_language</th>\n      <th>original_title</th>\n      <th>overview</th>\n      <th>popularity</th>\n      <th>poster_path</th>\n      <th>release_date</th>\n      <th>title</th>\n      <th>video</th>\n      <th>vote_average</th>\n      <th>vote_count</th>\n    </tr>\n  </thead>\n  <tbody>\n    <tr>\n      <th>0</th>\n      <td>False</td>\n      <td>/kvRT3GwcnqGHzPjXIVrVPhUix7Z.jpg</td>\n      <td>[12, 28, 878]</td>\n      <td>271110</td>\n      <td>en</td>\n      <td>Captain America: Civil War</td>\n      <td>Following the events of Age of Ultron, the col...</td>\n      <td>86.040</td>\n      <td>/rAGiXaUfPzY7CDEyNKUofk3Kw2e.jpg</td>\n      <td>2016-04-27</td>\n      <td>Captain America: Civil War</td>\n      <td>False</td>\n      <td>7.4</td>\n      <td>18129</td>\n    </tr>\n    <tr>\n      <th>1</th>\n      <td>False</td>\n      <td>/6t8ES1d12OzWyCGxBeDYLHoaDrT.jpg</td>\n      <td>[28, 12, 878]</td>\n      <td>330459</td>\n      <td>en</td>\n      <td>Rogue One: A Star Wars Story</td>\n      <td>A rogue band of resistance fighters unite for ...</td>\n      <td>37.495</td>\n      <td>/5jX3p0apUG5bkMHtnKZch0xpkBS.jpg</td>\n      <td>2016-12-14</td>\n      <td>Rogue One: A Star Wars Story</td>\n      <td>False</td>\n      <td>7.5</td>\n      <td>12139</td>\n    </tr>\n    <tr>\n      <th>2</th>\n      <td>False</td>\n      <td>/wijltj1toRcicHlCn8Cpsp4yPXe.jpg</td>\n      <td>[12, 16, 35, 10751]</td>\n      <td>127380</td>\n      <td>en</td>\n      <td>Finding Dory</td>\n      <td>Dory is reunited with her friends Nemo and Mar...</td>\n      <td>42.162</td>\n      <td>/3UVe8NL1E2ZdUZ9EDlKGJY5UzE.jpg</td>\n      <td>2016-06-16</td>\n      <td>Finding Dory</td>\n      <td>False</td>\n      <td>7.0</td>\n      <td>9917</td>\n    </tr>\n  </tbody>\n</table>\n</div>"
     },
     "metadata": {},
     "execution_count": 271
    }
   ],
   "source": [
    "# Preview df_movies:\n",
    "# First three movies:\n",
    "df_movies.head(3)\n"
   ]
  },
  {
   "cell_type": "code",
   "execution_count": 272,
   "metadata": {},
   "outputs": [
    {
     "output_type": "execute_result",
     "data": {
      "text/plain": [
       "      adult                     backdrop_path        genre_ids      id  \\\n",
       "2997  False  /qtJGWUTaXuPVSqJOXSWoZCqucEr.jpg      [35, 10749]  796126   \n",
       "2998  False                              None  [80, 18, 10749]  796124   \n",
       "2999  False                              None             [18]  796034   \n",
       "\n",
       "     original_language      original_title  \\\n",
       "2997                en           Bad Cupid   \n",
       "2998                en         Ride or Die   \n",
       "2999                en  Oklahoma Mon Amour   \n",
       "\n",
       "                                               overview  popularity  \\\n",
       "2997  Archie is a God on a mission to ensure that tr...       1.400   \n",
       "2998  Ashley, a fierce friend to Mandy, takes the ph...      31.159   \n",
       "2999  Rural United States and modern urban Mexico me...       0.600   \n",
       "\n",
       "                           poster_path release_date               title  \\\n",
       "2997  /9nSHoZpU8jFHjKwJ895bzkjPldG.jpg   2021-02-11           Bad Cupid   \n",
       "2998  /77S8LQNkB0se2nk15X1d22QV1d1.jpg   2021-02-09         Ride or Die   \n",
       "2999                              None   2021-04-24  Oklahoma Mon Amour   \n",
       "\n",
       "      video  vote_average  vote_count  \n",
       "2997  False           6.0           3  \n",
       "2998  False           4.0           2  \n",
       "2999  False           5.0           1  "
      ],
      "text/html": "<div>\n<style scoped>\n    .dataframe tbody tr th:only-of-type {\n        vertical-align: middle;\n    }\n\n    .dataframe tbody tr th {\n        vertical-align: top;\n    }\n\n    .dataframe thead th {\n        text-align: right;\n    }\n</style>\n<table border=\"1\" class=\"dataframe\">\n  <thead>\n    <tr style=\"text-align: right;\">\n      <th></th>\n      <th>adult</th>\n      <th>backdrop_path</th>\n      <th>genre_ids</th>\n      <th>id</th>\n      <th>original_language</th>\n      <th>original_title</th>\n      <th>overview</th>\n      <th>popularity</th>\n      <th>poster_path</th>\n      <th>release_date</th>\n      <th>title</th>\n      <th>video</th>\n      <th>vote_average</th>\n      <th>vote_count</th>\n    </tr>\n  </thead>\n  <tbody>\n    <tr>\n      <th>2997</th>\n      <td>False</td>\n      <td>/qtJGWUTaXuPVSqJOXSWoZCqucEr.jpg</td>\n      <td>[35, 10749]</td>\n      <td>796126</td>\n      <td>en</td>\n      <td>Bad Cupid</td>\n      <td>Archie is a God on a mission to ensure that tr...</td>\n      <td>1.400</td>\n      <td>/9nSHoZpU8jFHjKwJ895bzkjPldG.jpg</td>\n      <td>2021-02-11</td>\n      <td>Bad Cupid</td>\n      <td>False</td>\n      <td>6.0</td>\n      <td>3</td>\n    </tr>\n    <tr>\n      <th>2998</th>\n      <td>False</td>\n      <td>None</td>\n      <td>[80, 18, 10749]</td>\n      <td>796124</td>\n      <td>en</td>\n      <td>Ride or Die</td>\n      <td>Ashley, a fierce friend to Mandy, takes the ph...</td>\n      <td>31.159</td>\n      <td>/77S8LQNkB0se2nk15X1d22QV1d1.jpg</td>\n      <td>2021-02-09</td>\n      <td>Ride or Die</td>\n      <td>False</td>\n      <td>4.0</td>\n      <td>2</td>\n    </tr>\n    <tr>\n      <th>2999</th>\n      <td>False</td>\n      <td>None</td>\n      <td>[18]</td>\n      <td>796034</td>\n      <td>en</td>\n      <td>Oklahoma Mon Amour</td>\n      <td>Rural United States and modern urban Mexico me...</td>\n      <td>0.600</td>\n      <td>None</td>\n      <td>2021-04-24</td>\n      <td>Oklahoma Mon Amour</td>\n      <td>False</td>\n      <td>5.0</td>\n      <td>1</td>\n    </tr>\n  </tbody>\n</table>\n</div>"
     },
     "metadata": {},
     "execution_count": 272
    }
   ],
   "source": [
    "# Last three movies:\n",
    "df_movies.tail(3)\n"
   ]
  },
  {
   "cell_type": "code",
   "execution_count": 273,
   "metadata": {},
   "outputs": [
    {
     "output_type": "execute_result",
     "data": {
      "text/plain": [
       "(3000, 14)"
      ]
     },
     "metadata": {},
     "execution_count": 273
    }
   ],
   "source": [
    "# See number of rows and columns, respectively:\n",
    "df_movies.shape\n"
   ]
  },
  {
   "source": [
    "Are there any null values?\n",
    "It looks like the only null values are for backdrop_path (suffix for movie's image URL)\n",
    "In other words, no missing data for this analysis so far."
   ],
   "cell_type": "markdown",
   "metadata": {}
  },
  {
   "cell_type": "code",
   "execution_count": 274,
   "metadata": {},
   "outputs": [
    {
     "output_type": "stream",
     "name": "stdout",
     "text": [
      "<class 'pandas.core.frame.DataFrame'>\nRangeIndex: 3000 entries, 0 to 2999\nData columns (total 14 columns):\n #   Column             Non-Null Count  Dtype  \n---  ------             --------------  -----  \n 0   adult              3000 non-null   bool   \n 1   backdrop_path      1931 non-null   object \n 2   genre_ids          3000 non-null   object \n 3   id                 3000 non-null   int64  \n 4   original_language  3000 non-null   object \n 5   original_title     3000 non-null   object \n 6   overview           3000 non-null   object \n 7   popularity         3000 non-null   float64\n 8   poster_path        2843 non-null   object \n 9   release_date       3000 non-null   object \n 10  title              3000 non-null   object \n 11  video              3000 non-null   bool   \n 12  vote_average       3000 non-null   float64\n 13  vote_count         3000 non-null   int64  \ndtypes: bool(2), float64(2), int64(2), object(8)\nmemory usage: 287.2+ KB\n"
     ]
    }
   ],
   "source": [
    "df_movies.info()\n"
   ]
  },
  {
   "source": [
    "Just for fun, let's explore one movie's backdrop_path - what would we do with this field?\n",
    "One of my favorite movies from the past 6 years is Get Out - so lets find it in df_movies\n",
    "I accessed a subset of df_movies with .loc using a pandas series of boolean values (title contains 'Get Out')"
   ],
   "cell_type": "markdown",
   "metadata": {}
  },
  {
   "cell_type": "code",
   "execution_count": 275,
   "metadata": {},
   "outputs": [
    {
     "output_type": "execute_result",
     "data": {
      "text/plain": [
       "       title                     backdrop_path\n",
       "531  Get Out  /vZ7EVk7FaNEWYqlVWbFLHP8Z0LU.jpg"
      ],
      "text/html": "<div>\n<style scoped>\n    .dataframe tbody tr th:only-of-type {\n        vertical-align: middle;\n    }\n\n    .dataframe tbody tr th {\n        vertical-align: top;\n    }\n\n    .dataframe thead th {\n        text-align: right;\n    }\n</style>\n<table border=\"1\" class=\"dataframe\">\n  <thead>\n    <tr style=\"text-align: right;\">\n      <th></th>\n      <th>title</th>\n      <th>backdrop_path</th>\n    </tr>\n  </thead>\n  <tbody>\n    <tr>\n      <th>531</th>\n      <td>Get Out</td>\n      <td>/vZ7EVk7FaNEWYqlVWbFLHP8Z0LU.jpg</td>\n    </tr>\n  </tbody>\n</table>\n</div>"
     },
     "metadata": {},
     "execution_count": 275
    }
   ],
   "source": [
    "get_out = df_movies[['title', 'backdrop_path']].loc[(df_movies['title'].str.contains('Get Out'))]\n",
    "get_out\n"
   ]
  },
  {
   "source": [
    "According to the TMDb API documentation, the backdrop_path is the ```file_path``` one uses in conjunction with a ```base_url``` and ```file_size``` to generate an image URL.  Here's the backdrop_bath for Get Out appended to https://image.tmdb.org/t/p/w500/ to retrieve the w500 size:\n",
    "- https://image.tmdb.org/t/p/w500/vZ7EVk7FaNEWYqlVWbFLHP8Z0LU.jpg\n",
    "\n",
    "\n",
    "- I embedded it here by using <img src=\"get_out.png\"\\>, and storing the png version of the image in the same folder with this notebook.\n",
    "\n",
    "<img src=\"get_out.png\">"
   ],
   "cell_type": "markdown",
   "metadata": {}
  },
  {
   "source": [
    "That was fun! But we must move on. Next we'll take the movies we've already gathered, which are sorted by descending revenue for years 2016-2021, and grab more details for each movie from TMDb's movie details resource. That way, we can grab the fields we need to conduct later analysis and visualization: revenue, budget, keywords, genres, and production companies.\n",
    "# Our next task is to use the method movies.details() to get the columns we want for our 3,000 titles"
   ],
   "cell_type": "markdown",
   "metadata": {}
  },
  {
   "cell_type": "code",
   "execution_count": 276,
   "metadata": {},
   "outputs": [
    {
     "output_type": "execute_result",
     "data": {
      "text/plain": [
       "3000"
      ]
     },
     "metadata": {},
     "execution_count": 276
    }
   ],
   "source": [
    "# Next, we'll create a list of movie ids we have stored in df_movies\n",
    "# We'll use that list to get more detailed movie info from the tmdbv3api library's movie.details() method\n",
    "\n",
    "# Create list of movie ids from df_movies:\n",
    "movie_id_list = df_movies['id'].tolist()\n",
    "\n",
    "# Check length of list:\n",
    "len(movie_id_list)\n"
   ]
  },
  {
   "source": [
    "The following finds any movies that would throw an error when passed to movie.details()\n",
    "It also ensures we're passing field values that exist from movie.details()\n",
    "Under the hood of the tmdbv3api library we are simply using the GET method to retrieve data from the TMDb server at a specified resource.\n",
    "The TMDb API behaves such that if the movie id doesn't exist in the /movie/{movie_id} resource, we'll get an error back\n",
    "Let's see if any of our movie ids would throw such an error:"
   ],
   "cell_type": "markdown",
   "metadata": {}
  },
  {
   "cell_type": "code",
   "execution_count": 277,
   "metadata": {},
   "outputs": [
    {
     "output_type": "stream",
     "name": "stdout",
     "text": [
      "781739\n"
     ]
    }
   ],
   "source": [
    "my_keys = ['id', 'title', 'release_date', 'revenue', 'budget', 'genres', 'original_language',\n",
    "           'spoken_languages', 'popularity', 'production_companies', 'production_countries', 'runtime', 'keywords']\n",
    "\n",
    "details_list = []\n",
    "\n",
    "for id_index in movie_id_list: # For each movie id in movie_id_list, we try to get results back from movie.details(), if not, the movie id is printed\n",
    "    try:\n",
    "        r = movie.details(id_index)\n",
    "        details_list.extend({my_key: dict(r).get(my_key)\n",
    "                            for my_key in my_keys})\n",
    "    except:\n",
    "        print(id_index)\n",
    "        continue\n"
   ]
  },
  {
   "cell_type": "code",
   "execution_count": 278,
   "metadata": {},
   "outputs": [
    {
     "output_type": "execute_result",
     "data": {
      "text/plain": [
       "     title      id  popularity  \\\n",
       "2396  Hero  781739         0.0   \n",
       "\n",
       "                                               overview release_date  \n",
       "2396  Hero was diagnosed with cancer at the age of 2...   2020-12-31  "
      ],
      "text/html": "<div>\n<style scoped>\n    .dataframe tbody tr th:only-of-type {\n        vertical-align: middle;\n    }\n\n    .dataframe tbody tr th {\n        vertical-align: top;\n    }\n\n    .dataframe thead th {\n        text-align: right;\n    }\n</style>\n<table border=\"1\" class=\"dataframe\">\n  <thead>\n    <tr style=\"text-align: right;\">\n      <th></th>\n      <th>title</th>\n      <th>id</th>\n      <th>popularity</th>\n      <th>overview</th>\n      <th>release_date</th>\n    </tr>\n  </thead>\n  <tbody>\n    <tr>\n      <th>2396</th>\n      <td>Hero</td>\n      <td>781739</td>\n      <td>0.0</td>\n      <td>Hero was diagnosed with cancer at the age of 2...</td>\n      <td>2020-12-31</td>\n    </tr>\n  </tbody>\n</table>\n</div>"
     },
     "metadata": {},
     "execution_count": 278
    }
   ],
   "source": [
    "# Out of curiosity, lets look at the details for this movie:\n",
    "df_movies[['title', 'id', 'popularity', 'overview',\n",
    "           'release_date']].loc[(df_movies['id'] == 781739)\n"
   ]
  },
  {
   "cell_type": "code",
   "execution_count": 279,
   "metadata": {},
   "outputs": [
    {
     "output_type": "stream",
     "name": "stdout",
     "text": [
      "Hero was diagnosed with cancer at the age of 22. After losing faith in himself, and getting ready to give up, he found support in a place he felt safe - The Furry Fandom. Now, Hero is getting his first fursuit. This is his story.\n"
     ]
    }
   ],
   "source": [
    "# To identify the movie lets look at the overview more closely:\n",
    "print(df_movies.loc[(df_movies['id'] == 781739), 'overview'].item())\n"
   ]
  },
  {
   "source": [
    "This turned out to be a touching documentary, and one that seems to have received a decent amount of attention, but we won't be worried about not having it in our dataset. We'll remove it from movie_id_list and re-run our error-catching code."
   ],
   "cell_type": "markdown",
   "metadata": {}
  },
  {
   "cell_type": "code",
   "execution_count": 280,
   "metadata": {},
   "outputs": [],
   "source": [
    "# Remove movie id from list:\n",
    "movie_id_list.remove(781739)\n"
   ]
  },
  {
   "cell_type": "code",
   "execution_count": 281,
   "metadata": {},
   "outputs": [],
   "source": [
    "# Re-run error-catching code\n",
    "# Returns 0 movie ids - nice!\n",
    "my_keys = ['id', 'title', 'release_date', 'revenue', 'budget', 'genres', 'original_language',\n",
    "           'spoken_languages', 'popularity', 'production_companies', 'production_countries', 'runtime', 'keywords']\n",
    "\n",
    "details_list = []\n",
    "\n",
    "for id_index in movie_id_list:\n",
    "    try:\n",
    "        # movie.details() returns a tmdb object, NOT a dictionary.\n",
    "        r = movie.details(id_index)\n",
    "        # Extend details_list by a dictionary for each movie, where each movie dictionary contains all key-value pairs for my_keys\n",
    "        details_list.extend({my_key: dict(r).get(my_key)  # the tmdb object r must be converted to a dictionary to get the value for each of my keys\n",
    "                            for my_key in my_keys})\n",
    "    except:\n",
    "        print(id_index)\n",
    "        continue\n"
   ]
  },
  {
   "source": [
    "Finally, we can retrieve the data we want from movie.details()!\n",
    "A way I dealt with any anticipated missing fields for each movie:\n",
    "In case any of the movies are missing any of the below keys, I used dict.get(), which returns None instead of throwing an error if a given key doesn't exist"
   ],
   "cell_type": "markdown",
   "metadata": {}
  },
  {
   "cell_type": "code",
   "execution_count": 291,
   "metadata": {},
   "outputs": [
    {
     "output_type": "stream",
     "name": "stdout",
     "text": [
      "{'id': 271110, 'title': 'Captain America: Civil War', 'release_date': '2016-04-27', 'revenue': 1153296293, 'budget': 250000000, 'genres': [{'id': 12, 'name': 'Adventure'}, {'id': 28, 'name': 'Action'}, {'id': 878, 'name': 'Science Fiction'}], 'original_language': 'en', 'spoken_languages': [{'english_name': 'Romanian', 'iso_639_1': 'ro', 'name': 'Română'}, {'english_name': 'English', 'iso_639_1': 'en', 'name': 'English'}, {'english_name': 'German', 'iso_639_1': 'de', 'name': 'Deutsch'}, {'english_name': 'Russian', 'iso_639_1': 'ru', 'name': 'Pусский'}], 'popularity': 86.04, 'production_companies': [{'id': 420, 'logo_path': '/hUzeosd33nzE5MCNsZxCGEKTXaQ.png', 'name': 'Marvel Studios', 'origin_country': 'US'}], 'production_countries': [{'iso_3166_1': 'US', 'name': 'United States of America'}], 'runtime': 147, 'keywords': {'keywords': [{'id': 393, 'name': 'civil war'}, {'id': 9663, 'name': 'sequel'}, {'id': 9715, 'name': 'superhero'}, {'id': 9717, 'name': 'based on comic'}, {'id': 179430, 'name': 'aftercreditsstinger'}, {'id': 179431, 'name': 'duringcreditsstinger'}, {'id': 180547, 'name': 'marvel cinematic universe (mcu)'}]}}\n"
     ]
    }
   ],
   "source": [
    "my_keys = ['id', 'title', 'release_date', 'revenue', 'budget', 'genres', 'original_language',\n",
    "           'spoken_languages', 'popularity', 'production_companies', 'production_countries', 'runtime', 'keywords']\n",
    "\n",
    "details_list = []\n",
    "details_list.extend({my_key: dict(movie.details(id_index)).get(my_key)\n",
    "                    for my_key in my_keys} for id_index in movie_id_list)\n",
    "\n",
    "print(details_list[0])  # Preview the first movie dictionary in our list!\n"
   ]
  },
  {
   "cell_type": "code",
   "execution_count": 292,
   "metadata": {},
   "outputs": [
    {
     "output_type": "execute_result",
     "data": {
      "text/plain": [
       "       id                         title release_date     revenue     budget  \\\n",
       "0  271110    Captain America: Civil War   2016-04-27  1153296293  250000000   \n",
       "1  330459  Rogue One: A Star Wars Story   2016-12-14  1056057273  200000000   \n",
       "2  127380                  Finding Dory   2016-06-16  1028570889  200000000   \n",
       "\n",
       "                                             genres original_language  \\\n",
       "0              [[id, name], [id, name], [id, name]]                en   \n",
       "1              [[id, name], [id, name], [id, name]]                en   \n",
       "2  [[id, name], [id, name], [id, name], [id, name]]                en   \n",
       "\n",
       "                                    spoken_languages  popularity  \\\n",
       "0  [[english_name, iso_639_1, name], [english_nam...      86.040   \n",
       "1                  [[english_name, iso_639_1, name]]      37.495   \n",
       "2                  [[english_name, iso_639_1, name]]      42.162   \n",
       "\n",
       "                      production_companies  production_countries  runtime  \\\n",
       "0  [[id, logo_path, name, origin_country]]  [[iso_3166_1, name]]    147.0   \n",
       "1  [[id, logo_path, name, origin_country]]  [[iso_3166_1, name]]    133.0   \n",
       "2  [[id, logo_path, name, origin_country]]  [[iso_3166_1, name]]     97.0   \n",
       "\n",
       "     keywords  \n",
       "0  [keywords]  \n",
       "1  [keywords]  \n",
       "2  [keywords]  "
      ],
      "text/html": "<div>\n<style scoped>\n    .dataframe tbody tr th:only-of-type {\n        vertical-align: middle;\n    }\n\n    .dataframe tbody tr th {\n        vertical-align: top;\n    }\n\n    .dataframe thead th {\n        text-align: right;\n    }\n</style>\n<table border=\"1\" class=\"dataframe\">\n  <thead>\n    <tr style=\"text-align: right;\">\n      <th></th>\n      <th>id</th>\n      <th>title</th>\n      <th>release_date</th>\n      <th>revenue</th>\n      <th>budget</th>\n      <th>genres</th>\n      <th>original_language</th>\n      <th>spoken_languages</th>\n      <th>popularity</th>\n      <th>production_companies</th>\n      <th>production_countries</th>\n      <th>runtime</th>\n      <th>keywords</th>\n    </tr>\n  </thead>\n  <tbody>\n    <tr>\n      <th>0</th>\n      <td>271110</td>\n      <td>Captain America: Civil War</td>\n      <td>2016-04-27</td>\n      <td>1153296293</td>\n      <td>250000000</td>\n      <td>[[id, name], [id, name], [id, name]]</td>\n      <td>en</td>\n      <td>[[english_name, iso_639_1, name], [english_nam...</td>\n      <td>86.040</td>\n      <td>[[id, logo_path, name, origin_country]]</td>\n      <td>[[iso_3166_1, name]]</td>\n      <td>147.0</td>\n      <td>[keywords]</td>\n    </tr>\n    <tr>\n      <th>1</th>\n      <td>330459</td>\n      <td>Rogue One: A Star Wars Story</td>\n      <td>2016-12-14</td>\n      <td>1056057273</td>\n      <td>200000000</td>\n      <td>[[id, name], [id, name], [id, name]]</td>\n      <td>en</td>\n      <td>[[english_name, iso_639_1, name]]</td>\n      <td>37.495</td>\n      <td>[[id, logo_path, name, origin_country]]</td>\n      <td>[[iso_3166_1, name]]</td>\n      <td>133.0</td>\n      <td>[keywords]</td>\n    </tr>\n    <tr>\n      <th>2</th>\n      <td>127380</td>\n      <td>Finding Dory</td>\n      <td>2016-06-16</td>\n      <td>1028570889</td>\n      <td>200000000</td>\n      <td>[[id, name], [id, name], [id, name], [id, name]]</td>\n      <td>en</td>\n      <td>[[english_name, iso_639_1, name]]</td>\n      <td>42.162</td>\n      <td>[[id, logo_path, name, origin_country]]</td>\n      <td>[[iso_3166_1, name]]</td>\n      <td>97.0</td>\n      <td>[keywords]</td>\n    </tr>\n  </tbody>\n</table>\n</div>"
     },
     "metadata": {},
     "execution_count": 292
    }
   ],
   "source": [
    "# Now we take this list of dictionaries and easily convert it to a pandas dataframe df_details:\n",
    "df_details = pd.DataFrame(details_list)\n",
    "df_details[0:3] # Preview the first three movies\n"
   ]
  },
  {
   "source": [
    "# We finally have the data we want stored in df_details."
   ],
   "cell_type": "markdown",
   "metadata": {}
  },
  {
   "source": [
    "Take a look at big-picture of df_details\n",
    "It makes sense that we have 2999 entries since the movie Hero doesn't exist in movie.details()\n",
    "It looks like we have one null value for run-time"
   ],
   "cell_type": "markdown",
   "metadata": {}
  },
  {
   "cell_type": "code",
   "execution_count": 293,
   "metadata": {},
   "outputs": [
    {
     "output_type": "stream",
     "name": "stdout",
     "text": [
      "<class 'pandas.core.frame.DataFrame'>\nRangeIndex: 2999 entries, 0 to 2998\nData columns (total 13 columns):\n #   Column                Non-Null Count  Dtype  \n---  ------                --------------  -----  \n 0   id                    2999 non-null   int64  \n 1   title                 2999 non-null   object \n 2   release_date          2999 non-null   object \n 3   revenue               2999 non-null   int64  \n 4   budget                2999 non-null   int64  \n 5   genres                2999 non-null   object \n 6   original_language     2999 non-null   object \n 7   spoken_languages      2999 non-null   object \n 8   popularity            2999 non-null   float64\n 9   production_companies  2999 non-null   object \n 10  production_countries  2999 non-null   object \n 11  runtime               2998 non-null   float64\n 12  keywords              2999 non-null   object \ndtypes: float64(2), int64(3), object(8)\nmemory usage: 304.7+ KB\n"
     ]
    },
    {
     "output_type": "execute_result",
     "data": {
      "text/plain": [
       "id                        int64\n",
       "title                    object\n",
       "release_date             object\n",
       "revenue                   int64\n",
       "budget                    int64\n",
       "genres                   object\n",
       "original_language        object\n",
       "spoken_languages         object\n",
       "popularity              float64\n",
       "production_companies     object\n",
       "production_countries     object\n",
       "runtime                 float64\n",
       "keywords                 object\n",
       "dtype: object"
      ]
     },
     "metadata": {},
     "execution_count": 293
    }
   ],
   "source": [
    "df_details.index\n",
    "df_details.info()\n",
    "df_details.columns\n",
    "df_details.dtypes\n"
   ]
  },
  {
   "source": [
    "# My first data-cleaning task was to detect any movies not originally shot in English\n",
    "- Since our studio is still in R&D mode, we'll focus on movies originally shot in English\n",
    "- 'with_original_language' was already set to 'en' upon intake, but this next step helps find foreign language films that slipped through\n"
   ],
   "cell_type": "markdown",
   "metadata": {}
  },
  {
   "cell_type": "code",
   "execution_count": null,
   "metadata": {},
   "outputs": [],
   "source": [
    "# Detect non-english strings in title and remove them from df_details:\n",
    "\n",
    "pd.set_option('display.max_rows', df_details.shape[0]+1) # Set display option so that we can see all rows because we will likely manually review the values:\n",
    "\n",
    "# Create function to detect non-english strings:\n",
    "def detect_en(ascii_string):\n",
    "    try:\n",
    "        ascii_string.encode(encoding='utf-8').decode('ascii')\n",
    "    except UnicodeDecodeError:\n",
    "        return False\n",
    "    else:\n",
    "        return True\n",
    "\n",
    "column_names = [\"id\", \"title\"]\n",
    "flag_non_en = pd.DataFrame(columns = column_names)\n",
    "for item in df_details.loc[:, 'title']:\n",
    "    if isEnglish(item) == False:\n",
    "        flag_non_en = flag_non_en.append(df_details[['id','title']].loc[df_details['title'] == item])\n",
    "# print(flag_non_en)\n"
   ]
  },
  {
   "source": [
    "I made a list of the movies I wanted to remove from df_details, based on internet research to see if original language is English.\n",
    "\n",
    "- 720980      Express Yourself: Die Tänzer der Queen of Pop\n",
    "- 676624                                               عتيج\n",
    "- 671272                              Óleos en la oscuridad\n",
    "- 664648                                          Crisálida\n",
    "- 692856                                              Avīci\n",
    "- 691836                      Avante (Ao Vivo em São Paulo)\n",
    "- 680817                                      Hranice práce\n",
    "- 676912                                            Sátiros\n",
    "- 703348                                               عقلي\n",
    "- 720570                                   maníaco da ponte\n",
    "- 832125                                  Ghostemane: Ímpio\n",
    "- 806831                 História Secreta do Pop Brasileiro\n",
    "- 783999        Crimes de haine en Amérique : l'inquiétante\n",
    "- 740354                                          Bach-Hông\n",
    "- 793311                                   Toilette d’amour\n",
    "- 787619                                           Czyściec\n",
    "- 832310                                           Verrückt\n",
    "- 822161                                         ¿Libertad?\n",
    "- 802434                                              Acéré"
   ],
   "cell_type": "markdown",
   "metadata": {}
  },
  {
   "cell_type": "code",
   "execution_count": 316,
   "metadata": {},
   "outputs": [],
   "source": [
    "# Remove rows with these ids from df_details:\n",
    "non_eng_ids = [720980, 676624, 671272, 664648, 692856, 691836, 680817, 676912, 703348, 720570, 832125, 806831, 783999, 740354, 793311, 787619, 832310, 822161, 802434]\n",
    "\n",
    "# Remove movie id from list:\n",
    "df_details = df_details[~df_details['id'].isin(non_eng_ids)]\n"
   ]
  },
  {
   "cell_type": "code",
   "execution_count": 317,
   "metadata": {},
   "outputs": [
    {
     "output_type": "execute_result",
     "data": {
      "text/plain": [
       "Empty DataFrame\n",
       "Columns: [id, title, release_date, revenue, budget, genres, original_language, spoken_languages, popularity, production_companies, production_countries, runtime, keywords, genres_list_dict, genres_list_str]\n",
       "Index: []"
      ],
      "text/html": "<div>\n<style scoped>\n    .dataframe tbody tr th:only-of-type {\n        vertical-align: middle;\n    }\n\n    .dataframe tbody tr th {\n        vertical-align: top;\n    }\n\n    .dataframe thead th {\n        text-align: right;\n    }\n</style>\n<table border=\"1\" class=\"dataframe\">\n  <thead>\n    <tr style=\"text-align: right;\">\n      <th></th>\n      <th>id</th>\n      <th>title</th>\n      <th>release_date</th>\n      <th>revenue</th>\n      <th>budget</th>\n      <th>genres</th>\n      <th>original_language</th>\n      <th>spoken_languages</th>\n      <th>popularity</th>\n      <th>production_companies</th>\n      <th>production_countries</th>\n      <th>runtime</th>\n      <th>keywords</th>\n      <th>genres_list_dict</th>\n      <th>genres_list_str</th>\n    </tr>\n  </thead>\n  <tbody>\n  </tbody>\n</table>\n</div>"
     },
     "metadata": {},
     "execution_count": 317
    }
   ],
   "source": [
    "# Check to make sure they're no longer in there:\n",
    "df_details[df_details['id'].isin(non_eng_ids)]"
   ]
  },
  {
   "source": [
    "# The next data cleaning step was to convert the date field from str to datetime64\n",
    "A lot of the fields we got back are objects.\n",
    "Lets make sure that release_date is an object we can work with\n",
    "We'll use the first movie in our list as an example:\n",
    "271110\tCaptain America: Civil War"
   ],
   "cell_type": "markdown",
   "metadata": {}
  },
  {
   "cell_type": "code",
   "execution_count": 296,
   "metadata": {},
   "outputs": [
    {
     "output_type": "stream",
     "name": "stdout",
     "text": [
      "<class 'str'>\n2016-04-27\n"
     ]
    }
   ],
   "source": [
    "capt_amer_date = df_details.loc[(\n",
    "    df_details['id'] == 271110), 'release_date'].item()\n",
    "print(type(capt_amer_date))\n",
    "print(capt_amer_date)\n"
   ]
  },
  {
   "source": [
    "Since it's a string, lets convert it to dtype ```datetime64[ns]``` which is built on the NumPy ```datetime64``` dtype"
   ],
   "cell_type": "markdown",
   "metadata": {}
  },
  {
   "cell_type": "code",
   "execution_count": 297,
   "metadata": {},
   "outputs": [
    {
     "output_type": "stream",
     "name": "stdout",
     "text": [
      "<class 'pandas._libs.tslibs.timestamps.Timestamp'>\n2016-04-27 00:00:00\n"
     ]
    }
   ],
   "source": [
    "df_details['release_date'] = pd.to_datetime(df_details['release_date'])\n",
    "\n",
    "capt_amer_date = df_details.loc[(\n",
    "    df_details['id'] == 271110), 'release_date'].item()\n",
    "print(type(capt_amer_date))\n",
    "print(capt_amer_date)\n"
   ]
  },
  {
   "source": [
    "# The final data cleaning step was to convert fields that are lists of objects to more simple datastructures:\n",
    "I'll need to convert any field that I want to use in a visualization into a useable format. Let's start with genres!"
   ],
   "cell_type": "markdown",
   "metadata": {}
  },
  {
   "cell_type": "code",
   "execution_count": 343,
   "metadata": {},
   "outputs": [
    {
     "output_type": "stream",
     "name": "stdout",
     "text": [
      "<class 'list'>\n<class 'tmdbv3api.as_obj.AsObj'>\n[{'id': 12, 'name': 'Adventure'}, {'id': 28, 'name': 'Action'}, {'id': 878, 'name': 'Science Fiction'}]\n<class 'list'>\n<class 'tmdbv3api.as_obj.AsObj'>\n[{'id': 28, 'name': 'Action'}, {'id': 12, 'name': 'Adventure'}, {'id': 878, 'name': 'Science Fiction'}]\n<class 'list'>\n<class 'tmdbv3api.as_obj.AsObj'>\n[{'id': 12, 'name': 'Adventure'}, {'id': 16, 'name': 'Animation'}, {'id': 35, 'name': 'Comedy'}, {'id': 10751, 'name': 'Family'}]\n"
     ]
    }
   ],
   "source": [
    "# Preview the genres column, dtype object\n",
    "my_sample = df_details.loc[0:2, 'genres']\n",
    "type(my_sample)\n",
    "my_sample\n",
    "for mystery in my_sample:\n",
    "    print(type(mystery))\n",
    "    print(type(mystery[0]))\n",
    "    print(mystery)\n"
   ]
  },
  {
   "cell_type": "code",
   "execution_count": null,
   "metadata": {},
   "outputs": [],
   "source": [
    "# Convert these lists of objects to lists of dictionaries using .apply() to map each genre value\n",
    "def convert_to_list_of_dict(val):\n",
    "    # val parameter is used to transform each value of the pandas genres series\n",
    "    val = [dict(x) for x in val]\n",
    "    return val\n",
    "\n",
    "\n",
    "df_details['genres_list_dict'] = df_details.loc[:,\n",
    "                                                'genres'].apply(convert_to_list_of_dict)\n",
    "                                                "
   ]
  },
  {
   "cell_type": "code",
   "execution_count": 342,
   "metadata": {},
   "outputs": [
    {
     "output_type": "stream",
     "name": "stdout",
     "text": [
      "<class 'list'>\n<class 'dict'>\n[{'id': 12, 'name': 'Adventure'}, {'id': 28, 'name': 'Action'}, {'id': 878, 'name': 'Science Fiction'}]\n<class 'list'>\n<class 'dict'>\n[{'id': 28, 'name': 'Action'}, {'id': 12, 'name': 'Adventure'}, {'id': 878, 'name': 'Science Fiction'}]\n<class 'list'>\n<class 'dict'>\n[{'id': 12, 'name': 'Adventure'}, {'id': 16, 'name': 'Animation'}, {'id': 35, 'name': 'Comedy'}, {'id': 10751, 'name': 'Family'}]\n"
     ]
    }
   ],
   "source": [
    "my_sample = df_details.loc[0:2, 'genres_list_dict']\n",
    "for mystery in my_sample:\n",
    "    print(type(mystery))\n",
    "    print(type(mystery[0]))\n",
    "    print(mystery)\n"
   ]
  },
  {
   "cell_type": "code",
   "execution_count": 300,
   "metadata": {},
   "outputs": [
    {
     "output_type": "execute_result",
     "data": {
      "text/plain": [
       "[{'id': 12, 'name': 'Adventure'},\n",
       " {'id': 28, 'name': 'Action'},\n",
       " {'id': 878, 'name': 'Science Fiction'}]"
      ]
     },
     "metadata": {},
     "execution_count": 300
    }
   ],
   "source": [
    "# Preview our new column \"genres_list_dict\"\n",
    "df_details['genres_list_dict'][0]"
   ]
  },
  {
   "cell_type": "code",
   "execution_count": null,
   "metadata": {},
   "outputs": [],
   "source": [
    "# Convert lists of dictionaries to a list of strings, where each string is the name of a genre\n",
    "def convert_to_list_of_str(val):\n",
    "    # val parameter is used to transform each value of the pandas genres series\n",
    "    val = [x.get('name') for x in val]\n",
    "    return val\n",
    "\n",
    "\n",
    "df_details['genres_list_str'] = df_details.loc[:,\n",
    "                                                'genres_list_dict'].apply(convert_to_list_of_str)\n",
    "                                                "
   ]
  },
  {
   "cell_type": "code",
   "execution_count": 341,
   "metadata": {},
   "outputs": [
    {
     "output_type": "stream",
     "name": "stdout",
     "text": [
      "<class 'list'>\n<class 'str'>\n['Adventure', 'Action', 'Science Fiction']\n<class 'list'>\n<class 'str'>\n['Action', 'Adventure', 'Science Fiction']\n<class 'list'>\n<class 'str'>\n['Adventure', 'Animation', 'Comedy', 'Family']\n"
     ]
    }
   ],
   "source": [
    "my_sample = df_details.loc[0:2, 'genres_list_str']\n",
    "for mystery in my_sample:\n",
    "    print(type(mystery))\n",
    "    print(type(mystery[0]))\n",
    "    print(mystery)\n"
   ]
  },
  {
   "cell_type": "code",
   "execution_count": 339,
   "metadata": {},
   "outputs": [
    {
     "output_type": "execute_result",
     "data": {
      "text/plain": [
       "               title    genres_list_str\n",
       "401  The Last Appeal  [Drama, TV Movie]\n",
       "402      Cinema Self                NaN\n",
       "403  Farewell Boleyn      [Documentary]"
      ],
      "text/html": "<div>\n<style scoped>\n    .dataframe tbody tr th:only-of-type {\n        vertical-align: middle;\n    }\n\n    .dataframe tbody tr th {\n        vertical-align: top;\n    }\n\n    .dataframe thead th {\n        text-align: right;\n    }\n</style>\n<table border=\"1\" class=\"dataframe\">\n  <thead>\n    <tr style=\"text-align: right;\">\n      <th></th>\n      <th>title</th>\n      <th>genres_list_str</th>\n    </tr>\n  </thead>\n  <tbody>\n    <tr>\n      <th>401</th>\n      <td>The Last Appeal</td>\n      <td>[Drama, TV Movie]</td>\n    </tr>\n    <tr>\n      <th>402</th>\n      <td>Cinema Self</td>\n      <td>NaN</td>\n    </tr>\n    <tr>\n      <th>403</th>\n      <td>Farewell Boleyn</td>\n      <td>[Documentary]</td>\n    </tr>\n  </tbody>\n</table>\n</div>"
     },
     "metadata": {},
     "execution_count": 339
    }
   ],
   "source": [
    "# Preview the results:\n",
    "df_details[['title', 'genres_list_str']].iloc[400:403]"
   ]
  },
  {
   "cell_type": "code",
   "execution_count": 307,
   "metadata": {},
   "outputs": [],
   "source": [
    "# Rather than empty lists, I want movies with no genre to be the numpy null value, which is NaN:\n",
    "import numpy as np\n",
    "df_details['genres_list_str'] = df_details['genres_list_str'].apply(\n",
    "    lambda x: np.nan if len(x) == 0 else x)\n"
   ]
  },
  {
   "cell_type": "code",
   "execution_count": 315,
   "metadata": {},
   "outputs": [
    {
     "output_type": "execute_result",
     "data": {
      "text/plain": [
       "                   title genres genres_list_str\n",
       "276  The Girl on the Mat     []             NaN\n",
       "302        First Day Out     []             NaN\n",
       "303         Wild Flowers     []             NaN"
      ],
      "text/html": "<div>\n<style scoped>\n    .dataframe tbody tr th:only-of-type {\n        vertical-align: middle;\n    }\n\n    .dataframe tbody tr th {\n        vertical-align: top;\n    }\n\n    .dataframe thead th {\n        text-align: right;\n    }\n</style>\n<table border=\"1\" class=\"dataframe\">\n  <thead>\n    <tr style=\"text-align: right;\">\n      <th></th>\n      <th>title</th>\n      <th>genres</th>\n      <th>genres_list_str</th>\n    </tr>\n  </thead>\n  <tbody>\n    <tr>\n      <th>276</th>\n      <td>The Girl on the Mat</td>\n      <td>[]</td>\n      <td>NaN</td>\n    </tr>\n    <tr>\n      <th>302</th>\n      <td>First Day Out</td>\n      <td>[]</td>\n      <td>NaN</td>\n    </tr>\n    <tr>\n      <th>303</th>\n      <td>Wild Flowers</td>\n      <td>[]</td>\n      <td>NaN</td>\n    </tr>\n  </tbody>\n</table>\n</div>"
     },
     "metadata": {},
     "execution_count": 315
    }
   ],
   "source": [
    "# Check that it worked:\n",
    "is_NaN = df_details.isnull()\n",
    "row_has_NaN = is_NaN.any(axis=1)\n",
    "rows_with_NaN = df_details[row_has_NaN]\n",
    "\n",
    "rows_with_NaN[['title', 'genres','genres_list_str']].iloc[0:3]\n"
   ]
  },
  {
   "source": [
    "# Now we're going to do the same thing for production_companies - it has the same structure as genres:"
   ],
   "cell_type": "markdown",
   "metadata": {}
  },
  {
   "cell_type": "code",
   "execution_count": 336,
   "metadata": {},
   "outputs": [
    {
     "output_type": "stream",
     "name": "stdout",
     "text": [
      "<class 'list'>\n<class 'tmdbv3api.as_obj.AsObj'>\n[{'id': 420, 'logo_path': '/hUzeosd33nzE5MCNsZxCGEKTXaQ.png', 'name': 'Marvel Studios', 'origin_country': 'US'}]\n<class 'list'>\n<class 'tmdbv3api.as_obj.AsObj'>\n[{'id': 1, 'logo_path': '/o86DbpburjxrqAzEDhXZcyE8pDb.png', 'name': 'Lucasfilm Ltd.', 'origin_country': 'US'}]\n<class 'list'>\n<class 'tmdbv3api.as_obj.AsObj'>\n[{'id': 3, 'logo_path': '/1TjvGVDMYsj6JBxOAkUHpPEwLf7.png', 'name': 'Pixar', 'origin_country': 'US'}]\n"
     ]
    }
   ],
   "source": [
    "my_sample = df_details.loc[0:2, 'production_companies']\n",
    "for mystery in my_sample:\n",
    "    print(type(mystery))\n",
    "    print(type(mystery[0]))\n",
    "    print(mystery)"
   ]
  },
  {
   "cell_type": "code",
   "execution_count": null,
   "metadata": {},
   "outputs": [],
   "source": [
    "def convert_to_list_of_dict(val):\n",
    "    val = [dict(x) for x in val]\n",
    "    return val\n",
    "\n",
    "\n",
    "df_details['prod_list_dict'] = df_details.loc[:,\n",
    "                                                'production_companies'].apply(convert_to_list_of_dict)\n",
    "                                                "
   ]
  },
  {
   "cell_type": "code",
   "execution_count": 340,
   "metadata": {},
   "outputs": [
    {
     "output_type": "stream",
     "name": "stdout",
     "text": [
      "<class 'list'>\n<class 'dict'>\n[{'id': 420, 'logo_path': '/hUzeosd33nzE5MCNsZxCGEKTXaQ.png', 'name': 'Marvel Studios', 'origin_country': 'US'}]\n<class 'list'>\n<class 'dict'>\n[{'id': 1, 'logo_path': '/o86DbpburjxrqAzEDhXZcyE8pDb.png', 'name': 'Lucasfilm Ltd.', 'origin_country': 'US'}]\n<class 'list'>\n<class 'dict'>\n[{'id': 3, 'logo_path': '/1TjvGVDMYsj6JBxOAkUHpPEwLf7.png', 'name': 'Pixar', 'origin_country': 'US'}]\n"
     ]
    }
   ],
   "source": [
    "my_sample = df_details.loc[0:2, 'prod_list_dict']\n",
    "for mystery in my_sample:\n",
    "    print(type(mystery))\n",
    "    print(type(mystery[0]))\n",
    "    print(mystery)\n"
   ]
  },
  {
   "cell_type": "code",
   "execution_count": 338,
   "metadata": {},
   "outputs": [
    {
     "output_type": "execute_result",
     "data": {
      "text/plain": [
       "[{'id': 420,\n",
       "  'logo_path': '/hUzeosd33nzE5MCNsZxCGEKTXaQ.png',\n",
       "  'name': 'Marvel Studios',\n",
       "  'origin_country': 'US'}]"
      ]
     },
     "metadata": {},
     "execution_count": 338
    }
   ],
   "source": [
    "# Preview our new column \"prod_list_dict\"\n",
    "df_details['prod_list_dict'][0]"
   ]
  },
  {
   "cell_type": "code",
   "execution_count": null,
   "metadata": {},
   "outputs": [],
   "source": [
    "def convert_to_list_of_str(val):\n",
    "    val = [x.get('name') for x in val]\n",
    "    return val\n",
    "\n",
    "\n",
    "df_details['prod_list_str'] = df_details.loc[:,\n",
    "                                                'prod_list_dict'].apply(convert_to_list_of_str)\n",
    "                                                "
   ]
  },
  {
   "cell_type": "code",
   "execution_count": 345,
   "metadata": {},
   "outputs": [
    {
     "output_type": "stream",
     "name": "stdout",
     "text": [
      "<class 'list'>\n<class 'str'>\n['Marvel Studios']\n<class 'list'>\n<class 'str'>\n['Lucasfilm Ltd.']\n<class 'list'>\n<class 'str'>\n['Pixar']\n"
     ]
    }
   ],
   "source": [
    "my_sample = df_details.loc[0:2, 'prod_list_str']\n",
    "for mystery in my_sample:\n",
    "    if len(mystery) == 0:\n",
    "        print(mystery)\n"
   ]
  },
  {
   "cell_type": "code",
   "execution_count": null,
   "metadata": {},
   "outputs": [],
   "source": [
    "# Make empty lists NaN:\n",
    "import numpy as np\n",
    "df_details['prod_list_nan'] = df_details['prod_list_str'].apply(\n",
    "    lambda x: np.nan if len(x) == 0 else x)"
   ]
  },
  {
   "cell_type": "code",
   "execution_count": 349,
   "metadata": {},
   "outputs": [
    {
     "output_type": "execute_result",
     "data": {
      "text/plain": [
       "                       title                    genres_list_str prod_list_str\n",
       "31                     Split  [Fantasy, Drama, Thriller, Crime]           NaN\n",
       "201  Hillsong: Let Hope Rise                      [Documentary]           NaN\n",
       "228           Lulu the Movie                           [Comedy]           NaN"
      ],
      "text/html": "<div>\n<style scoped>\n    .dataframe tbody tr th:only-of-type {\n        vertical-align: middle;\n    }\n\n    .dataframe tbody tr th {\n        vertical-align: top;\n    }\n\n    .dataframe thead th {\n        text-align: right;\n    }\n</style>\n<table border=\"1\" class=\"dataframe\">\n  <thead>\n    <tr style=\"text-align: right;\">\n      <th></th>\n      <th>title</th>\n      <th>genres_list_str</th>\n      <th>prod_list_str</th>\n    </tr>\n  </thead>\n  <tbody>\n    <tr>\n      <th>31</th>\n      <td>Split</td>\n      <td>[Fantasy, Drama, Thriller, Crime]</td>\n      <td>NaN</td>\n    </tr>\n    <tr>\n      <th>201</th>\n      <td>Hillsong: Let Hope Rise</td>\n      <td>[Documentary]</td>\n      <td>NaN</td>\n    </tr>\n    <tr>\n      <th>228</th>\n      <td>Lulu the Movie</td>\n      <td>[Comedy]</td>\n      <td>NaN</td>\n    </tr>\n  </tbody>\n</table>\n</div>"
     },
     "metadata": {},
     "execution_count": 349
    }
   ],
   "source": [
    "# Check that it worked:\n",
    "is_NaN = df_details.isnull()\n",
    "row_has_NaN = is_NaN.any(axis=1)\n",
    "rows_with_NaN = df_details[row_has_NaN]\n",
    "\n",
    "rows_with_NaN[['title', 'genres_list_str','prod_list_str']].iloc[0:3]"
   ]
  },
  {
   "source": [
    "# Finally, I created a dataframe with only the columns I wanted to keep:"
   ],
   "cell_type": "markdown",
   "metadata": {}
  },
  {
   "cell_type": "code",
   "execution_count": 350,
   "metadata": {},
   "outputs": [],
   "source": [
    "# Keep these Columns:\n",
    "df = df_details[['id', 'title', 'release_date', 'revenue', 'budget',\n",
    "                 'genres_list_str', 'popularity', 'prod_list_str', 'runtime']].copy()\n"
   ]
  },
  {
   "cell_type": "code",
   "execution_count": 351,
   "metadata": {},
   "outputs": [
    {
     "output_type": "execute_result",
     "data": {
      "text/plain": [
       "       id                         title release_date     revenue     budget  \\\n",
       "0  271110    Captain America: Civil War   2016-04-27  1153296293  250000000   \n",
       "1  330459  Rogue One: A Star Wars Story   2016-12-14  1056057273  200000000   \n",
       "2  127380                  Finding Dory   2016-06-16  1028570889  200000000   \n",
       "3  269149                      Zootopia   2016-02-11  1023784195  150000000   \n",
       "4  278927               The Jungle Book   2016-04-07   966550600  175000000   \n",
       "\n",
       "                          genres_list_str  popularity  \\\n",
       "0    [Adventure, Action, Science Fiction]      86.040   \n",
       "1    [Action, Adventure, Science Fiction]      37.495   \n",
       "2  [Adventure, Animation, Comedy, Family]      42.162   \n",
       "3  [Animation, Adventure, Family, Comedy]      60.016   \n",
       "4     [Family, Adventure, Drama, Fantasy]      34.177   \n",
       "\n",
       "                                       prod_list_str  runtime  \n",
       "0                                   [Marvel Studios]    147.0  \n",
       "1                                   [Lucasfilm Ltd.]    133.0  \n",
       "2                                            [Pixar]     97.0  \n",
       "3  [Walt Disney Animation Studios, Walt Disney Pi...    109.0  \n",
       "4  [Walt Disney Pictures, Fairview Entertainment,...    106.0  "
      ],
      "text/html": "<div>\n<style scoped>\n    .dataframe tbody tr th:only-of-type {\n        vertical-align: middle;\n    }\n\n    .dataframe tbody tr th {\n        vertical-align: top;\n    }\n\n    .dataframe thead th {\n        text-align: right;\n    }\n</style>\n<table border=\"1\" class=\"dataframe\">\n  <thead>\n    <tr style=\"text-align: right;\">\n      <th></th>\n      <th>id</th>\n      <th>title</th>\n      <th>release_date</th>\n      <th>revenue</th>\n      <th>budget</th>\n      <th>genres_list_str</th>\n      <th>popularity</th>\n      <th>prod_list_str</th>\n      <th>runtime</th>\n    </tr>\n  </thead>\n  <tbody>\n    <tr>\n      <th>0</th>\n      <td>271110</td>\n      <td>Captain America: Civil War</td>\n      <td>2016-04-27</td>\n      <td>1153296293</td>\n      <td>250000000</td>\n      <td>[Adventure, Action, Science Fiction]</td>\n      <td>86.040</td>\n      <td>[Marvel Studios]</td>\n      <td>147.0</td>\n    </tr>\n    <tr>\n      <th>1</th>\n      <td>330459</td>\n      <td>Rogue One: A Star Wars Story</td>\n      <td>2016-12-14</td>\n      <td>1056057273</td>\n      <td>200000000</td>\n      <td>[Action, Adventure, Science Fiction]</td>\n      <td>37.495</td>\n      <td>[Lucasfilm Ltd.]</td>\n      <td>133.0</td>\n    </tr>\n    <tr>\n      <th>2</th>\n      <td>127380</td>\n      <td>Finding Dory</td>\n      <td>2016-06-16</td>\n      <td>1028570889</td>\n      <td>200000000</td>\n      <td>[Adventure, Animation, Comedy, Family]</td>\n      <td>42.162</td>\n      <td>[Pixar]</td>\n      <td>97.0</td>\n    </tr>\n    <tr>\n      <th>3</th>\n      <td>269149</td>\n      <td>Zootopia</td>\n      <td>2016-02-11</td>\n      <td>1023784195</td>\n      <td>150000000</td>\n      <td>[Animation, Adventure, Family, Comedy]</td>\n      <td>60.016</td>\n      <td>[Walt Disney Animation Studios, Walt Disney Pi...</td>\n      <td>109.0</td>\n    </tr>\n    <tr>\n      <th>4</th>\n      <td>278927</td>\n      <td>The Jungle Book</td>\n      <td>2016-04-07</td>\n      <td>966550600</td>\n      <td>175000000</td>\n      <td>[Family, Adventure, Drama, Fantasy]</td>\n      <td>34.177</td>\n      <td>[Walt Disney Pictures, Fairview Entertainment,...</td>\n      <td>106.0</td>\n    </tr>\n  </tbody>\n</table>\n</div>"
     },
     "metadata": {},
     "execution_count": 351
    }
   ],
   "source": [
    "df.head()"
   ]
  },
  {
   "cell_type": "code",
   "execution_count": null,
   "metadata": {},
   "outputs": [],
   "source": [
    "df."
   ]
  }
 ],
 "metadata": {
  "kernelspec": {
   "name": "python3",
   "display_name": "Python 3.6.9 64-bit ('learn-env': conda)"
  },
  "language_info": {
   "codemirror_mode": {
    "name": "ipython",
    "version": 3
   },
   "file_extension": ".py",
   "mimetype": "text/x-python",
   "name": "python",
   "nbconvert_exporter": "python",
   "pygments_lexer": "ipython3",
   "version": "3.6.9"
  },
  "interpreter": {
   "hash": "5d1f83e9c63cec2de7bdeb43eb17fdae110b98c2255761b9e5cd119be6dbfe82"
  }
 },
 "nbformat": 4,
 "nbformat_minor": 2
}