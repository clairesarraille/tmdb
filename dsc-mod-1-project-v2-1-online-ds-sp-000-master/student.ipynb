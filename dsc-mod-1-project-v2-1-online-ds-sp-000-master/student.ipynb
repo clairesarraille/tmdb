{
 "cells": [
  {
   "cell_type": "markdown",
   "metadata": {},
   "source": [
    "## Final Project Submission\n",
    "\n",
    "Please fill out:\n",
    "* Student name: Claire Sarraille\n",
    "* Student pace: self paced\n",
    "* Scheduled project review date/time:  Monday June 14th 1pm PST\n",
    "* Instructor name: Jeff Herman\n",
    "* Project Repo URL: https://github.com/clairesarraille/mod1finproj/tree/main/dsc-mod-1-project-v2-1-online-ds-sp-000-master\n",
    "* Blog post URL:\n"
   ]
  },
  {
   "source": [
    "Set environment before running this script with: conda activate learn-env\n",
    "Import datascience libraries:"
   ],
   "cell_type": "markdown",
   "metadata": {}
  },
  {
   "cell_type": "code",
   "execution_count": 1,
   "metadata": {},
   "outputs": [],
   "source": [
    "# Import datascience libraries:\n",
    "import pandas as pd\n",
    "import matplotlib\n",
    "import matplotlib.pyplot as plt\n",
    "\n",
    "# Import libraries for fetching and formatting data:\n",
    "from tmdbv3api import TMDb, Discover, Movie\n",
    "import os\n",
    "\n",
    "# Import libraries for performing operations:\n",
    "from math import ceil\n",
    "\n",
    "# Load classes from tmdbv3api - a python library for The Movie Database (TMDb) API\n",
    "tmdb = TMDb()\n",
    "discover = Discover()\n",
    "movie = Movie()\n",
    "\n",
    "# Store my API key in my previously set environment variable as a tmdb.api_key string\n",
    "priv_api_key = os.environ.get('TMDB_PRIVATE_API_KEY')\n",
    "tmdb.api_key = priv_api_key"
   ]
  },
  {
   "source": [],
   "cell_type": "markdown",
   "metadata": {}
  },
  {
   "source": [
    "Preview of discover.discover_movies data:\n",
    "\n",
    "I used this function to quickly scan a sub-set of titles & tweak variables such as:\n",
    "- 'with_original_language': 'en'\n",
    "\n",
    "I used a slightly different function to pretty-print samples of all info for a sub-set of movies. See appendix."
   ],
   "cell_type": "markdown",
   "metadata": {}
  },
  {
   "cell_type": "code",
   "execution_count": 3,
   "metadata": {},
   "outputs": [],
   "source": [
    "def print_sample_tmdb(m, m_r, p, y):\n",
    "    print()\n",
    "    print(f\"Year is: {y}\")\n",
    "    print(f\"Page is: {p +1}\")\n",
    "    print(f\"There are {len(m[y])} movies in movies dict for {y}\")\n",
    "    for d in m_r[0:1]:\n",
    "        print(\"sample original title: \",(dict(d))['original_title'])\n",
    "    print()"
   ]
  },
  {
   "cell_type": "code",
   "execution_count": 4,
   "metadata": {},
   "outputs": [],
   "source": [
    "# Move this to appendix\n",
    "\n",
    "# import pprint\n",
    "\n",
    "# def print_sample_tmdb(m, m_r, p, y):  # Pretty-Print preview of discover.discover_movies data\n",
    "#     print(f\"Year is: {y}\")\n",
    "#     print(f\"Page is: {p +1}\")\n",
    "#     print(f\"There are {len(m[y])} movies in movies dict for {y}\")\n",
    "#     print(f\"Here is an example from movies_running:\")\n",
    "#     for index in m_r[0:1]:\n",
    "#         pprint.pprint(dict(index))\n",
    "#     print()"
   ]
  },
  {
   "source": [
    "Function to extract 100 movies each for years 2000-2019 inclusive, sorted by revenue descending"
   ],
   "cell_type": "markdown",
   "metadata": {}
  },
  {
   "cell_type": "code",
   "execution_count": 2,
   "metadata": {
    "tags": []
   },
   "outputs": [],
   "source": [
    "# Define Constants\n",
    "# Constants are usually defined on a module level and written in all capital letters with underscores separating words\n",
    "N_YEAR_RANGE = range(2016, 2022)  # grab 2016-2021 data, inclusive\n",
    "N_RESULT = 500  # Enter number of results desired for each year\n",
    "N_RESULT_PAGE = 20  # Discover() class returns 20 results per page\n",
    "# Num pages = Num results / num results per page, rounded UP using math.ceil\n",
    "N_PAGES = ceil(N_RESULT / N_RESULT_PAGE)\n",
    "\n",
    "# Instantiate empty dictionary movies to store  outside of the following loops,\n",
    "# because you want to use movies after loops are finished executing\n",
    "movies = {}\n",
    "\n",
    "# Function to grab data from discover.discover_movies:\n",
    "\n",
    "\n",
    "def return_discover_movies():\n",
    "    for year in N_YEAR_RANGE:  # iterate through years 2000-2019 inclusive\n",
    "        # Keys are integers for each year\n",
    "        # Values will be lists of tmdbv3api objects, converted to dictionaries\n",
    "        movies[year] = []\n",
    "        for page in range(0, N_PAGES):\n",
    "            # For N_PAGES, create list movies_running, querying results by year, page, & sort revenue desc\n",
    "            # The objects within movies_running 'tmdbv3api.as_obj.AsObj' objects, and will need to be converted to dictionaries later\n",
    "            movies_running = discover.discover_movies({\n",
    "                'sort_by': 'revenue.desc',\n",
    "                'primary_release_year': str(year),\n",
    "                # API is 1 indexed - so we grab pages 1 to N_PAGES inclusive\n",
    "                'page': str(page + 1),\n",
    "                'vote_count.gte': 1,\n",
    "                'with_original_language': 'en' # Since our studio is still in R&D mode, we'll focus on movies originally shot in English\n",
    "            })\n",
    "            # For each year in our movies dictionary, store the year as a key (datatype list) in dictionary \"movies\"\n",
    "            # Then, iterate through 'tmdbv3api.as_obj.AsObj' objects in movies_running for 5 pages, converting each object as a dictionary\n",
    "            # For each year we will have a list of dictionaries, and each dictionary is a set of information for a single movie\n",
    "            # .extend used rather than .append in order to extend our list by >1 items at once\n",
    "            movies[year].extend([dict(tmdb_obj)\n",
    "                                for tmdb_obj in movies_running])\n",
    "            # Preview original movie titles:\n",
    "            # print_sample_tmdb(movies, movies_running, page, year)\n",
    "\n",
    "\n",
    "# Now we have our dictionary movies, with years 2000-2019 inclusive, each with 100 movies in each list from that year\n",
    "# We didn't need to return movies in the definition of this function, because movies was declared before the function\n",
    "return_discover_movies()"
   ]
  },
  {
   "cell_type": "code",
   "execution_count": null,
   "metadata": {},
   "outputs": [],
   "source": []
  },
  {
   "cell_type": "code",
   "execution_count": 86,
   "metadata": {
    "tags": []
   },
   "outputs": [],
   "source": [
    "# Sanity check film names & make sure movies dictionary contains 2,000 movies\n",
    "# For this, make setting 'Jupyter: Text Output Limit' = 0 temporarily\n",
    "movie_count = 0\n",
    "for year in movies:\n",
    "    for moo_vie in range(0,len(movies[year])):\n",
    "        movie_count +=1\n",
    "        my_string = f\"{movies[year][moo_vie]['title']}       {movies[year][moo_vie]['id']}\"\n",
    "        with open(\"/Users/clairesarraille/git-repos/mod1finproj/dsc-mod-1-project-v2-1-online-ds-sp-000-master/qa_titles.txt\", \"a+\",encoding='utf-8') as file_object:\n",
    "            # Move read cursor to the start of file.\n",
    "            file_object.seek(0)\n",
    "            data = file_object.read(100)\n",
    "            if len(data) > 0 :\n",
    "                 file_object.write(\"\\n\")\n",
    "            file_object.write(my_string)\n"
   ]
  },
  {
   "source": [
    "# While scanning the above list, I found the following that I'll use to develop some clean-up methods:\n",
    "\n",
    "# These don't look legitimate:\n",
    "movie_02\n",
    "813075\n",
    "\n",
    "movie_01\n",
    "813064\n",
    "\n",
    "welcome_home.exe\n",
    "82418\n",
    "\n",
    "jji\n",
    "763071\n",
    "\n",
    "# There's a double entry for this movie:\n",
    "Split\n",
    "358364\n",
    "Split\n",
    "381288\n",
    "\n",
    "# Not in English, this one I later caught when running the analysis to find non-ascii characters:\n",
    "عتيج\n",
    "676624\n"
   ],
   "cell_type": "code",
   "metadata": {},
   "execution_count": null,
   "outputs": []
  },
  {
   "cell_type": "code",
   "execution_count": null,
   "metadata": {},
   "outputs": [],
   "source": []
  },
  {
   "cell_type": "code",
   "execution_count": 36,
   "metadata": {},
   "outputs": [
    {
     "output_type": "stream",
     "name": "stdout",
     "text": [
      "Bigfoot vs the Illuminati\n784281\nCheez-It's & Chili\n802103\nA Tiny House Christmas\n796438\n"
     ]
    }
   ],
   "source": [
    "# Sanity check a few film titles and ids fetched from discover.movies with those we get from movie.details():\n",
    "\n",
    "# Bigfoot vs the Illuminati\n",
    "# 784281\n",
    "my_result = movie.details(784281)\n",
    "print(my_result.title)\n",
    "print(my_result.id)\n",
    "\n",
    "# Cheez-It's & Chili\n",
    "# 802103\n",
    "my_result = movie.details(802103)\n",
    "print(my_result.title)\n",
    "print(my_result.id)\n",
    "\n",
    "# A Tiny House Christmas\n",
    "# 796438\n",
    "my_result = movie.details(796438)\n",
    "print(my_result.title)\n",
    "print(my_result.id)"
   ]
  },
  {
   "cell_type": "code",
   "execution_count": 9,
   "metadata": {},
   "outputs": [
    {
     "output_type": "execute_result",
     "data": {
      "text/plain": [
       "3000"
      ]
     },
     "metadata": {},
     "execution_count": 9
    }
   ],
   "source": [
    "movie_count"
   ]
  },
  {
   "cell_type": "code",
   "execution_count": 3,
   "metadata": {},
   "outputs": [
    {
     "output_type": "execute_result",
     "data": {
      "text/plain": [
       "dict_keys([2016, 2017, 2018, 2019, 2020, 2021])"
      ]
     },
     "metadata": {},
     "execution_count": 3
    }
   ],
   "source": [
    "# Check Keys\n",
    "movies.keys()"
   ]
  },
  {
   "cell_type": "code",
   "execution_count": 4,
   "metadata": {},
   "outputs": [
    {
     "output_type": "execute_result",
     "data": {
      "text/plain": [
       "   adult                     backdrop_path            genre_ids      id  \\\n",
       "0  False  /kvRT3GwcnqGHzPjXIVrVPhUix7Z.jpg        [12, 28, 878]  271110   \n",
       "1  False  /6t8ES1d12OzWyCGxBeDYLHoaDrT.jpg        [28, 12, 878]  330459   \n",
       "2  False  /wijltj1toRcicHlCn8Cpsp4yPXe.jpg  [12, 16, 35, 10751]  127380   \n",
       "3  False  /fGgsIJXTCofFOQydtvWmo9ZIzJX.jpg  [16, 12, 10751, 35]  269149   \n",
       "4  False  /tB2w4m0rW62MTufTjRj0gFLMVBP.jpg  [10751, 12, 18, 14]  278927   \n",
       "\n",
       "  original_language                original_title  \\\n",
       "0                en    Captain America: Civil War   \n",
       "1                en  Rogue One: A Star Wars Story   \n",
       "2                en                  Finding Dory   \n",
       "3                en                      Zootopia   \n",
       "4                en               The Jungle Book   \n",
       "\n",
       "                                            overview  popularity  \\\n",
       "0  Following the events of Age of Ultron, the col...      86.040   \n",
       "1  A rogue band of resistance fighters unite for ...      37.495   \n",
       "2  Dory is reunited with her friends Nemo and Mar...      42.162   \n",
       "3  Determined to prove herself, Officer Judy Hopp...      60.016   \n",
       "4  A man-cub named Mowgli fostered by wolves. Aft...      34.177   \n",
       "\n",
       "                        poster_path release_date  \\\n",
       "0  /rAGiXaUfPzY7CDEyNKUofk3Kw2e.jpg   2016-04-27   \n",
       "1  /5jX3p0apUG5bkMHtnKZch0xpkBS.jpg   2016-12-14   \n",
       "2   /3UVe8NL1E2ZdUZ9EDlKGJY5UzE.jpg   2016-06-16   \n",
       "3  /hlK0e0wAQ3VLuJcsfIYPvb4JVud.jpg   2016-02-11   \n",
       "4  /tOEOlmLP71IojeJ91dyJ9Nsb8O8.jpg   2016-04-07   \n",
       "\n",
       "                          title  video  vote_average  vote_count  \n",
       "0    Captain America: Civil War  False           7.4       18129  \n",
       "1  Rogue One: A Star Wars Story  False           7.5       12139  \n",
       "2                  Finding Dory  False           7.0        9917  \n",
       "3                      Zootopia  False           7.7       12988  \n",
       "4               The Jungle Book  False           6.9        6655  "
      ],
      "text/html": "<div>\n<style scoped>\n    .dataframe tbody tr th:only-of-type {\n        vertical-align: middle;\n    }\n\n    .dataframe tbody tr th {\n        vertical-align: top;\n    }\n\n    .dataframe thead th {\n        text-align: right;\n    }\n</style>\n<table border=\"1\" class=\"dataframe\">\n  <thead>\n    <tr style=\"text-align: right;\">\n      <th></th>\n      <th>adult</th>\n      <th>backdrop_path</th>\n      <th>genre_ids</th>\n      <th>id</th>\n      <th>original_language</th>\n      <th>original_title</th>\n      <th>overview</th>\n      <th>popularity</th>\n      <th>poster_path</th>\n      <th>release_date</th>\n      <th>title</th>\n      <th>video</th>\n      <th>vote_average</th>\n      <th>vote_count</th>\n    </tr>\n  </thead>\n  <tbody>\n    <tr>\n      <th>0</th>\n      <td>False</td>\n      <td>/kvRT3GwcnqGHzPjXIVrVPhUix7Z.jpg</td>\n      <td>[12, 28, 878]</td>\n      <td>271110</td>\n      <td>en</td>\n      <td>Captain America: Civil War</td>\n      <td>Following the events of Age of Ultron, the col...</td>\n      <td>86.040</td>\n      <td>/rAGiXaUfPzY7CDEyNKUofk3Kw2e.jpg</td>\n      <td>2016-04-27</td>\n      <td>Captain America: Civil War</td>\n      <td>False</td>\n      <td>7.4</td>\n      <td>18129</td>\n    </tr>\n    <tr>\n      <th>1</th>\n      <td>False</td>\n      <td>/6t8ES1d12OzWyCGxBeDYLHoaDrT.jpg</td>\n      <td>[28, 12, 878]</td>\n      <td>330459</td>\n      <td>en</td>\n      <td>Rogue One: A Star Wars Story</td>\n      <td>A rogue band of resistance fighters unite for ...</td>\n      <td>37.495</td>\n      <td>/5jX3p0apUG5bkMHtnKZch0xpkBS.jpg</td>\n      <td>2016-12-14</td>\n      <td>Rogue One: A Star Wars Story</td>\n      <td>False</td>\n      <td>7.5</td>\n      <td>12139</td>\n    </tr>\n    <tr>\n      <th>2</th>\n      <td>False</td>\n      <td>/wijltj1toRcicHlCn8Cpsp4yPXe.jpg</td>\n      <td>[12, 16, 35, 10751]</td>\n      <td>127380</td>\n      <td>en</td>\n      <td>Finding Dory</td>\n      <td>Dory is reunited with her friends Nemo and Mar...</td>\n      <td>42.162</td>\n      <td>/3UVe8NL1E2ZdUZ9EDlKGJY5UzE.jpg</td>\n      <td>2016-06-16</td>\n      <td>Finding Dory</td>\n      <td>False</td>\n      <td>7.0</td>\n      <td>9917</td>\n    </tr>\n    <tr>\n      <th>3</th>\n      <td>False</td>\n      <td>/fGgsIJXTCofFOQydtvWmo9ZIzJX.jpg</td>\n      <td>[16, 12, 10751, 35]</td>\n      <td>269149</td>\n      <td>en</td>\n      <td>Zootopia</td>\n      <td>Determined to prove herself, Officer Judy Hopp...</td>\n      <td>60.016</td>\n      <td>/hlK0e0wAQ3VLuJcsfIYPvb4JVud.jpg</td>\n      <td>2016-02-11</td>\n      <td>Zootopia</td>\n      <td>False</td>\n      <td>7.7</td>\n      <td>12988</td>\n    </tr>\n    <tr>\n      <th>4</th>\n      <td>False</td>\n      <td>/tB2w4m0rW62MTufTjRj0gFLMVBP.jpg</td>\n      <td>[10751, 12, 18, 14]</td>\n      <td>278927</td>\n      <td>en</td>\n      <td>The Jungle Book</td>\n      <td>A man-cub named Mowgli fostered by wolves. Aft...</td>\n      <td>34.177</td>\n      <td>/tOEOlmLP71IojeJ91dyJ9Nsb8O8.jpg</td>\n      <td>2016-04-07</td>\n      <td>The Jungle Book</td>\n      <td>False</td>\n      <td>6.9</td>\n      <td>6655</td>\n    </tr>\n  </tbody>\n</table>\n</div>"
     },
     "metadata": {},
     "execution_count": 4
    }
   ],
   "source": [
    "movies_list_of_dict = [movie_d for movie_yr in movies for movie_d in movies[movie_yr]]\n",
    "df_movies = pd.DataFrame(movies_list_of_dict)\n",
    "df_movies.head()"
   ]
  },
  {
   "cell_type": "code",
   "execution_count": 5,
   "metadata": {},
   "outputs": [
    {
     "output_type": "execute_result",
     "data": {
      "text/plain": [
       "(3000, 14)"
      ]
     },
     "metadata": {},
     "execution_count": 5
    }
   ],
   "source": [
    "# See number of rows and columns, respectively:\n",
    "df_movies.shape"
   ]
  },
  {
   "cell_type": "code",
   "execution_count": null,
   "metadata": {},
   "outputs": [],
   "source": [
    "# Sanity check a few movie ids between df_movies and df_details:\n",
    "df_movies\n",
    "df_details\n"
   ]
  },
  {
   "cell_type": "code",
   "execution_count": 6,
   "metadata": {},
   "outputs": [],
   "source": [
    "# Create list of movie ids from Pandas df:\n",
    "movie_id_list = df_movies['id'].tolist()"
   ]
  },
  {
   "cell_type": "code",
   "execution_count": 7,
   "metadata": {},
   "outputs": [
    {
     "output_type": "stream",
     "name": "stdout",
     "text": [
      "781739\n"
     ]
    }
   ],
   "source": [
    "# Find any movies that would throw an error when used in: movie.details()\n",
    "\n",
    "my_keys = ['adult', 'budget', 'genres', 'id', 'imdb_id', 'original_language', 'original_title', 'popularity','production_companies', 'production_countries', 'release_date', 'revenue', 'runtime', 'spoken_languages', 'title', 'keywords']\n",
    "\n",
    "details_list = []\n",
    "\n",
    "for id_index in movie_id_list:\n",
    "    try:\n",
    "        r = movie.details(id_index)\n",
    "        details_list.extend({my_key: dict(r).get(my_key) for my_key in my_keys})\n",
    "    except:\n",
    "        print(id_index)\n",
    "        continue"
   ]
  },
  {
   "cell_type": "code",
   "execution_count": 8,
   "metadata": {},
   "outputs": [],
   "source": [
    "# There is one movie that threw an error. Check it out in our df_movies and then remove from movie_id_list\n",
    "movie_id_list.remove(781739)\n"
   ]
  },
  {
   "cell_type": "code",
   "execution_count": 9,
   "metadata": {},
   "outputs": [],
   "source": [
    "my_keys = ['adult', 'budget', 'genres', 'id', 'imdb_id', 'original_language', 'original_title', 'popularity','production_companies', 'production_countries', 'release_date', 'revenue', 'runtime', 'spoken_languages', 'title', 'keywords']\n",
    "\n",
    "details_list = []\n",
    "\n",
    "for id_index in movie_id_list:\n",
    "    try:\n",
    "        r = movie.details(id_index)\n",
    "        details_list.extend({my_key: dict(r).get(my_key) for my_key in my_keys})\n",
    "    except:\n",
    "        print(id_index)\n",
    "        continue"
   ]
  },
  {
   "cell_type": "code",
   "execution_count": 10,
   "metadata": {},
   "outputs": [
    {
     "output_type": "stream",
     "name": "stdout",
     "text": [
      "{'adult': False, 'budget': 250000000, 'genres': [{'id': 12, 'name': 'Adventure'}, {'id': 28, 'name': 'Action'}, {'id': 878, 'name': 'Science Fiction'}], 'id': 271110, 'imdb_id': 'tt3498820', 'original_language': 'en', 'original_title': 'Captain America: Civil War', 'popularity': 86.04, 'production_companies': [{'id': 420, 'logo_path': '/hUzeosd33nzE5MCNsZxCGEKTXaQ.png', 'name': 'Marvel Studios', 'origin_country': 'US'}], 'production_countries': [{'iso_3166_1': 'US', 'name': 'United States of America'}], 'release_date': '2016-04-27', 'revenue': 1153296293, 'runtime': 147, 'spoken_languages': [{'english_name': 'Romanian', 'iso_639_1': 'ro', 'name': 'Română'}, {'english_name': 'English', 'iso_639_1': 'en', 'name': 'English'}, {'english_name': 'German', 'iso_639_1': 'de', 'name': 'Deutsch'}, {'english_name': 'Russian', 'iso_639_1': 'ru', 'name': 'Pусский'}], 'title': 'Captain America: Civil War', 'keywords': {'keywords': [{'id': 393, 'name': 'civil war'}, {'id': 9663, 'name': 'sequel'}, {'id': 9715, 'name': 'superhero'}, {'id': 9717, 'name': 'based on comic'}, {'id': 179430, 'name': 'aftercreditsstinger'}, {'id': 179431, 'name': 'duringcreditsstinger'}, {'id': 180547, 'name': 'marvel cinematic universe (mcu)'}]}}\n"
     ]
    }
   ],
   "source": [
    "# small_list_ids = [271110, 330459, 127380, 269149, 278927, 328111, 209112, 259316, 293660, 297761]\n",
    "\n",
    "my_keys = ['adult', 'budget', 'genres', 'id', 'imdb_id', 'original_language', 'original_title', 'popularity','production_companies', 'production_countries', 'release_date', 'revenue', 'runtime', 'spoken_languages', 'title', 'keywords']\n",
    "\n",
    "# In case any of the movies are missing any of the above keys, use:\n",
    "# dict.get(key, default_value)\n",
    "# This is one way in which I dealt with missing values that I was receiving in the API\n",
    "\n",
    "details_list = []\n",
    "details_list.extend({my_key: dict(movie.details(id_index)).get(my_key) for my_key in my_keys} for id_index in movie_id_list)\n",
    "print(details_list[0])"
   ]
  },
  {
   "cell_type": "code",
   "execution_count": 71,
   "metadata": {},
   "outputs": [
    {
     "output_type": "execute_result",
     "data": {
      "text/plain": [
       "   adult     budget                                            genres      id  \\\n",
       "0  False  250000000              [[id, name], [id, name], [id, name]]  271110   \n",
       "1  False  200000000              [[id, name], [id, name], [id, name]]  330459   \n",
       "2  False  200000000  [[id, name], [id, name], [id, name], [id, name]]  127380   \n",
       "\n",
       "     imdb_id original_language                original_title  popularity  \\\n",
       "0  tt3498820                en    Captain America: Civil War      86.040   \n",
       "1  tt3748528                en  Rogue One: A Star Wars Story      37.495   \n",
       "2  tt2277860                en                  Finding Dory      42.162   \n",
       "\n",
       "                      production_companies  production_countries release_date  \\\n",
       "0  [[id, logo_path, name, origin_country]]  [[iso_3166_1, name]]   2016-04-27   \n",
       "1  [[id, logo_path, name, origin_country]]  [[iso_3166_1, name]]   2016-12-14   \n",
       "2  [[id, logo_path, name, origin_country]]  [[iso_3166_1, name]]   2016-06-16   \n",
       "\n",
       "      revenue  runtime                                   spoken_languages  \\\n",
       "0  1153296293    147.0  [[english_name, iso_639_1, name], [english_nam...   \n",
       "1  1056057273    133.0                  [[english_name, iso_639_1, name]]   \n",
       "2  1028570889     97.0                  [[english_name, iso_639_1, name]]   \n",
       "\n",
       "                          title    keywords  \n",
       "0    Captain America: Civil War  [keywords]  \n",
       "1  Rogue One: A Star Wars Story  [keywords]  \n",
       "2                  Finding Dory  [keywords]  "
      ],
      "text/html": "<div>\n<style scoped>\n    .dataframe tbody tr th:only-of-type {\n        vertical-align: middle;\n    }\n\n    .dataframe tbody tr th {\n        vertical-align: top;\n    }\n\n    .dataframe thead th {\n        text-align: right;\n    }\n</style>\n<table border=\"1\" class=\"dataframe\">\n  <thead>\n    <tr style=\"text-align: right;\">\n      <th></th>\n      <th>adult</th>\n      <th>budget</th>\n      <th>genres</th>\n      <th>id</th>\n      <th>imdb_id</th>\n      <th>original_language</th>\n      <th>original_title</th>\n      <th>popularity</th>\n      <th>production_companies</th>\n      <th>production_countries</th>\n      <th>release_date</th>\n      <th>revenue</th>\n      <th>runtime</th>\n      <th>spoken_languages</th>\n      <th>title</th>\n      <th>keywords</th>\n    </tr>\n  </thead>\n  <tbody>\n    <tr>\n      <th>0</th>\n      <td>False</td>\n      <td>250000000</td>\n      <td>[[id, name], [id, name], [id, name]]</td>\n      <td>271110</td>\n      <td>tt3498820</td>\n      <td>en</td>\n      <td>Captain America: Civil War</td>\n      <td>86.040</td>\n      <td>[[id, logo_path, name, origin_country]]</td>\n      <td>[[iso_3166_1, name]]</td>\n      <td>2016-04-27</td>\n      <td>1153296293</td>\n      <td>147.0</td>\n      <td>[[english_name, iso_639_1, name], [english_nam...</td>\n      <td>Captain America: Civil War</td>\n      <td>[keywords]</td>\n    </tr>\n    <tr>\n      <th>1</th>\n      <td>False</td>\n      <td>200000000</td>\n      <td>[[id, name], [id, name], [id, name]]</td>\n      <td>330459</td>\n      <td>tt3748528</td>\n      <td>en</td>\n      <td>Rogue One: A Star Wars Story</td>\n      <td>37.495</td>\n      <td>[[id, logo_path, name, origin_country]]</td>\n      <td>[[iso_3166_1, name]]</td>\n      <td>2016-12-14</td>\n      <td>1056057273</td>\n      <td>133.0</td>\n      <td>[[english_name, iso_639_1, name]]</td>\n      <td>Rogue One: A Star Wars Story</td>\n      <td>[keywords]</td>\n    </tr>\n    <tr>\n      <th>2</th>\n      <td>False</td>\n      <td>200000000</td>\n      <td>[[id, name], [id, name], [id, name], [id, name]]</td>\n      <td>127380</td>\n      <td>tt2277860</td>\n      <td>en</td>\n      <td>Finding Dory</td>\n      <td>42.162</td>\n      <td>[[id, logo_path, name, origin_country]]</td>\n      <td>[[iso_3166_1, name]]</td>\n      <td>2016-06-16</td>\n      <td>1028570889</td>\n      <td>97.0</td>\n      <td>[[english_name, iso_639_1, name]]</td>\n      <td>Finding Dory</td>\n      <td>[keywords]</td>\n    </tr>\n  </tbody>\n</table>\n</div>"
     },
     "metadata": {},
     "execution_count": 71
    }
   ],
   "source": [
    "# Convert details_list to a pandas df:\n",
    "df_details = pd.DataFrame(details_list)\n",
    "df_details[0:3]"
   ]
  },
  {
   "cell_type": "code",
   "execution_count": 24,
   "metadata": {},
   "outputs": [
    {
     "output_type": "stream",
     "name": "stdout",
     "text": [
      "<class 'pandas.core.frame.DataFrame'>\nRangeIndex: 2999 entries, 0 to 2998\nData columns (total 16 columns):\n #   Column                Non-Null Count  Dtype  \n---  ------                --------------  -----  \n 0   adult                 2999 non-null   bool   \n 1   budget                2999 non-null   int64  \n 2   genres                2999 non-null   object \n 3   id                    2999 non-null   int64  \n 4   imdb_id               2283 non-null   object \n 5   original_language     2999 non-null   object \n 6   original_title        2999 non-null   object \n 7   popularity            2999 non-null   float64\n 8   production_companies  2999 non-null   object \n 9   production_countries  2999 non-null   object \n 10  release_date          2999 non-null   object \n 11  revenue               2999 non-null   int64  \n 12  runtime               2998 non-null   float64\n 13  spoken_languages      2999 non-null   object \n 14  title                 2999 non-null   object \n 15  keywords              2999 non-null   object \ndtypes: bool(1), float64(2), int64(3), object(10)\nmemory usage: 354.5+ KB\n"
     ]
    },
    {
     "output_type": "execute_result",
     "data": {
      "text/plain": [
       "False    2999\n",
       "Name: adult, dtype: int64"
      ]
     },
     "metadata": {},
     "execution_count": 24
    }
   ],
   "source": [
    "# Take initial stock:\n",
    "df_details.index\n",
    "df_details.info()\n",
    "df_details.columns\n",
    "df_details.dtypes\n"
   ]
  },
  {
   "cell_type": "code",
   "execution_count": 90,
   "metadata": {},
   "outputs": [],
   "source": [
    "# Future: Could check original language by connecting with IMDb & checking language from there - could also use LetterBox\n",
    "# Detect non-english strings in title and remove them from df_details:\n",
    "# Set display option so that we can see all rows because we will likely manually review the values:\n",
    "pd.set_option('display.max_rows', df_details.shape[0]+1)\n",
    "\n",
    "# Create function to detect non-english strings:\n",
    "def detect_en(ascii_string):\n",
    "    try:\n",
    "        ascii_string.encode(encoding='utf-8').decode('ascii')\n",
    "    except UnicodeDecodeError:\n",
    "        return False\n",
    "    else:\n",
    "        return True\n",
    "\n",
    "column_names = [\"id\", \"title\"]\n",
    "flag_non_en = pd.DataFrame(columns = column_names)\n",
    "for item in df_details.loc[:, 'title']:\n",
    "    if isEnglish(item) == False:\n",
    "        flag_non_en = flag_non_en.append(df_details[['id','title']].loc[df_details['title'] == item])\n",
    "# print(flag_non_en)\n",
    "\n",
    "# I identified these movies as being filmed in a language other than English, by conducting internet research on the titles in flag_non_en\n",
    "\n"
   ]
  },
  {
   "cell_type": "code",
   "execution_count": null,
   "metadata": {},
   "outputs": [],
   "source": [
    "# Create list of movie ids that you want to remove from df_details, based on internet research to see if original language is English:\n",
    "# 720980      Express Yourself: Die Tänzer der Queen of Pop\n",
    "# 676624                                               عتيج\n",
    "# 671272                              Óleos en la oscuridad\n",
    "# 664648                                          Crisálida\n",
    "# 692856                                              Avīci\n",
    "# 691836                      Avante (Ao Vivo em São Paulo)\n",
    "# 680817                                      Hranice práce\n",
    "# 676912                                            Sátiros\n",
    "# 703348                                               عقلي\n",
    "# 720570                                   maníaco da ponte\n",
    "# 832125                                  Ghostemane: Ímpio\n",
    "# 806831                 História Secreta do Pop Brasileiro\n",
    "# 783999        Crimes de haine en Amérique : l'inquiétante\n",
    "# 740354                                          Bach-Hông\n",
    "# 793311                                   Toilette d’amour\n",
    "# 787619                                           Czyściec\n",
    "# 832310                                           Verrückt\n",
    "# 822161                                         ¿Libertad?\n",
    "# 802434                                              Acéré\n",
    "\n",
    "\n",
    "# Remove rows with these ids from df_details:\n",
    "non_eng_ids = [720980, 676624, 671272, 664648, 692856, 691836, 680817, 676912, 703348, 720570, 832125, 806831, 783999, 740354, 793311, 787619, 832310, 822161, 802434]\n"
   ]
  },
  {
   "cell_type": "code",
   "execution_count": 148,
   "metadata": {},
   "outputs": [
    {
     "output_type": "stream",
     "name": "stdout",
     "text": [
      "<class 'list'>\n<class 'tmdbv3api.as_obj.AsObj'>\n[{'id': 12, 'name': 'Adventure'}, {'id': 28, 'name': 'Action'}, {'id': 878, 'name': 'Science Fiction'}]\n<class 'list'>\n<class 'tmdbv3api.as_obj.AsObj'>\n[{'id': 28, 'name': 'Action'}, {'id': 12, 'name': 'Adventure'}, {'id': 878, 'name': 'Science Fiction'}]\n<class 'list'>\n<class 'tmdbv3api.as_obj.AsObj'>\n[{'id': 12, 'name': 'Adventure'}, {'id': 16, 'name': 'Animation'}, {'id': 35, 'name': 'Comedy'}, {'id': 10751, 'name': 'Family'}]\n<class 'list'>\n<class 'tmdbv3api.as_obj.AsObj'>\n[{'id': 16, 'name': 'Animation'}, {'id': 12, 'name': 'Adventure'}, {'id': 10751, 'name': 'Family'}, {'id': 35, 'name': 'Comedy'}]\n<class 'list'>\n<class 'tmdbv3api.as_obj.AsObj'>\n[{'id': 10751, 'name': 'Family'}, {'id': 12, 'name': 'Adventure'}, {'id': 18, 'name': 'Drama'}, {'id': 14, 'name': 'Fantasy'}]\n<class 'list'>\n<class 'tmdbv3api.as_obj.AsObj'>\n[{'id': 12, 'name': 'Adventure'}, {'id': 35, 'name': 'Comedy'}, {'id': 16, 'name': 'Animation'}, {'id': 10751, 'name': 'Family'}]\n"
     ]
    }
   ],
   "source": [
    "# Preview the object columns and convert each variable to a separate Boolean column\n",
    "# Make Keywords column one long string\n",
    "my_sample = df_details.loc[0:5, 'genres']\n",
    "type(my_sample)\n",
    "my_sample\n",
    "for mystery in my_sample:\n",
    "    print(type(mystery))\n",
    "    print(type(mystery[0]))\n",
    "    print(mystery)\n",
    "# df_new = pd.json_normalize(df_details, 'genres', ['id','title'])\n"
   ]
  },
  {
   "cell_type": "code",
   "execution_count": null,
   "metadata": {},
   "outputs": [],
   "source": [
    "for obj_in_list in df_details.loc[:, 'genres']:\n",
    "\n",
    "# Let's call this \"custom_sum\" as \"sum\" is a built-in function\n",
    "def convert_to_dict(val):\n",
    "    for obj_in_list in df_details.loc[:, 'genres']:\n",
    "    return row.sum()\n",
    "    \n",
    "df['D'] = df.apply(custom_sum, axis=1)"
   ]
  },
  {
   "cell_type": "code",
   "execution_count": 121,
   "metadata": {},
   "outputs": [],
   "source": [
    "# def convert_to_list_of_dict(val):\n",
    "#     list_of_dict_tmdb = []\n",
    "#     for obj_in_list in val:\n",
    "#         list_of_dict_tmdb.append(dict(obj_in_list))\n",
    "#     return list_of_dict_tmdb\n",
    "\n",
    "# df_details['genres_list_dict'] = df_details['genres'].apply(convert_to_dict)\n",
    "\n",
    "# df_details['genres_list_dict'] \n"
   ]
  },
  {
   "cell_type": "code",
   "execution_count": 149,
   "metadata": {},
   "outputs": [
    {
     "output_type": "stream",
     "name": "stdout",
     "text": [
      "<class 'list'>\n<class 'dict'>\n[{'id': 12, 'name': 'Adventure'}, {'id': 28, 'name': 'Action'}, {'id': 878, 'name': 'Science Fiction'}]\n<class 'list'>\n<class 'dict'>\n[{'id': 28, 'name': 'Action'}, {'id': 12, 'name': 'Adventure'}, {'id': 878, 'name': 'Science Fiction'}]\n<class 'list'>\n<class 'dict'>\n[{'id': 12, 'name': 'Adventure'}, {'id': 16, 'name': 'Animation'}, {'id': 35, 'name': 'Comedy'}, {'id': 10751, 'name': 'Family'}]\n<class 'list'>\n<class 'dict'>\n[{'id': 16, 'name': 'Animation'}, {'id': 12, 'name': 'Adventure'}, {'id': 10751, 'name': 'Family'}, {'id': 35, 'name': 'Comedy'}]\n<class 'list'>\n<class 'dict'>\n[{'id': 10751, 'name': 'Family'}, {'id': 12, 'name': 'Adventure'}, {'id': 18, 'name': 'Drama'}, {'id': 14, 'name': 'Fantasy'}]\n<class 'list'>\n<class 'dict'>\n[{'id': 12, 'name': 'Adventure'}, {'id': 35, 'name': 'Comedy'}, {'id': 16, 'name': 'Animation'}, {'id': 10751, 'name': 'Family'}]\n"
     ]
    }
   ],
   "source": [
    "def convert_to_list_of_dict(val):\n",
    "    val = [dict(x) for x in val]\n",
    "    return val\n",
    "\n",
    "#   movies[year].extend([dict(tmdb_obj) for tmdb_obj in movies_running])\n",
    "            # Preview original movie titles:\n",
    "# def convert_to_list_of_dict(val):\n",
    "#     list_dict_new = []\n",
    "#     for val_obj_tmdb in val:\n",
    "#         list_dict_new.append(dict(val_obj_tmdb))\n",
    "#         return list_dict_new\n",
    "\n",
    "\n",
    "df_details['genres_list_dict'] = df_details.loc[:,'genres'].apply(convert_to_list_of_dict)\n",
    "\n",
    "my_sample = df_details.loc[0:5, 'genres_list_dict']\n",
    "for mystery in my_sample:\n",
    "    print(type(mystery))\n",
    "    print(type(mystery[0]))\n",
    "    print(mystery)"
   ]
  },
  {
   "cell_type": "code",
   "execution_count": 143,
   "metadata": {},
   "outputs": [],
   "source": [
    "# list_of_dict_tmdb = []\n",
    "# for list_obj in df_details.loc[:,'genres']:\n",
    "#     for my_obj in list_obj:\n",
    "#         list_of_dict_tmdb.append(dict(my_obj))\n",
    "# list_of_dict_tmdb"
   ]
  },
  {
   "cell_type": "code",
   "execution_count": null,
   "metadata": {},
   "outputs": [],
   "source": [
    "# Drop adult column:\n",
    "df.drop('DESC', axis=1)"
   ]
  },
  {
   "cell_type": "code",
   "execution_count": null,
   "metadata": {},
   "outputs": [],
   "source": [
    "# Re-order columns"
   ]
  },
  {
   "cell_type": "code",
   "execution_count": null,
   "metadata": {},
   "outputs": [],
   "source": [
    "# Decide what to do with these\n",
    "# These don't look legitimate:\n",
    "movie_02\n",
    "813075\n",
    "\n",
    "movie_01\n",
    "813064\n",
    "\n",
    "welcome_home.exe\n",
    "82418\n",
    "\n",
    "jji\n",
    "763071\n",
    "\n",
    "# There's a double entry for this movie:\n",
    "Split\n",
    "358364\n",
    "Split\n",
    "381288"
   ]
  }
 ],
 "metadata": {
  "kernelspec": {
   "name": "python3",
   "display_name": "Python 3.6.9 64-bit ('learn-env': conda)"
  },
  "language_info": {
   "codemirror_mode": {
    "name": "ipython",
    "version": 3
   },
   "file_extension": ".py",
   "mimetype": "text/x-python",
   "name": "python",
   "nbconvert_exporter": "python",
   "pygments_lexer": "ipython3",
   "version": "3.6.9"
  },
  "interpreter": {
   "hash": "5d1f83e9c63cec2de7bdeb43eb17fdae110b98c2255761b9e5cd119be6dbfe82"
  }
 },
 "nbformat": 4,
 "nbformat_minor": 2
}