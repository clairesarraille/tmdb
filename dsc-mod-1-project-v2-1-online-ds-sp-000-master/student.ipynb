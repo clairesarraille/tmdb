{
 "cells": [
  {
   "cell_type": "markdown",
   "metadata": {},
   "source": [
    "## Final Project Submission\n",
    "\n",
    "Please fill out:\n",
    "* Student name: Claire Sarraille\n",
    "* Student pace: self paced\n",
    "* Scheduled project review date/time:  Monday June 14th 1pm PST\n",
    "* Instructor name: Jeff Herman\n",
    "* Project Repo URL: https://github.com/clairesarraille/mod1finproj/tree/main/dsc-mod-1-project-v2-1-online-ds-sp-000-master\n",
    "* Blog post URL:\n"
   ]
  },
  {
   "source": [
    "Set environment before running this script with: conda activate learn-env\n",
    "Import datascience libraries:"
   ],
   "cell_type": "markdown",
   "metadata": {}
  },
  {
   "cell_type": "code",
   "execution_count": 434,
   "metadata": {},
   "outputs": [],
   "source": [
    "# Import datascience libraries:\n",
    "import pandas as pd\n",
    "import matplotlib\n",
    "import matplotlib.pyplot as plt\n",
    "from matplotlib.ticker import StrMethodFormatter\n",
    "%matplotlib inline\n",
    "import numpy as np\n",
    "\n",
    "# Import libraries for fetching and formatting data:\n",
    "from tmdbv3api import TMDb, Discover, Movie\n",
    "import os\n",
    "\n",
    "# Import libraries for performing operations:\n",
    "from math import ceil\n",
    "\n",
    "# Load classes from tmdbv3api - a python library for The Movie Database (TMDb) API\n",
    "tmdb = TMDb()\n",
    "discover = Discover()\n",
    "movie = Movie()\n",
    "\n",
    "# Store my API key in my previously set environment variable as a tmdb.api_key string\n",
    "priv_api_key = os.environ.get('TMDB_PRIVATE_API_KEY')\n",
    "tmdb.api_key = priv_api_key\n"
   ]
  },
  {
   "source": [
    "Preview of discover.discover_movies data:\n",
    "\n",
    "I used this function to quickly scan a sub-set of titles & tweak variables such as:\n",
    "- 'with_original_language': 'en'\n",
    "\n",
    "I used a slightly different function to pretty-print samples of all info for a sub-set of movies. See appendix."
   ],
   "cell_type": "markdown",
   "metadata": {}
  },
  {
   "cell_type": "code",
   "execution_count": 266,
   "metadata": {},
   "outputs": [],
   "source": [
    "def print_sample_tmdb(m, m_r, p, y):\n",
    "    print()\n",
    "    print(f\"Year is: {y}\")\n",
    "    print(f\"Page is: {p +1}\")\n",
    "    print(f\"There are {len(m[y])} movies in movies dict for {y}\")\n",
    "    for d in m_r[0:1]:\n",
    "        print(\"sample original title: \", (dict(d))['original_title'])\n",
    "    print()\n",
    "    "
   ]
  },
  {
   "source": [
    "Function to extract 500 movies each for years 2016-2021 inclusive, sorted by revenue descending\n",
    "This line is commented out in the code below, to preserve space in the notebook:\n",
    "- print_sample_tmdb(movies, movies_running, page, year)"
   ],
   "cell_type": "markdown",
   "metadata": {}
  },
  {
   "cell_type": "code",
   "execution_count": 267,
   "metadata": {
    "tags": []
   },
   "outputs": [],
   "source": [
    "# This function uses the discover.discover_movies() method from the tmdbv3api package to intake initial movie data:\n",
    "\n",
    "# Define Constants\n",
    "# Constants are usually defined on a module level and written in all capital letters with underscores separating words\n",
    "N_YEAR_RANGE = range(2016, 2022)  # grab 2016-2021 data, inclusive\n",
    "N_RESULT = 500  # Enter number of results desired for each year\n",
    "N_RESULT_PAGE = 20  # Discover() class returns 20 results per page\n",
    "# Num pages = Num results / num results per page, rounded UP using math.ceil\n",
    "N_PAGES = ceil(N_RESULT / N_RESULT_PAGE)\n",
    "\n",
    "# Instantiate empty dictionary movies to store outside of the following loops,\n",
    "# because you want to use movies after loops are finished executing\n",
    "movies = {}\n",
    "\n",
    "# Function to grab data from discover.discover_movies:\n",
    "\n",
    "\n",
    "def return_discover_movies():\n",
    "    for year in N_YEAR_RANGE:  # iterate through years 2000-2019 inclusive\n",
    "        # Keys are integers for each year\n",
    "        # Values will be lists of tmdbv3api objects, converted to dictionaries\n",
    "        movies[year] = []\n",
    "        for page in range(0, N_PAGES):\n",
    "            # For N_PAGES, create list movies_running, querying results by year, page, & sort revenue desc\n",
    "            # The objects within movies_running 'tmdbv3api.as_obj.AsObj' objects, and will need to be converted to dictionaries later\n",
    "            movies_running = discover.discover_movies({\n",
    "                # We want to sort by revenue so that we make sure we're getting the highest grossing movies in each batch of 500\n",
    "                'sort_by': 'revenue.desc',\n",
    "                'primary_release_year': str(year),\n",
    "                # API is 1 indexed - so we grab pages 1 to N_PAGES inclusive\n",
    "                'page': str(page + 1),\n",
    "                # Movies with 0 votes are likely among the most unpopular. OK to filter by at least 1 vote.\n",
    "                'vote_count.gte': 1,\n",
    "                # Since our studio is still in R&D mode, we'll focus on movies originally shot in English\n",
    "                'with_original_language': 'en'\n",
    "            })\n",
    "            # For each year in our movies dictionary, store the year as a key (datatype list) in dictionary \"movies\"\n",
    "            # Then, iterate through 'tmdbv3api.as_obj.AsObj' objects in movies_running for N_PAGES, converting each object as a dictionary\n",
    "            # For each year we will have a list of dictionaries, and each dictionary is a set of information for a single movie\n",
    "            # .extend used rather than .append in order to extend our list by >1 items at once\n",
    "            movies[year].extend([dict(tmdb_obj)\n",
    "                                for tmdb_obj in movies_running])\n",
    "\n",
    "            # print_sample_tmdb(movies, movies_running, page, year)  # Preview original movie titles:\n",
    "\n",
    "\n",
    "# Now we have our dictionary movies, with years 2000-2019 inclusive, each with 100 movies in each list from that year\n",
    "# We didn't need to return movies in the definition of this function, because movies was declared before the function\n",
    "return_discover_movies()\n"
   ]
  },
  {
   "source": [
    "# Now that we've collected our 3,000 titles, sorted by descending revenue for each year, let's do some initial data exploration and clenaing:"
   ],
   "cell_type": "markdown",
   "metadata": {}
  },
  {
   "cell_type": "code",
   "execution_count": 268,
   "metadata": {
    "tags": []
   },
   "outputs": [
    {
     "output_type": "stream",
     "name": "stdout",
     "text": [
      "The total movie count returned from our return_discover_movies() function above is: \n3000\n\nThe keys in our movies dictionary are:\ndict_keys([2016, 2017, 2018, 2019, 2020, 2021])\n"
     ]
    }
   ],
   "source": [
    "# Sanity check there are 3,000 titles in movies dictionary\n",
    "# Print ALL movie titles and ids from movies dictionary to qa_titles.txt for data-cleaning prep: manual review\n",
    "movie_count = 0\n",
    "for year in movies:\n",
    "    for moo_vie in range(0, len(movies[year])):\n",
    "        movie_count += 1\n",
    "        my_string = f\"{movies[year][moo_vie]['title']}       {movies[year][moo_vie]['id']}\"\n",
    "        with open(\"/Users/clairesarraille/git-repos/mod1finproj/dsc-mod-1-project-v2-1-online-ds-sp-000-master/qa_files/qa_titles.txt\", \"a+\", encoding='utf-8') as file_object:\n",
    "            # Move read cursor to the start of file.\n",
    "            file_object.seek(0)\n",
    "            data = file_object.read(100)\n",
    "            if len(data) > 0:\n",
    "                file_object.write(\"\\n\")\n",
    "            file_object.write(my_string)\n",
    "\n",
    "# Print movie counts in movies dict:\n",
    "print(\"The total movie count returned from our return_discover_movies() function above is: \")\n",
    "print(movie_count)\n",
    "\n",
    "# Print keys in movies dict:\n",
    "print()\n",
    "print(\"The keys in our movies dictionary are:\")\n",
    "print(movies.keys())\n"
   ]
  },
  {
   "source": [
    "While scanning the above list, I found the following that I'll use to develop some data clean-up methods:\n",
    "\n",
    "- These don't look legitimate:\n",
    "    - movie_02    813075\n",
    "    - movie_01    813064\n",
    "    - welcome_home.exe    82418\n",
    "    - jji    763071\n",
    "\n",
    "- There's a double entry for this movie:\n",
    "    - Split    358364\n",
    "    - Split    381288\n",
    "\n",
    "- Not in English, this one I later caught when running the analysis to find non-ascii characters:\n",
    "    - عتيج    676624\n"
   ],
   "cell_type": "markdown",
   "metadata": {}
  },
  {
   "cell_type": "code",
   "execution_count": 325,
   "metadata": {},
   "outputs": [
    {
     "output_type": "stream",
     "name": "stdout",
     "text": [
      "movie_02\n813075\n2021-04-02\nAn experimental short shot in March of 2021.\n0.6\n\nmovie_01\n813064\n2021-03-24\nAn experimental short shot over summer 2020.\n0.6\n\nwelcome_home.exe\n824186\n2021-04-29\nAs technology accelerates, our species' collective imagination of the future grows ever more kaleidoscopic. We are all haunted by temporal distortion, perhaps no more than when we attempt to remember what the future looked like to our younger selves. As the mist of time devours our memories, the future recedes; each of us burdened by the gaping mouth of entropy. Yet, emerging technology provides a glimmer of hope; transhumanism promises a future free from mortality, disease and pain. Does our salvation lie in digital simulacra? We're here to sell you the answer to that question, for the low, low price of four hundred and seventy seconds.\n0.6\n\njji\n763071\n2019-04-19\nthe summer breathes.\n0.6\n\nSplit\n358364\n2016-04-07\nThe story of a young woman who takes an epic journey to claim her own darkness and sexuality so she can stop putting it into the hands of her abusive lover.  When Inanna, a young actress, working as a stripper, becomes obsessed with a mask maker, she sacrifices parts of herself and her life, piece by piece, in order to win his love.  At the same time she enters a mythic journey in the theater.  One that forces her to face the many abuses endured by women around that world and that blurs her performance, her dreams and her real life and results in a provocative and powerful confrontation that frees her. -- from official website\n2.439\n\nSplit\n381288\n2016-11-15\nThough Kevin has evidenced 23 personalities to his trusted psychiatrist, Dr. Fletcher, there remains one still submerged who is set to materialize and dominate all the others. Compelled to abduct three teenage girls led by the willful, observant Casey, Kevin reaches a war for survival among all of those contained within him — as well as everyone around him — as the walls between his compartments shatter apart.\n62.109\n\n"
     ]
    }
   ],
   "source": [
    "# Upon internet research and cross-referencing I found that they're all legitimate movies. Nice!\n",
    "\n",
    "likely_suspects = [813075,813064,824186,763071,358364,381288]\n",
    "\n",
    "for suspect in likely_suspects:\n",
    "    m = movie.details(suspect)   \n",
    "    print(m.title)\n",
    "    print(m.id)\n",
    "    print(m.release_date)\n",
    "    print(m.overview)\n",
    "    print(m.popularity)\n",
    "    print()\n"
   ]
  },
  {
   "cell_type": "code",
   "execution_count": 269,
   "metadata": {},
   "outputs": [
    {
     "output_type": "stream",
     "name": "stdout",
     "text": [
      "Bigfoot vs the Illuminati\n784281\n\nCheez-It's & Chili\n802103\n\nA Tiny House Christmas\n796438\n\n"
     ]
    }
   ],
   "source": [
    "# Check that API is working properly by spot-checking movie titles/ids between methods discover.discover_movies and movie.details()\n",
    "\n",
    "# Expected data (from discover.movies)\n",
    "# Bigfoot vs the Illuminati\n",
    "# 784281\n",
    "my_result = movie.details(784281)\n",
    "print(my_result.title)\n",
    "print(my_result.id)\n",
    "print()\n",
    "\n",
    "# Expected data (from discover.movies)\n",
    "# Cheez-It's & Chili\n",
    "# 802103\n",
    "my_result = movie.details(802103)\n",
    "print(my_result.title)\n",
    "print(my_result.id)\n",
    "print()\n",
    "\n",
    "# Expected data (from discover.movies)\n",
    "# A Tiny House Christmas\n",
    "# 796438\n",
    "my_result = movie.details(796438)\n",
    "print(my_result.title)\n",
    "print(my_result.id)\n",
    "print()\n"
   ]
  },
  {
   "source": [
    "Our movies dictionary has keys for years 2016-2021\n",
    "The value for each year is a list of dictionaries. Each dictionary is a movie.\n",
    "To turn this data into a Pandas datastructure, we iterate through all the years and all the dictionaries in each year\n",
    "Our result, movies_list_of_dict is a simple list of all the movie dictionaries.\n",
    "All we have to do then is use pd.DataFrame() to use the keys as column headers and the values as the cell values in rows."
   ],
   "cell_type": "markdown",
   "metadata": {}
  },
  {
   "cell_type": "code",
   "execution_count": 270,
   "metadata": {},
   "outputs": [],
   "source": [
    "movies_list_of_dict = [movie_d for movie_yr in movies for movie_d in movies[movie_yr]]\n",
    "df_movies = pd.DataFrame(movies_list_of_dict)\n"
   ]
  },
  {
   "cell_type": "code",
   "execution_count": 271,
   "metadata": {},
   "outputs": [
    {
     "output_type": "execute_result",
     "data": {
      "text/plain": [
       "   adult                     backdrop_path            genre_ids      id  \\\n",
       "0  False  /kvRT3GwcnqGHzPjXIVrVPhUix7Z.jpg        [12, 28, 878]  271110   \n",
       "1  False  /6t8ES1d12OzWyCGxBeDYLHoaDrT.jpg        [28, 12, 878]  330459   \n",
       "2  False  /wijltj1toRcicHlCn8Cpsp4yPXe.jpg  [12, 16, 35, 10751]  127380   \n",
       "\n",
       "  original_language                original_title  \\\n",
       "0                en    Captain America: Civil War   \n",
       "1                en  Rogue One: A Star Wars Story   \n",
       "2                en                  Finding Dory   \n",
       "\n",
       "                                            overview  popularity  \\\n",
       "0  Following the events of Age of Ultron, the col...      86.040   \n",
       "1  A rogue band of resistance fighters unite for ...      37.495   \n",
       "2  Dory is reunited with her friends Nemo and Mar...      42.162   \n",
       "\n",
       "                        poster_path release_date  \\\n",
       "0  /rAGiXaUfPzY7CDEyNKUofk3Kw2e.jpg   2016-04-27   \n",
       "1  /5jX3p0apUG5bkMHtnKZch0xpkBS.jpg   2016-12-14   \n",
       "2   /3UVe8NL1E2ZdUZ9EDlKGJY5UzE.jpg   2016-06-16   \n",
       "\n",
       "                          title  video  vote_average  vote_count  \n",
       "0    Captain America: Civil War  False           7.4       18129  \n",
       "1  Rogue One: A Star Wars Story  False           7.5       12139  \n",
       "2                  Finding Dory  False           7.0        9917  "
      ],
      "text/html": "<div>\n<style scoped>\n    .dataframe tbody tr th:only-of-type {\n        vertical-align: middle;\n    }\n\n    .dataframe tbody tr th {\n        vertical-align: top;\n    }\n\n    .dataframe thead th {\n        text-align: right;\n    }\n</style>\n<table border=\"1\" class=\"dataframe\">\n  <thead>\n    <tr style=\"text-align: right;\">\n      <th></th>\n      <th>adult</th>\n      <th>backdrop_path</th>\n      <th>genre_ids</th>\n      <th>id</th>\n      <th>original_language</th>\n      <th>original_title</th>\n      <th>overview</th>\n      <th>popularity</th>\n      <th>poster_path</th>\n      <th>release_date</th>\n      <th>title</th>\n      <th>video</th>\n      <th>vote_average</th>\n      <th>vote_count</th>\n    </tr>\n  </thead>\n  <tbody>\n    <tr>\n      <th>0</th>\n      <td>False</td>\n      <td>/kvRT3GwcnqGHzPjXIVrVPhUix7Z.jpg</td>\n      <td>[12, 28, 878]</td>\n      <td>271110</td>\n      <td>en</td>\n      <td>Captain America: Civil War</td>\n      <td>Following the events of Age of Ultron, the col...</td>\n      <td>86.040</td>\n      <td>/rAGiXaUfPzY7CDEyNKUofk3Kw2e.jpg</td>\n      <td>2016-04-27</td>\n      <td>Captain America: Civil War</td>\n      <td>False</td>\n      <td>7.4</td>\n      <td>18129</td>\n    </tr>\n    <tr>\n      <th>1</th>\n      <td>False</td>\n      <td>/6t8ES1d12OzWyCGxBeDYLHoaDrT.jpg</td>\n      <td>[28, 12, 878]</td>\n      <td>330459</td>\n      <td>en</td>\n      <td>Rogue One: A Star Wars Story</td>\n      <td>A rogue band of resistance fighters unite for ...</td>\n      <td>37.495</td>\n      <td>/5jX3p0apUG5bkMHtnKZch0xpkBS.jpg</td>\n      <td>2016-12-14</td>\n      <td>Rogue One: A Star Wars Story</td>\n      <td>False</td>\n      <td>7.5</td>\n      <td>12139</td>\n    </tr>\n    <tr>\n      <th>2</th>\n      <td>False</td>\n      <td>/wijltj1toRcicHlCn8Cpsp4yPXe.jpg</td>\n      <td>[12, 16, 35, 10751]</td>\n      <td>127380</td>\n      <td>en</td>\n      <td>Finding Dory</td>\n      <td>Dory is reunited with her friends Nemo and Mar...</td>\n      <td>42.162</td>\n      <td>/3UVe8NL1E2ZdUZ9EDlKGJY5UzE.jpg</td>\n      <td>2016-06-16</td>\n      <td>Finding Dory</td>\n      <td>False</td>\n      <td>7.0</td>\n      <td>9917</td>\n    </tr>\n  </tbody>\n</table>\n</div>"
     },
     "metadata": {},
     "execution_count": 271
    }
   ],
   "source": [
    "# Preview df_movies:\n",
    "# First three movies:\n",
    "df_movies.head(3)\n"
   ]
  },
  {
   "cell_type": "code",
   "execution_count": 272,
   "metadata": {},
   "outputs": [
    {
     "output_type": "execute_result",
     "data": {
      "text/plain": [
       "      adult                     backdrop_path        genre_ids      id  \\\n",
       "2997  False  /qtJGWUTaXuPVSqJOXSWoZCqucEr.jpg      [35, 10749]  796126   \n",
       "2998  False                              None  [80, 18, 10749]  796124   \n",
       "2999  False                              None             [18]  796034   \n",
       "\n",
       "     original_language      original_title  \\\n",
       "2997                en           Bad Cupid   \n",
       "2998                en         Ride or Die   \n",
       "2999                en  Oklahoma Mon Amour   \n",
       "\n",
       "                                               overview  popularity  \\\n",
       "2997  Archie is a God on a mission to ensure that tr...       1.400   \n",
       "2998  Ashley, a fierce friend to Mandy, takes the ph...      31.159   \n",
       "2999  Rural United States and modern urban Mexico me...       0.600   \n",
       "\n",
       "                           poster_path release_date               title  \\\n",
       "2997  /9nSHoZpU8jFHjKwJ895bzkjPldG.jpg   2021-02-11           Bad Cupid   \n",
       "2998  /77S8LQNkB0se2nk15X1d22QV1d1.jpg   2021-02-09         Ride or Die   \n",
       "2999                              None   2021-04-24  Oklahoma Mon Amour   \n",
       "\n",
       "      video  vote_average  vote_count  \n",
       "2997  False           6.0           3  \n",
       "2998  False           4.0           2  \n",
       "2999  False           5.0           1  "
      ],
      "text/html": "<div>\n<style scoped>\n    .dataframe tbody tr th:only-of-type {\n        vertical-align: middle;\n    }\n\n    .dataframe tbody tr th {\n        vertical-align: top;\n    }\n\n    .dataframe thead th {\n        text-align: right;\n    }\n</style>\n<table border=\"1\" class=\"dataframe\">\n  <thead>\n    <tr style=\"text-align: right;\">\n      <th></th>\n      <th>adult</th>\n      <th>backdrop_path</th>\n      <th>genre_ids</th>\n      <th>id</th>\n      <th>original_language</th>\n      <th>original_title</th>\n      <th>overview</th>\n      <th>popularity</th>\n      <th>poster_path</th>\n      <th>release_date</th>\n      <th>title</th>\n      <th>video</th>\n      <th>vote_average</th>\n      <th>vote_count</th>\n    </tr>\n  </thead>\n  <tbody>\n    <tr>\n      <th>2997</th>\n      <td>False</td>\n      <td>/qtJGWUTaXuPVSqJOXSWoZCqucEr.jpg</td>\n      <td>[35, 10749]</td>\n      <td>796126</td>\n      <td>en</td>\n      <td>Bad Cupid</td>\n      <td>Archie is a God on a mission to ensure that tr...</td>\n      <td>1.400</td>\n      <td>/9nSHoZpU8jFHjKwJ895bzkjPldG.jpg</td>\n      <td>2021-02-11</td>\n      <td>Bad Cupid</td>\n      <td>False</td>\n      <td>6.0</td>\n      <td>3</td>\n    </tr>\n    <tr>\n      <th>2998</th>\n      <td>False</td>\n      <td>None</td>\n      <td>[80, 18, 10749]</td>\n      <td>796124</td>\n      <td>en</td>\n      <td>Ride or Die</td>\n      <td>Ashley, a fierce friend to Mandy, takes the ph...</td>\n      <td>31.159</td>\n      <td>/77S8LQNkB0se2nk15X1d22QV1d1.jpg</td>\n      <td>2021-02-09</td>\n      <td>Ride or Die</td>\n      <td>False</td>\n      <td>4.0</td>\n      <td>2</td>\n    </tr>\n    <tr>\n      <th>2999</th>\n      <td>False</td>\n      <td>None</td>\n      <td>[18]</td>\n      <td>796034</td>\n      <td>en</td>\n      <td>Oklahoma Mon Amour</td>\n      <td>Rural United States and modern urban Mexico me...</td>\n      <td>0.600</td>\n      <td>None</td>\n      <td>2021-04-24</td>\n      <td>Oklahoma Mon Amour</td>\n      <td>False</td>\n      <td>5.0</td>\n      <td>1</td>\n    </tr>\n  </tbody>\n</table>\n</div>"
     },
     "metadata": {},
     "execution_count": 272
    }
   ],
   "source": [
    "# Last three movies:\n",
    "df_movies.tail(3)\n"
   ]
  },
  {
   "cell_type": "code",
   "execution_count": 273,
   "metadata": {},
   "outputs": [
    {
     "output_type": "execute_result",
     "data": {
      "text/plain": [
       "(3000, 14)"
      ]
     },
     "metadata": {},
     "execution_count": 273
    }
   ],
   "source": [
    "# See number of rows and columns, respectively:\n",
    "df_movies.shape\n"
   ]
  },
  {
   "source": [
    "Are there any null values?\n",
    "It looks like the only null values are for backdrop_path (suffix for movie's image URL)\n",
    "In other words, no missing data for this analysis so far."
   ],
   "cell_type": "markdown",
   "metadata": {}
  },
  {
   "cell_type": "code",
   "execution_count": 274,
   "metadata": {},
   "outputs": [
    {
     "output_type": "stream",
     "name": "stdout",
     "text": [
      "<class 'pandas.core.frame.DataFrame'>\nRangeIndex: 3000 entries, 0 to 2999\nData columns (total 14 columns):\n #   Column             Non-Null Count  Dtype  \n---  ------             --------------  -----  \n 0   adult              3000 non-null   bool   \n 1   backdrop_path      1931 non-null   object \n 2   genre_ids          3000 non-null   object \n 3   id                 3000 non-null   int64  \n 4   original_language  3000 non-null   object \n 5   original_title     3000 non-null   object \n 6   overview           3000 non-null   object \n 7   popularity         3000 non-null   float64\n 8   poster_path        2843 non-null   object \n 9   release_date       3000 non-null   object \n 10  title              3000 non-null   object \n 11  video              3000 non-null   bool   \n 12  vote_average       3000 non-null   float64\n 13  vote_count         3000 non-null   int64  \ndtypes: bool(2), float64(2), int64(2), object(8)\nmemory usage: 287.2+ KB\n"
     ]
    }
   ],
   "source": [
    "df_movies.info()\n"
   ]
  },
  {
   "source": [
    "Just for fun, let's explore one movie's backdrop_path - what would we do with this field?\n",
    "One of my favorite movies from the past 6 years is Get Out - so lets find it in df_movies\n",
    "I accessed a subset of df_movies with .loc using a pandas series of boolean values (title contains 'Get Out')"
   ],
   "cell_type": "markdown",
   "metadata": {}
  },
  {
   "cell_type": "code",
   "execution_count": 275,
   "metadata": {},
   "outputs": [
    {
     "output_type": "execute_result",
     "data": {
      "text/plain": [
       "       title                     backdrop_path\n",
       "531  Get Out  /vZ7EVk7FaNEWYqlVWbFLHP8Z0LU.jpg"
      ],
      "text/html": "<div>\n<style scoped>\n    .dataframe tbody tr th:only-of-type {\n        vertical-align: middle;\n    }\n\n    .dataframe tbody tr th {\n        vertical-align: top;\n    }\n\n    .dataframe thead th {\n        text-align: right;\n    }\n</style>\n<table border=\"1\" class=\"dataframe\">\n  <thead>\n    <tr style=\"text-align: right;\">\n      <th></th>\n      <th>title</th>\n      <th>backdrop_path</th>\n    </tr>\n  </thead>\n  <tbody>\n    <tr>\n      <th>531</th>\n      <td>Get Out</td>\n      <td>/vZ7EVk7FaNEWYqlVWbFLHP8Z0LU.jpg</td>\n    </tr>\n  </tbody>\n</table>\n</div>"
     },
     "metadata": {},
     "execution_count": 275
    }
   ],
   "source": [
    "get_out = df_movies[['title', 'backdrop_path']].loc[(df_movies['title'].str.contains('Get Out'))]\n",
    "get_out\n"
   ]
  },
  {
   "source": [
    "According to the TMDb API documentation, the backdrop_path is the ```file_path``` one uses in conjunction with a ```base_url``` and ```file_size``` to generate an image URL.  Here's the backdrop_bath for Get Out appended to https://image.tmdb.org/t/p/w500/ to retrieve the w500 size:\n",
    "- https://image.tmdb.org/t/p/w500/vZ7EVk7FaNEWYqlVWbFLHP8Z0LU.jpg\n",
    "\n",
    "\n",
    "- I embedded it here by using <img src=\"get_out.png\"\\>, and storing the png version of the image in the same folder with this notebook.\n",
    "\n",
    "<img src=\"get_out.png\">"
   ],
   "cell_type": "markdown",
   "metadata": {}
  },
  {
   "source": [
    "That was fun! But we must move on. Next we'll take the movies we've already gathered, which are sorted by descending revenue for years 2016-2021, and grab more details for each movie from TMDb's movie details resource. That way, we can grab the fields we need to conduct later analysis and visualization: revenue, budget, keywords, genres, and production companies.\n",
    "# Our next task is to use the method movies.details() to get the columns we want for our 3,000 titles"
   ],
   "cell_type": "markdown",
   "metadata": {}
  },
  {
   "cell_type": "code",
   "execution_count": 276,
   "metadata": {},
   "outputs": [
    {
     "output_type": "execute_result",
     "data": {
      "text/plain": [
       "3000"
      ]
     },
     "metadata": {},
     "execution_count": 276
    }
   ],
   "source": [
    "# Next, we'll create a list of movie ids we have stored in df_movies\n",
    "# We'll use that list to get more detailed movie info from the tmdbv3api library's movie.details() method\n",
    "\n",
    "# Create list of movie ids from df_movies:\n",
    "movie_id_list = df_movies['id'].tolist()\n",
    "\n",
    "# Check length of list:\n",
    "len(movie_id_list)\n"
   ]
  },
  {
   "source": [
    "The following finds any movies that would throw an error when passed to movie.details()\n",
    "It also ensures we're passing field values that exist from movie.details()\n",
    "Under the hood of the tmdbv3api library we are simply using the GET method to retrieve data from the TMDb server at a specified resource.\n",
    "The TMDb API behaves such that if the movie id doesn't exist in the /movie/{movie_id} resource, we'll get an error back\n",
    "Let's see if any of our movie ids would throw such an error:"
   ],
   "cell_type": "markdown",
   "metadata": {}
  },
  {
   "cell_type": "code",
   "execution_count": 277,
   "metadata": {},
   "outputs": [
    {
     "output_type": "stream",
     "name": "stdout",
     "text": [
      "781739\n"
     ]
    }
   ],
   "source": [
    "my_keys = ['id', 'title', 'release_date', 'revenue', 'budget', 'genres', 'original_language',\n",
    "           'spoken_languages', 'popularity', 'production_companies', 'production_countries', 'runtime', 'keywords']\n",
    "\n",
    "details_list = []\n",
    "\n",
    "for id_index in movie_id_list: # For each movie id in movie_id_list, we try to get results back from movie.details(), if not, the movie id is printed\n",
    "    try:\n",
    "        r = movie.details(id_index)\n",
    "        details_list.extend({my_key: dict(r).get(my_key)\n",
    "                            for my_key in my_keys})\n",
    "    except:\n",
    "        print(id_index)\n",
    "        continue\n"
   ]
  },
  {
   "cell_type": "code",
   "execution_count": 278,
   "metadata": {},
   "outputs": [
    {
     "output_type": "execute_result",
     "data": {
      "text/plain": [
       "     title      id  popularity  \\\n",
       "2396  Hero  781739         0.0   \n",
       "\n",
       "                                               overview release_date  \n",
       "2396  Hero was diagnosed with cancer at the age of 2...   2020-12-31  "
      ],
      "text/html": "<div>\n<style scoped>\n    .dataframe tbody tr th:only-of-type {\n        vertical-align: middle;\n    }\n\n    .dataframe tbody tr th {\n        vertical-align: top;\n    }\n\n    .dataframe thead th {\n        text-align: right;\n    }\n</style>\n<table border=\"1\" class=\"dataframe\">\n  <thead>\n    <tr style=\"text-align: right;\">\n      <th></th>\n      <th>title</th>\n      <th>id</th>\n      <th>popularity</th>\n      <th>overview</th>\n      <th>release_date</th>\n    </tr>\n  </thead>\n  <tbody>\n    <tr>\n      <th>2396</th>\n      <td>Hero</td>\n      <td>781739</td>\n      <td>0.0</td>\n      <td>Hero was diagnosed with cancer at the age of 2...</td>\n      <td>2020-12-31</td>\n    </tr>\n  </tbody>\n</table>\n</div>"
     },
     "metadata": {},
     "execution_count": 278
    }
   ],
   "source": [
    "# Out of curiosity, lets look at the details for this movie:\n",
    "df_movies[['title', 'id', 'popularity', 'overview',\n",
    "           'release_date']].loc[(df_movies['id'] == 781739)\n"
   ]
  },
  {
   "cell_type": "code",
   "execution_count": 279,
   "metadata": {},
   "outputs": [
    {
     "output_type": "stream",
     "name": "stdout",
     "text": [
      "Hero was diagnosed with cancer at the age of 22. After losing faith in himself, and getting ready to give up, he found support in a place he felt safe - The Furry Fandom. Now, Hero is getting his first fursuit. This is his story.\n"
     ]
    }
   ],
   "source": [
    "# To identify the movie lets look at the overview more closely:\n",
    "print(df_movies.loc[(df_movies['id'] == 781739), 'overview'].item())\n"
   ]
  },
  {
   "source": [
    "This turned out to be a touching documentary, and one that seems to have received a decent amount of attention, but we won't be worried about not having it in our dataset. We'll remove it from movie_id_list and re-run our error-catching code."
   ],
   "cell_type": "markdown",
   "metadata": {}
  },
  {
   "cell_type": "code",
   "execution_count": 280,
   "metadata": {},
   "outputs": [],
   "source": [
    "# Remove movie id from list:\n",
    "movie_id_list.remove(781739)\n"
   ]
  },
  {
   "cell_type": "code",
   "execution_count": 281,
   "metadata": {},
   "outputs": [],
   "source": [
    "# Re-run error-catching code\n",
    "# Returns 0 movie ids - nice!\n",
    "my_keys = ['id', 'title', 'release_date', 'revenue', 'budget', 'genres', 'original_language',\n",
    "           'spoken_languages', 'popularity', 'production_companies', 'production_countries', 'runtime', 'keywords']\n",
    "\n",
    "details_list = []\n",
    "\n",
    "for id_index in movie_id_list:\n",
    "    try:\n",
    "        # movie.details() returns a tmdb object, NOT a dictionary.\n",
    "        r = movie.details(id_index)\n",
    "        # Extend details_list by a dictionary for each movie, where each movie dictionary contains all key-value pairs for my_keys\n",
    "        details_list.extend({my_key: dict(r).get(my_key)  # the tmdb object r must be converted to a dictionary to get the value for each of my keys\n",
    "                            for my_key in my_keys})\n",
    "    except:\n",
    "        print(id_index)\n",
    "        continue\n"
   ]
  },
  {
   "source": [
    "Finally, we can retrieve the data we want from movie.details()!\n",
    "A way I dealt with any anticipated missing fields for each movie:\n",
    "In case any of the movies are missing any of the below keys, I used dict.get(), which returns None instead of throwing an error if a given key doesn't exist"
   ],
   "cell_type": "markdown",
   "metadata": {}
  },
  {
   "cell_type": "code",
   "execution_count": 291,
   "metadata": {},
   "outputs": [
    {
     "output_type": "stream",
     "name": "stdout",
     "text": [
      "{'id': 271110, 'title': 'Captain America: Civil War', 'release_date': '2016-04-27', 'revenue': 1153296293, 'budget': 250000000, 'genres': [{'id': 12, 'name': 'Adventure'}, {'id': 28, 'name': 'Action'}, {'id': 878, 'name': 'Science Fiction'}], 'original_language': 'en', 'spoken_languages': [{'english_name': 'Romanian', 'iso_639_1': 'ro', 'name': 'Română'}, {'english_name': 'English', 'iso_639_1': 'en', 'name': 'English'}, {'english_name': 'German', 'iso_639_1': 'de', 'name': 'Deutsch'}, {'english_name': 'Russian', 'iso_639_1': 'ru', 'name': 'Pусский'}], 'popularity': 86.04, 'production_companies': [{'id': 420, 'logo_path': '/hUzeosd33nzE5MCNsZxCGEKTXaQ.png', 'name': 'Marvel Studios', 'origin_country': 'US'}], 'production_countries': [{'iso_3166_1': 'US', 'name': 'United States of America'}], 'runtime': 147, 'keywords': {'keywords': [{'id': 393, 'name': 'civil war'}, {'id': 9663, 'name': 'sequel'}, {'id': 9715, 'name': 'superhero'}, {'id': 9717, 'name': 'based on comic'}, {'id': 179430, 'name': 'aftercreditsstinger'}, {'id': 179431, 'name': 'duringcreditsstinger'}, {'id': 180547, 'name': 'marvel cinematic universe (mcu)'}]}}\n"
     ]
    }
   ],
   "source": [
    "my_keys = ['id', 'title', 'release_date', 'revenue', 'budget', 'genres', 'original_language',\n",
    "           'spoken_languages', 'popularity', 'production_companies', 'production_countries', 'runtime', 'keywords']\n",
    "\n",
    "details_list = []\n",
    "details_list.extend({my_key: dict(movie.details(id_index)).get(my_key)\n",
    "                    for my_key in my_keys} for id_index in movie_id_list)\n",
    "\n",
    "print(details_list[0])  # Preview the first movie dictionary in our list!\n"
   ]
  },
  {
   "cell_type": "code",
   "execution_count": 292,
   "metadata": {},
   "outputs": [
    {
     "output_type": "execute_result",
     "data": {
      "text/plain": [
       "       id                         title release_date     revenue     budget  \\\n",
       "0  271110    Captain America: Civil War   2016-04-27  1153296293  250000000   \n",
       "1  330459  Rogue One: A Star Wars Story   2016-12-14  1056057273  200000000   \n",
       "2  127380                  Finding Dory   2016-06-16  1028570889  200000000   \n",
       "\n",
       "                                             genres original_language  \\\n",
       "0              [[id, name], [id, name], [id, name]]                en   \n",
       "1              [[id, name], [id, name], [id, name]]                en   \n",
       "2  [[id, name], [id, name], [id, name], [id, name]]                en   \n",
       "\n",
       "                                    spoken_languages  popularity  \\\n",
       "0  [[english_name, iso_639_1, name], [english_nam...      86.040   \n",
       "1                  [[english_name, iso_639_1, name]]      37.495   \n",
       "2                  [[english_name, iso_639_1, name]]      42.162   \n",
       "\n",
       "                      production_companies  production_countries  runtime  \\\n",
       "0  [[id, logo_path, name, origin_country]]  [[iso_3166_1, name]]    147.0   \n",
       "1  [[id, logo_path, name, origin_country]]  [[iso_3166_1, name]]    133.0   \n",
       "2  [[id, logo_path, name, origin_country]]  [[iso_3166_1, name]]     97.0   \n",
       "\n",
       "     keywords  \n",
       "0  [keywords]  \n",
       "1  [keywords]  \n",
       "2  [keywords]  "
      ],
      "text/html": "<div>\n<style scoped>\n    .dataframe tbody tr th:only-of-type {\n        vertical-align: middle;\n    }\n\n    .dataframe tbody tr th {\n        vertical-align: top;\n    }\n\n    .dataframe thead th {\n        text-align: right;\n    }\n</style>\n<table border=\"1\" class=\"dataframe\">\n  <thead>\n    <tr style=\"text-align: right;\">\n      <th></th>\n      <th>id</th>\n      <th>title</th>\n      <th>release_date</th>\n      <th>revenue</th>\n      <th>budget</th>\n      <th>genres</th>\n      <th>original_language</th>\n      <th>spoken_languages</th>\n      <th>popularity</th>\n      <th>production_companies</th>\n      <th>production_countries</th>\n      <th>runtime</th>\n      <th>keywords</th>\n    </tr>\n  </thead>\n  <tbody>\n    <tr>\n      <th>0</th>\n      <td>271110</td>\n      <td>Captain America: Civil War</td>\n      <td>2016-04-27</td>\n      <td>1153296293</td>\n      <td>250000000</td>\n      <td>[[id, name], [id, name], [id, name]]</td>\n      <td>en</td>\n      <td>[[english_name, iso_639_1, name], [english_nam...</td>\n      <td>86.040</td>\n      <td>[[id, logo_path, name, origin_country]]</td>\n      <td>[[iso_3166_1, name]]</td>\n      <td>147.0</td>\n      <td>[keywords]</td>\n    </tr>\n    <tr>\n      <th>1</th>\n      <td>330459</td>\n      <td>Rogue One: A Star Wars Story</td>\n      <td>2016-12-14</td>\n      <td>1056057273</td>\n      <td>200000000</td>\n      <td>[[id, name], [id, name], [id, name]]</td>\n      <td>en</td>\n      <td>[[english_name, iso_639_1, name]]</td>\n      <td>37.495</td>\n      <td>[[id, logo_path, name, origin_country]]</td>\n      <td>[[iso_3166_1, name]]</td>\n      <td>133.0</td>\n      <td>[keywords]</td>\n    </tr>\n    <tr>\n      <th>2</th>\n      <td>127380</td>\n      <td>Finding Dory</td>\n      <td>2016-06-16</td>\n      <td>1028570889</td>\n      <td>200000000</td>\n      <td>[[id, name], [id, name], [id, name], [id, name]]</td>\n      <td>en</td>\n      <td>[[english_name, iso_639_1, name]]</td>\n      <td>42.162</td>\n      <td>[[id, logo_path, name, origin_country]]</td>\n      <td>[[iso_3166_1, name]]</td>\n      <td>97.0</td>\n      <td>[keywords]</td>\n    </tr>\n  </tbody>\n</table>\n</div>"
     },
     "metadata": {},
     "execution_count": 292
    }
   ],
   "source": [
    "# Now we take this list of dictionaries and easily convert it to a pandas dataframe df_details:\n",
    "df_details = pd.DataFrame(details_list)\n",
    "df_details[0:3] # Preview the first three movies\n"
   ]
  },
  {
   "source": [
    "# We finally have the data we want stored in df_details."
   ],
   "cell_type": "markdown",
   "metadata": {}
  },
  {
   "source": [
    "Take a look at big-picture of df_details\n",
    "It makes sense that we have 2999 entries since the movie Hero doesn't exist in movie.details()\n",
    "It looks like we have one null value for run-time"
   ],
   "cell_type": "markdown",
   "metadata": {}
  },
  {
   "cell_type": "code",
   "execution_count": 293,
   "metadata": {},
   "outputs": [
    {
     "output_type": "stream",
     "name": "stdout",
     "text": [
      "<class 'pandas.core.frame.DataFrame'>\nRangeIndex: 2999 entries, 0 to 2998\nData columns (total 13 columns):\n #   Column                Non-Null Count  Dtype  \n---  ------                --------------  -----  \n 0   id                    2999 non-null   int64  \n 1   title                 2999 non-null   object \n 2   release_date          2999 non-null   object \n 3   revenue               2999 non-null   int64  \n 4   budget                2999 non-null   int64  \n 5   genres                2999 non-null   object \n 6   original_language     2999 non-null   object \n 7   spoken_languages      2999 non-null   object \n 8   popularity            2999 non-null   float64\n 9   production_companies  2999 non-null   object \n 10  production_countries  2999 non-null   object \n 11  runtime               2998 non-null   float64\n 12  keywords              2999 non-null   object \ndtypes: float64(2), int64(3), object(8)\nmemory usage: 304.7+ KB\n"
     ]
    },
    {
     "output_type": "execute_result",
     "data": {
      "text/plain": [
       "id                        int64\n",
       "title                    object\n",
       "release_date             object\n",
       "revenue                   int64\n",
       "budget                    int64\n",
       "genres                   object\n",
       "original_language        object\n",
       "spoken_languages         object\n",
       "popularity              float64\n",
       "production_companies     object\n",
       "production_countries     object\n",
       "runtime                 float64\n",
       "keywords                 object\n",
       "dtype: object"
      ]
     },
     "metadata": {},
     "execution_count": 293
    }
   ],
   "source": [
    "df_details.index\n",
    "df_details.info()\n",
    "df_details.columns\n",
    "df_details.dtypes\n"
   ]
  },
  {
   "source": [
    "# My first data-cleaning task was to detect any movies not originally shot in English\n",
    "- Since our studio is still in R&D mode, we'll focus on movies originally shot in English\n",
    "- 'with_original_language' was already set to 'en' upon intake, but this next step helps find foreign language films that slipped through\n"
   ],
   "cell_type": "markdown",
   "metadata": {}
  },
  {
   "cell_type": "code",
   "execution_count": null,
   "metadata": {},
   "outputs": [],
   "source": [
    "# Detect non-english strings in title and remove them from df_details:\n",
    "\n",
    "pd.set_option('display.max_rows', df_details.shape[0]+1) # Set display option so that we can see all rows because we will likely manually review the values:\n",
    "\n",
    "# Create function to detect non-english strings:\n",
    "def detect_en(ascii_string):\n",
    "    try:\n",
    "        ascii_string.encode(encoding='utf-8').decode('ascii')\n",
    "    except UnicodeDecodeError:\n",
    "        return False\n",
    "    else:\n",
    "        return True\n",
    "\n",
    "column_names = [\"id\", \"title\"]\n",
    "flag_non_en = pd.DataFrame(columns = column_names)\n",
    "for item in df_details.loc[:, 'title']:\n",
    "    if isEnglish(item) == False:\n",
    "        flag_non_en = flag_non_en.append(df_details[['id','title']].loc[df_details['title'] == item])\n",
    "# print(flag_non_en)\n"
   ]
  },
  {
   "source": [
    "I made a list of the movies I wanted to remove from df_details, based on internet research to see if original language is English.\n",
    "\n",
    "- 720980      Express Yourself: Die Tänzer der Queen of Pop\n",
    "- 676624                                               عتيج\n",
    "- 671272                              Óleos en la oscuridad\n",
    "- 664648                                          Crisálida\n",
    "- 692856                                              Avīci\n",
    "- 691836                      Avante (Ao Vivo em São Paulo)\n",
    "- 680817                                      Hranice práce\n",
    "- 676912                                            Sátiros\n",
    "- 703348                                               عقلي\n",
    "- 720570                                   maníaco da ponte\n",
    "- 832125                                  Ghostemane: Ímpio\n",
    "- 806831                 História Secreta do Pop Brasileiro\n",
    "- 783999        Crimes de haine en Amérique : l'inquiétante\n",
    "- 740354                                          Bach-Hông\n",
    "- 793311                                   Toilette d’amour\n",
    "- 787619                                           Czyściec\n",
    "- 832310                                           Verrückt\n",
    "- 822161                                         ¿Libertad?\n",
    "- 802434                                              Acéré"
   ],
   "cell_type": "markdown",
   "metadata": {}
  },
  {
   "cell_type": "code",
   "execution_count": 316,
   "metadata": {},
   "outputs": [],
   "source": [
    "# Remove rows with these ids from df_details:\n",
    "non_eng_ids = [720980, 676624, 671272, 664648, 692856, 691836, 680817, 676912, 703348, 720570, 832125, 806831, 783999, 740354, 793311, 787619, 832310, 822161, 802434]\n",
    "\n",
    "# Remove movie id from list:\n",
    "df_details = df_details[~df_details['id'].isin(non_eng_ids)]\n"
   ]
  },
  {
   "cell_type": "code",
   "execution_count": 317,
   "metadata": {},
   "outputs": [
    {
     "output_type": "execute_result",
     "data": {
      "text/plain": [
       "Empty DataFrame\n",
       "Columns: [id, title, release_date, revenue, budget, genres, original_language, spoken_languages, popularity, production_companies, production_countries, runtime, keywords, genres_list_dict, genres_list_str]\n",
       "Index: []"
      ],
      "text/html": "<div>\n<style scoped>\n    .dataframe tbody tr th:only-of-type {\n        vertical-align: middle;\n    }\n\n    .dataframe tbody tr th {\n        vertical-align: top;\n    }\n\n    .dataframe thead th {\n        text-align: right;\n    }\n</style>\n<table border=\"1\" class=\"dataframe\">\n  <thead>\n    <tr style=\"text-align: right;\">\n      <th></th>\n      <th>id</th>\n      <th>title</th>\n      <th>release_date</th>\n      <th>revenue</th>\n      <th>budget</th>\n      <th>genres</th>\n      <th>original_language</th>\n      <th>spoken_languages</th>\n      <th>popularity</th>\n      <th>production_companies</th>\n      <th>production_countries</th>\n      <th>runtime</th>\n      <th>keywords</th>\n      <th>genres_list_dict</th>\n      <th>genres_list_str</th>\n    </tr>\n  </thead>\n  <tbody>\n  </tbody>\n</table>\n</div>"
     },
     "metadata": {},
     "execution_count": 317
    }
   ],
   "source": [
    "# Check to make sure they're no longer in there:\n",
    "df_details[df_details['id'].isin(non_eng_ids)]"
   ]
  },
  {
   "cell_type": "code",
   "execution_count": 359,
   "metadata": {},
   "outputs": [
    {
     "output_type": "execute_result",
     "data": {
      "text/plain": [
       "Empty DataFrame\n",
       "Columns: [id, title, release_date, revenue, budget, genres, original_language, spoken_languages, popularity, production_companies, production_countries, runtime, keywords, genres_list_dict, genres_list_str, prod_list_dict, prod_list_str]\n",
       "Index: []"
      ],
      "text/html": "<div>\n<style scoped>\n    .dataframe tbody tr th:only-of-type {\n        vertical-align: middle;\n    }\n\n    .dataframe tbody tr th {\n        vertical-align: top;\n    }\n\n    .dataframe thead th {\n        text-align: right;\n    }\n</style>\n<table border=\"1\" class=\"dataframe\">\n  <thead>\n    <tr style=\"text-align: right;\">\n      <th></th>\n      <th>id</th>\n      <th>title</th>\n      <th>release_date</th>\n      <th>revenue</th>\n      <th>budget</th>\n      <th>genres</th>\n      <th>original_language</th>\n      <th>spoken_languages</th>\n      <th>popularity</th>\n      <th>production_companies</th>\n      <th>production_countries</th>\n      <th>runtime</th>\n      <th>keywords</th>\n      <th>genres_list_dict</th>\n      <th>genres_list_str</th>\n      <th>prod_list_dict</th>\n      <th>prod_list_str</th>\n    </tr>\n  </thead>\n  <tbody>\n  </tbody>\n</table>\n</div>"
     },
     "metadata": {},
     "execution_count": 359
    }
   ],
   "source": [
    "# Spot-check a single id:\n",
    "df_details.loc[(\n",
    "    df_details['id'] == 671272)]\n"
   ]
  },
  {
   "source": [
    "# The next data cleaning step was to convert the date field from str to datetime64\n",
    "A lot of the fields we got back are objects.\n",
    "Lets make sure that release_date is an object we can work with\n",
    "We'll use the first movie in our list as an example:\n",
    "271110\tCaptain America: Civil War"
   ],
   "cell_type": "markdown",
   "metadata": {}
  },
  {
   "cell_type": "code",
   "execution_count": 296,
   "metadata": {},
   "outputs": [
    {
     "output_type": "stream",
     "name": "stdout",
     "text": [
      "<class 'str'>\n2016-04-27\n"
     ]
    }
   ],
   "source": [
    "capt_amer_date = df_details.loc[(\n",
    "    df_details['id'] == 271110), 'release_date'].item()\n",
    "print(type(capt_amer_date))\n",
    "print(capt_amer_date)\n"
   ]
  },
  {
   "source": [
    "Since it's a string, lets convert it to dtype ```datetime64[ns]``` which is built on the NumPy ```datetime64``` dtype"
   ],
   "cell_type": "markdown",
   "metadata": {}
  },
  {
   "cell_type": "code",
   "execution_count": 297,
   "metadata": {},
   "outputs": [
    {
     "output_type": "stream",
     "name": "stdout",
     "text": [
      "<class 'pandas._libs.tslibs.timestamps.Timestamp'>\n2016-04-27 00:00:00\n"
     ]
    }
   ],
   "source": [
    "df_details['release_date'] = pd.to_datetime(df_details['release_date'])\n",
    "\n",
    "capt_amer_date = df_details.loc[(\n",
    "    df_details['id'] == 271110), 'release_date'].item()\n",
    "print(type(capt_amer_date))\n",
    "print(capt_amer_date)\n"
   ]
  },
  {
   "source": [
    "# The final data cleaning step was to convert fields that are lists of objects to more simple datastructures:\n",
    "I'll need to convert any field that I want to use in a visualization into a useable format. Let's start with genres!"
   ],
   "cell_type": "markdown",
   "metadata": {}
  },
  {
   "cell_type": "code",
   "execution_count": 343,
   "metadata": {},
   "outputs": [
    {
     "output_type": "stream",
     "name": "stdout",
     "text": [
      "<class 'list'>\n<class 'tmdbv3api.as_obj.AsObj'>\n[{'id': 12, 'name': 'Adventure'}, {'id': 28, 'name': 'Action'}, {'id': 878, 'name': 'Science Fiction'}]\n<class 'list'>\n<class 'tmdbv3api.as_obj.AsObj'>\n[{'id': 28, 'name': 'Action'}, {'id': 12, 'name': 'Adventure'}, {'id': 878, 'name': 'Science Fiction'}]\n<class 'list'>\n<class 'tmdbv3api.as_obj.AsObj'>\n[{'id': 12, 'name': 'Adventure'}, {'id': 16, 'name': 'Animation'}, {'id': 35, 'name': 'Comedy'}, {'id': 10751, 'name': 'Family'}]\n"
     ]
    }
   ],
   "source": [
    "# Preview the genres column, dtype object\n",
    "my_sample = df_details.loc[0:2, 'genres']\n",
    "type(my_sample)\n",
    "my_sample\n",
    "for mystery in my_sample:\n",
    "    print(type(mystery))\n",
    "    print(type(mystery[0]))\n",
    "    print(mystery)\n"
   ]
  },
  {
   "cell_type": "code",
   "execution_count": null,
   "metadata": {},
   "outputs": [],
   "source": [
    "# Convert these lists of objects to lists of dictionaries using .apply() to map each genre value\n",
    "def convert_to_list_of_dict(val):\n",
    "    # val parameter is used to transform each value of the pandas genres series\n",
    "    val = [dict(x) for x in val]\n",
    "    return val\n",
    "\n",
    "\n",
    "df_details['genres_list_dict'] = df_details.loc[:,\n",
    "                                                'genres'].apply(convert_to_list_of_dict)\n",
    "                                                "
   ]
  },
  {
   "cell_type": "code",
   "execution_count": 342,
   "metadata": {},
   "outputs": [
    {
     "output_type": "stream",
     "name": "stdout",
     "text": [
      "<class 'list'>\n<class 'dict'>\n[{'id': 12, 'name': 'Adventure'}, {'id': 28, 'name': 'Action'}, {'id': 878, 'name': 'Science Fiction'}]\n<class 'list'>\n<class 'dict'>\n[{'id': 28, 'name': 'Action'}, {'id': 12, 'name': 'Adventure'}, {'id': 878, 'name': 'Science Fiction'}]\n<class 'list'>\n<class 'dict'>\n[{'id': 12, 'name': 'Adventure'}, {'id': 16, 'name': 'Animation'}, {'id': 35, 'name': 'Comedy'}, {'id': 10751, 'name': 'Family'}]\n"
     ]
    }
   ],
   "source": [
    "my_sample = df_details.loc[0:2, 'genres_list_dict']\n",
    "for mystery in my_sample:\n",
    "    print(type(mystery))\n",
    "    print(type(mystery[0]))\n",
    "    print(mystery)\n"
   ]
  },
  {
   "cell_type": "code",
   "execution_count": 300,
   "metadata": {},
   "outputs": [
    {
     "output_type": "execute_result",
     "data": {
      "text/plain": [
       "[{'id': 12, 'name': 'Adventure'},\n",
       " {'id': 28, 'name': 'Action'},\n",
       " {'id': 878, 'name': 'Science Fiction'}]"
      ]
     },
     "metadata": {},
     "execution_count": 300
    }
   ],
   "source": [
    "# Preview our new column \"genres_list_dict\"\n",
    "df_details['genres_list_dict'][0]"
   ]
  },
  {
   "cell_type": "code",
   "execution_count": null,
   "metadata": {},
   "outputs": [],
   "source": [
    "# Convert lists of dictionaries to a list of strings, where each string is the name of a genre\n",
    "def convert_to_list_of_str(val):\n",
    "    # val parameter is used to transform each value of the pandas genres series\n",
    "    val = [x.get('name') for x in val]\n",
    "    return val\n",
    "\n",
    "\n",
    "df_details['genres_list_str'] = df_details.loc[:,\n",
    "                                                'genres_list_dict'].apply(convert_to_list_of_str)\n",
    "                                                "
   ]
  },
  {
   "cell_type": "code",
   "execution_count": 341,
   "metadata": {},
   "outputs": [
    {
     "output_type": "stream",
     "name": "stdout",
     "text": [
      "<class 'list'>\n<class 'str'>\n['Adventure', 'Action', 'Science Fiction']\n<class 'list'>\n<class 'str'>\n['Action', 'Adventure', 'Science Fiction']\n<class 'list'>\n<class 'str'>\n['Adventure', 'Animation', 'Comedy', 'Family']\n"
     ]
    }
   ],
   "source": [
    "my_sample = df_details.loc[0:2, 'genres_list_str']\n",
    "for mystery in my_sample:\n",
    "    print(type(mystery))\n",
    "    print(type(mystery[0]))\n",
    "    print(mystery)\n"
   ]
  },
  {
   "cell_type": "code",
   "execution_count": 339,
   "metadata": {},
   "outputs": [
    {
     "output_type": "execute_result",
     "data": {
      "text/plain": [
       "               title    genres_list_str\n",
       "401  The Last Appeal  [Drama, TV Movie]\n",
       "402      Cinema Self                NaN\n",
       "403  Farewell Boleyn      [Documentary]"
      ],
      "text/html": "<div>\n<style scoped>\n    .dataframe tbody tr th:only-of-type {\n        vertical-align: middle;\n    }\n\n    .dataframe tbody tr th {\n        vertical-align: top;\n    }\n\n    .dataframe thead th {\n        text-align: right;\n    }\n</style>\n<table border=\"1\" class=\"dataframe\">\n  <thead>\n    <tr style=\"text-align: right;\">\n      <th></th>\n      <th>title</th>\n      <th>genres_list_str</th>\n    </tr>\n  </thead>\n  <tbody>\n    <tr>\n      <th>401</th>\n      <td>The Last Appeal</td>\n      <td>[Drama, TV Movie]</td>\n    </tr>\n    <tr>\n      <th>402</th>\n      <td>Cinema Self</td>\n      <td>NaN</td>\n    </tr>\n    <tr>\n      <th>403</th>\n      <td>Farewell Boleyn</td>\n      <td>[Documentary]</td>\n    </tr>\n  </tbody>\n</table>\n</div>"
     },
     "metadata": {},
     "execution_count": 339
    }
   ],
   "source": [
    "# Preview the results:\n",
    "df_details[['title', 'genres_list_str']].iloc[400:403]"
   ]
  },
  {
   "cell_type": "code",
   "execution_count": 307,
   "metadata": {},
   "outputs": [],
   "source": [
    "# Rather than empty lists, I want movies with no genre to be the numpy null value, which is NaN:\n",
    "import numpy as np\n",
    "df_details['genres_list_str'] = df_details['genres_list_str'].apply(\n",
    "    lambda x: np.nan if len(x) == 0 else x)\n"
   ]
  },
  {
   "cell_type": "code",
   "execution_count": 315,
   "metadata": {},
   "outputs": [
    {
     "output_type": "execute_result",
     "data": {
      "text/plain": [
       "                   title genres genres_list_str\n",
       "276  The Girl on the Mat     []             NaN\n",
       "302        First Day Out     []             NaN\n",
       "303         Wild Flowers     []             NaN"
      ],
      "text/html": "<div>\n<style scoped>\n    .dataframe tbody tr th:only-of-type {\n        vertical-align: middle;\n    }\n\n    .dataframe tbody tr th {\n        vertical-align: top;\n    }\n\n    .dataframe thead th {\n        text-align: right;\n    }\n</style>\n<table border=\"1\" class=\"dataframe\">\n  <thead>\n    <tr style=\"text-align: right;\">\n      <th></th>\n      <th>title</th>\n      <th>genres</th>\n      <th>genres_list_str</th>\n    </tr>\n  </thead>\n  <tbody>\n    <tr>\n      <th>276</th>\n      <td>The Girl on the Mat</td>\n      <td>[]</td>\n      <td>NaN</td>\n    </tr>\n    <tr>\n      <th>302</th>\n      <td>First Day Out</td>\n      <td>[]</td>\n      <td>NaN</td>\n    </tr>\n    <tr>\n      <th>303</th>\n      <td>Wild Flowers</td>\n      <td>[]</td>\n      <td>NaN</td>\n    </tr>\n  </tbody>\n</table>\n</div>"
     },
     "metadata": {},
     "execution_count": 315
    }
   ],
   "source": [
    "# Check that it worked:\n",
    "is_NaN = df_details.isnull()\n",
    "row_has_NaN = is_NaN.any(axis=1)\n",
    "rows_with_NaN = df_details[row_has_NaN]\n",
    "\n",
    "rows_with_NaN[['title', 'genres','genres_list_str']].iloc[0:3]\n"
   ]
  },
  {
   "source": [
    "# Now we're going to do the same thing for production_companies - it has the same structure as genres:"
   ],
   "cell_type": "markdown",
   "metadata": {}
  },
  {
   "cell_type": "code",
   "execution_count": 336,
   "metadata": {},
   "outputs": [
    {
     "output_type": "stream",
     "name": "stdout",
     "text": [
      "<class 'list'>\n<class 'tmdbv3api.as_obj.AsObj'>\n[{'id': 420, 'logo_path': '/hUzeosd33nzE5MCNsZxCGEKTXaQ.png', 'name': 'Marvel Studios', 'origin_country': 'US'}]\n<class 'list'>\n<class 'tmdbv3api.as_obj.AsObj'>\n[{'id': 1, 'logo_path': '/o86DbpburjxrqAzEDhXZcyE8pDb.png', 'name': 'Lucasfilm Ltd.', 'origin_country': 'US'}]\n<class 'list'>\n<class 'tmdbv3api.as_obj.AsObj'>\n[{'id': 3, 'logo_path': '/1TjvGVDMYsj6JBxOAkUHpPEwLf7.png', 'name': 'Pixar', 'origin_country': 'US'}]\n"
     ]
    }
   ],
   "source": [
    "my_sample = df_details.loc[0:2, 'production_companies']\n",
    "for mystery in my_sample:\n",
    "    print(type(mystery))\n",
    "    print(type(mystery[0]))\n",
    "    print(mystery)"
   ]
  },
  {
   "cell_type": "code",
   "execution_count": null,
   "metadata": {},
   "outputs": [],
   "source": [
    "def convert_to_list_of_dict(val):\n",
    "    val = [dict(x) for x in val]\n",
    "    return val\n",
    "\n",
    "\n",
    "df_details['prod_list_dict'] = df_details.loc[:,\n",
    "                                                'production_companies'].apply(convert_to_list_of_dict)\n",
    "                                                "
   ]
  },
  {
   "cell_type": "code",
   "execution_count": 340,
   "metadata": {},
   "outputs": [
    {
     "output_type": "stream",
     "name": "stdout",
     "text": [
      "<class 'list'>\n<class 'dict'>\n[{'id': 420, 'logo_path': '/hUzeosd33nzE5MCNsZxCGEKTXaQ.png', 'name': 'Marvel Studios', 'origin_country': 'US'}]\n<class 'list'>\n<class 'dict'>\n[{'id': 1, 'logo_path': '/o86DbpburjxrqAzEDhXZcyE8pDb.png', 'name': 'Lucasfilm Ltd.', 'origin_country': 'US'}]\n<class 'list'>\n<class 'dict'>\n[{'id': 3, 'logo_path': '/1TjvGVDMYsj6JBxOAkUHpPEwLf7.png', 'name': 'Pixar', 'origin_country': 'US'}]\n"
     ]
    }
   ],
   "source": [
    "my_sample = df_details.loc[0:2, 'prod_list_dict']\n",
    "for mystery in my_sample:\n",
    "    print(type(mystery))\n",
    "    print(type(mystery[0]))\n",
    "    print(mystery)\n"
   ]
  },
  {
   "cell_type": "code",
   "execution_count": 338,
   "metadata": {},
   "outputs": [
    {
     "output_type": "execute_result",
     "data": {
      "text/plain": [
       "[{'id': 420,\n",
       "  'logo_path': '/hUzeosd33nzE5MCNsZxCGEKTXaQ.png',\n",
       "  'name': 'Marvel Studios',\n",
       "  'origin_country': 'US'}]"
      ]
     },
     "metadata": {},
     "execution_count": 338
    }
   ],
   "source": [
    "# Preview our new column \"prod_list_dict\"\n",
    "df_details['prod_list_dict'][0]"
   ]
  },
  {
   "cell_type": "code",
   "execution_count": null,
   "metadata": {},
   "outputs": [],
   "source": [
    "def convert_to_list_of_str(val):\n",
    "    val = [x.get('name') for x in val]\n",
    "    return val\n",
    "\n",
    "\n",
    "df_details['prod_list_str'] = df_details.loc[:,\n",
    "                                                'prod_list_dict'].apply(convert_to_list_of_str)\n",
    "                                                "
   ]
  },
  {
   "cell_type": "code",
   "execution_count": 345,
   "metadata": {},
   "outputs": [
    {
     "output_type": "stream",
     "name": "stdout",
     "text": [
      "<class 'list'>\n<class 'str'>\n['Marvel Studios']\n<class 'list'>\n<class 'str'>\n['Lucasfilm Ltd.']\n<class 'list'>\n<class 'str'>\n['Pixar']\n"
     ]
    }
   ],
   "source": [
    "my_sample = df_details.loc[0:2, 'prod_list_str']\n",
    "for mystery in my_sample:\n",
    "    if len(mystery) == 0:\n",
    "        print(mystery)\n"
   ]
  },
  {
   "cell_type": "code",
   "execution_count": null,
   "metadata": {},
   "outputs": [],
   "source": [
    "# Make empty lists NaN:\n",
    "import numpy as np\n",
    "df_details['prod_list_nan'] = df_details['prod_list_str'].apply(\n",
    "    lambda x: np.nan if len(x) == 0 else x)"
   ]
  },
  {
   "cell_type": "code",
   "execution_count": 349,
   "metadata": {},
   "outputs": [
    {
     "output_type": "execute_result",
     "data": {
      "text/plain": [
       "                       title                    genres_list_str prod_list_str\n",
       "31                     Split  [Fantasy, Drama, Thriller, Crime]           NaN\n",
       "201  Hillsong: Let Hope Rise                      [Documentary]           NaN\n",
       "228           Lulu the Movie                           [Comedy]           NaN"
      ],
      "text/html": "<div>\n<style scoped>\n    .dataframe tbody tr th:only-of-type {\n        vertical-align: middle;\n    }\n\n    .dataframe tbody tr th {\n        vertical-align: top;\n    }\n\n    .dataframe thead th {\n        text-align: right;\n    }\n</style>\n<table border=\"1\" class=\"dataframe\">\n  <thead>\n    <tr style=\"text-align: right;\">\n      <th></th>\n      <th>title</th>\n      <th>genres_list_str</th>\n      <th>prod_list_str</th>\n    </tr>\n  </thead>\n  <tbody>\n    <tr>\n      <th>31</th>\n      <td>Split</td>\n      <td>[Fantasy, Drama, Thriller, Crime]</td>\n      <td>NaN</td>\n    </tr>\n    <tr>\n      <th>201</th>\n      <td>Hillsong: Let Hope Rise</td>\n      <td>[Documentary]</td>\n      <td>NaN</td>\n    </tr>\n    <tr>\n      <th>228</th>\n      <td>Lulu the Movie</td>\n      <td>[Comedy]</td>\n      <td>NaN</td>\n    </tr>\n  </tbody>\n</table>\n</div>"
     },
     "metadata": {},
     "execution_count": 349
    }
   ],
   "source": [
    "# Check that it worked:\n",
    "is_NaN = df_details.isnull()\n",
    "row_has_NaN = is_NaN.any(axis=1)\n",
    "rows_with_NaN = df_details[row_has_NaN]\n",
    "\n",
    "rows_with_NaN[['title', 'genres_list_str','prod_list_str']].iloc[0:3]"
   ]
  },
  {
   "source": [
    "# Finally, I created a dataframe with only the columns I wanted to keep:"
   ],
   "cell_type": "markdown",
   "metadata": {}
  },
  {
   "cell_type": "code",
   "execution_count": 350,
   "metadata": {},
   "outputs": [],
   "source": [
    "# Keep these Columns:\n",
    "df = df_details[['id', 'title', 'release_date', 'revenue', 'budget',\n",
    "                 'genres_list_str', 'popularity', 'prod_list_str', 'runtime']].copy()\n"
   ]
  },
  {
   "cell_type": "code",
   "execution_count": 351,
   "metadata": {},
   "outputs": [
    {
     "output_type": "execute_result",
     "data": {
      "text/plain": [
       "       id                         title release_date     revenue     budget  \\\n",
       "0  271110    Captain America: Civil War   2016-04-27  1153296293  250000000   \n",
       "1  330459  Rogue One: A Star Wars Story   2016-12-14  1056057273  200000000   \n",
       "2  127380                  Finding Dory   2016-06-16  1028570889  200000000   \n",
       "3  269149                      Zootopia   2016-02-11  1023784195  150000000   \n",
       "4  278927               The Jungle Book   2016-04-07   966550600  175000000   \n",
       "\n",
       "                          genres_list_str  popularity  \\\n",
       "0    [Adventure, Action, Science Fiction]      86.040   \n",
       "1    [Action, Adventure, Science Fiction]      37.495   \n",
       "2  [Adventure, Animation, Comedy, Family]      42.162   \n",
       "3  [Animation, Adventure, Family, Comedy]      60.016   \n",
       "4     [Family, Adventure, Drama, Fantasy]      34.177   \n",
       "\n",
       "                                       prod_list_str  runtime  \n",
       "0                                   [Marvel Studios]    147.0  \n",
       "1                                   [Lucasfilm Ltd.]    133.0  \n",
       "2                                            [Pixar]     97.0  \n",
       "3  [Walt Disney Animation Studios, Walt Disney Pi...    109.0  \n",
       "4  [Walt Disney Pictures, Fairview Entertainment,...    106.0  "
      ],
      "text/html": "<div>\n<style scoped>\n    .dataframe tbody tr th:only-of-type {\n        vertical-align: middle;\n    }\n\n    .dataframe tbody tr th {\n        vertical-align: top;\n    }\n\n    .dataframe thead th {\n        text-align: right;\n    }\n</style>\n<table border=\"1\" class=\"dataframe\">\n  <thead>\n    <tr style=\"text-align: right;\">\n      <th></th>\n      <th>id</th>\n      <th>title</th>\n      <th>release_date</th>\n      <th>revenue</th>\n      <th>budget</th>\n      <th>genres_list_str</th>\n      <th>popularity</th>\n      <th>prod_list_str</th>\n      <th>runtime</th>\n    </tr>\n  </thead>\n  <tbody>\n    <tr>\n      <th>0</th>\n      <td>271110</td>\n      <td>Captain America: Civil War</td>\n      <td>2016-04-27</td>\n      <td>1153296293</td>\n      <td>250000000</td>\n      <td>[Adventure, Action, Science Fiction]</td>\n      <td>86.040</td>\n      <td>[Marvel Studios]</td>\n      <td>147.0</td>\n    </tr>\n    <tr>\n      <th>1</th>\n      <td>330459</td>\n      <td>Rogue One: A Star Wars Story</td>\n      <td>2016-12-14</td>\n      <td>1056057273</td>\n      <td>200000000</td>\n      <td>[Action, Adventure, Science Fiction]</td>\n      <td>37.495</td>\n      <td>[Lucasfilm Ltd.]</td>\n      <td>133.0</td>\n    </tr>\n    <tr>\n      <th>2</th>\n      <td>127380</td>\n      <td>Finding Dory</td>\n      <td>2016-06-16</td>\n      <td>1028570889</td>\n      <td>200000000</td>\n      <td>[Adventure, Animation, Comedy, Family]</td>\n      <td>42.162</td>\n      <td>[Pixar]</td>\n      <td>97.0</td>\n    </tr>\n    <tr>\n      <th>3</th>\n      <td>269149</td>\n      <td>Zootopia</td>\n      <td>2016-02-11</td>\n      <td>1023784195</td>\n      <td>150000000</td>\n      <td>[Animation, Adventure, Family, Comedy]</td>\n      <td>60.016</td>\n      <td>[Walt Disney Animation Studios, Walt Disney Pi...</td>\n      <td>109.0</td>\n    </tr>\n    <tr>\n      <th>4</th>\n      <td>278927</td>\n      <td>The Jungle Book</td>\n      <td>2016-04-07</td>\n      <td>966550600</td>\n      <td>175000000</td>\n      <td>[Family, Adventure, Drama, Fantasy]</td>\n      <td>34.177</td>\n      <td>[Walt Disney Pictures, Fairview Entertainment,...</td>\n      <td>106.0</td>\n    </tr>\n  </tbody>\n</table>\n</div>"
     },
     "metadata": {},
     "execution_count": 351
    }
   ],
   "source": [
    "df.head()"
   ]
  },
  {
   "cell_type": "code",
   "execution_count": 353,
   "metadata": {},
   "outputs": [],
   "source": [
    "# Rename genres and production companies columns:\n",
    "df.rename(columns={'genres_list_str': 'genre', 'prod_list_str': 'production_company'}, inplace=True)\n"
   ]
  },
  {
   "cell_type": "code",
   "execution_count": 381,
   "metadata": {},
   "outputs": [],
   "source": [
    "df.reset_index(inplace = True)"
   ]
  },
  {
   "cell_type": "code",
   "execution_count": 382,
   "metadata": {},
   "outputs": [
    {
     "output_type": "stream",
     "name": "stdout",
     "text": [
      "<class 'pandas.core.frame.DataFrame'>\nRangeIndex: 2980 entries, 0 to 2979\nData columns (total 10 columns):\n #   Column              Non-Null Count  Dtype         \n---  ------              --------------  -----         \n 0   index               2980 non-null   int64         \n 1   id                  2980 non-null   int64         \n 2   title               2980 non-null   object        \n 3   release_date        2980 non-null   datetime64[ns]\n 4   revenue             2980 non-null   int64         \n 5   budget              2980 non-null   int64         \n 6   genre               2542 non-null   object        \n 7   popularity          2980 non-null   float64       \n 8   production_company  1933 non-null   object        \n 9   runtime             2979 non-null   float64       \ndtypes: datetime64[ns](1), float64(2), int64(4), object(3)\nmemory usage: 232.9+ KB\n"
     ]
    },
    {
     "output_type": "execute_result",
     "data": {
      "text/plain": [
       "index                          int64\n",
       "id                             int64\n",
       "title                         object\n",
       "release_date          datetime64[ns]\n",
       "revenue                        int64\n",
       "budget                         int64\n",
       "genre                         object\n",
       "popularity                   float64\n",
       "production_company            object\n",
       "runtime                      float64\n",
       "dtype: object"
      ]
     },
     "metadata": {},
     "execution_count": 382
    }
   ],
   "source": [
    "df.index\n",
    "df.info()\n",
    "df.columns\n",
    "df.dtypes\n"
   ]
  },
  {
   "source": [
    "# Next Up, Visualizations! Hurray!!!"
   ],
   "cell_type": "markdown",
   "metadata": {}
  },
  {
   "cell_type": "code",
   "execution_count": 383,
   "metadata": {},
   "outputs": [
    {
     "output_type": "execute_result",
     "data": {
      "text/plain": [
       "            revenue        budget   popularity      runtime\n",
       "count  2.980000e+03  2.980000e+03  2980.000000  2979.000000\n",
       "mean   3.874836e+07  1.166154e+07    26.732021    66.394763\n",
       "std    1.529729e+08  3.494295e+07   176.438242    50.913270\n",
       "min    0.000000e+00  0.000000e+00     0.600000     0.000000\n",
       "25%    0.000000e+00  0.000000e+00     0.600000    11.000000\n",
       "50%    0.000000e+00  0.000000e+00     1.385500    84.000000\n",
       "75%    2.993211e+06  2.500750e+05    13.911000   103.000000\n",
       "max    2.797801e+09  3.560000e+08  6077.166000   700.000000"
      ],
      "text/html": "<div>\n<style scoped>\n    .dataframe tbody tr th:only-of-type {\n        vertical-align: middle;\n    }\n\n    .dataframe tbody tr th {\n        vertical-align: top;\n    }\n\n    .dataframe thead th {\n        text-align: right;\n    }\n</style>\n<table border=\"1\" class=\"dataframe\">\n  <thead>\n    <tr style=\"text-align: right;\">\n      <th></th>\n      <th>revenue</th>\n      <th>budget</th>\n      <th>popularity</th>\n      <th>runtime</th>\n    </tr>\n  </thead>\n  <tbody>\n    <tr>\n      <th>count</th>\n      <td>2.980000e+03</td>\n      <td>2.980000e+03</td>\n      <td>2980.000000</td>\n      <td>2979.000000</td>\n    </tr>\n    <tr>\n      <th>mean</th>\n      <td>3.874836e+07</td>\n      <td>1.166154e+07</td>\n      <td>26.732021</td>\n      <td>66.394763</td>\n    </tr>\n    <tr>\n      <th>std</th>\n      <td>1.529729e+08</td>\n      <td>3.494295e+07</td>\n      <td>176.438242</td>\n      <td>50.913270</td>\n    </tr>\n    <tr>\n      <th>min</th>\n      <td>0.000000e+00</td>\n      <td>0.000000e+00</td>\n      <td>0.600000</td>\n      <td>0.000000</td>\n    </tr>\n    <tr>\n      <th>25%</th>\n      <td>0.000000e+00</td>\n      <td>0.000000e+00</td>\n      <td>0.600000</td>\n      <td>11.000000</td>\n    </tr>\n    <tr>\n      <th>50%</th>\n      <td>0.000000e+00</td>\n      <td>0.000000e+00</td>\n      <td>1.385500</td>\n      <td>84.000000</td>\n    </tr>\n    <tr>\n      <th>75%</th>\n      <td>2.993211e+06</td>\n      <td>2.500750e+05</td>\n      <td>13.911000</td>\n      <td>103.000000</td>\n    </tr>\n    <tr>\n      <th>max</th>\n      <td>2.797801e+09</td>\n      <td>3.560000e+08</td>\n      <td>6077.166000</td>\n      <td>700.000000</td>\n    </tr>\n  </tbody>\n</table>\n</div>"
     },
     "metadata": {},
     "execution_count": 383
    }
   ],
   "source": [
    "# Get some statistics on revenue:\n",
    "df[['revenue','budget','popularity','runtime']].describe()\n"
   ]
  },
  {
   "cell_type": "code",
   "execution_count": 452,
   "metadata": {},
   "outputs": [],
   "source": [
    "# Create separate df where revenue at Q3 and above:\n",
    "df_q3 = df[(df['revenue'] >= 2993211)].copy()\n"
   ]
  },
  {
   "cell_type": "code",
   "execution_count": 453,
   "metadata": {},
   "outputs": [
    {
     "output_type": "stream",
     "name": "stdout",
     "text": [
      "<class 'pandas.core.frame.DataFrame'>\nRangeIndex: 745 entries, 0 to 744\nData columns (total 11 columns):\n #   Column              Non-Null Count  Dtype         \n---  ------              --------------  -----         \n 0   level_0             745 non-null    int64         \n 1   index               745 non-null    int64         \n 2   id                  745 non-null    int64         \n 3   title               745 non-null    object        \n 4   release_date        745 non-null    datetime64[ns]\n 5   revenue             745 non-null    int64         \n 6   budget              745 non-null    int64         \n 7   genre               744 non-null    object        \n 8   popularity          745 non-null    float64       \n 9   production_company  743 non-null    object        \n 10  runtime             745 non-null    float64       \ndtypes: datetime64[ns](1), float64(2), int64(5), object(3)\nmemory usage: 64.1+ KB\n"
     ]
    }
   ],
   "source": [
    "df_q3.reset_index(inplace = True)\n",
    "df_q3.info()"
   ]
  },
  {
   "cell_type": "code",
   "execution_count": 460,
   "metadata": {},
   "outputs": [
    {
     "output_type": "execute_result",
     "data": {
      "text/plain": [
       "<pandas.io.formats.style.Styler at 0x7fde2f12b4a8>"
      ],
      "text/html": "<style  type=\"text/css\" >\n</style><table id=\"T_a3240290_cb8d_11eb_870e_f079600ee336\" ><thead>    <tr>        <th class=\"blank level0\" ></th>        <th class=\"col_heading level0 col0\" >level_0</th>        <th class=\"col_heading level0 col1\" >index</th>        <th class=\"col_heading level0 col2\" >id</th>        <th class=\"col_heading level0 col3\" >title</th>        <th class=\"col_heading level0 col4\" >release_date</th>        <th class=\"col_heading level0 col5\" >revenue</th>        <th class=\"col_heading level0 col6\" >budget</th>        <th class=\"col_heading level0 col7\" >genre</th>        <th class=\"col_heading level0 col8\" >popularity</th>        <th class=\"col_heading level0 col9\" >production_company</th>        <th class=\"col_heading level0 col10\" >runtime</th>    </tr></thead><tbody>\n                <tr>\n                        <th id=\"T_a3240290_cb8d_11eb_870e_f079600ee336level0_row0\" class=\"row_heading level0 row0\" >0</th>\n                        <td id=\"T_a3240290_cb8d_11eb_870e_f079600ee336row0_col0\" class=\"data row0 col0\" >0</td>\n                        <td id=\"T_a3240290_cb8d_11eb_870e_f079600ee336row0_col1\" class=\"data row0 col1\" >0</td>\n                        <td id=\"T_a3240290_cb8d_11eb_870e_f079600ee336row0_col2\" class=\"data row0 col2\" >271110</td>\n                        <td id=\"T_a3240290_cb8d_11eb_870e_f079600ee336row0_col3\" class=\"data row0 col3\" >Captain America: Civil War</td>\n                        <td id=\"T_a3240290_cb8d_11eb_870e_f079600ee336row0_col4\" class=\"data row0 col4\" >2016-04-27 00:00:00</td>\n                        <td id=\"T_a3240290_cb8d_11eb_870e_f079600ee336row0_col5\" class=\"data row0 col5\" >$       1,153,296,293</td>\n                        <td id=\"T_a3240290_cb8d_11eb_870e_f079600ee336row0_col6\" class=\"data row0 col6\" >250000000</td>\n                        <td id=\"T_a3240290_cb8d_11eb_870e_f079600ee336row0_col7\" class=\"data row0 col7\" >['Adventure', 'Action', 'Science Fiction']</td>\n                        <td id=\"T_a3240290_cb8d_11eb_870e_f079600ee336row0_col8\" class=\"data row0 col8\" >86.040000</td>\n                        <td id=\"T_a3240290_cb8d_11eb_870e_f079600ee336row0_col9\" class=\"data row0 col9\" >['Marvel Studios']</td>\n                        <td id=\"T_a3240290_cb8d_11eb_870e_f079600ee336row0_col10\" class=\"data row0 col10\" >147.000000</td>\n            </tr>\n            <tr>\n                        <th id=\"T_a3240290_cb8d_11eb_870e_f079600ee336level0_row1\" class=\"row_heading level0 row1\" >1</th>\n                        <td id=\"T_a3240290_cb8d_11eb_870e_f079600ee336row1_col0\" class=\"data row1 col0\" >1</td>\n                        <td id=\"T_a3240290_cb8d_11eb_870e_f079600ee336row1_col1\" class=\"data row1 col1\" >1</td>\n                        <td id=\"T_a3240290_cb8d_11eb_870e_f079600ee336row1_col2\" class=\"data row1 col2\" >330459</td>\n                        <td id=\"T_a3240290_cb8d_11eb_870e_f079600ee336row1_col3\" class=\"data row1 col3\" >Rogue One: A Star Wars Story</td>\n                        <td id=\"T_a3240290_cb8d_11eb_870e_f079600ee336row1_col4\" class=\"data row1 col4\" >2016-12-14 00:00:00</td>\n                        <td id=\"T_a3240290_cb8d_11eb_870e_f079600ee336row1_col5\" class=\"data row1 col5\" >$       1,056,057,273</td>\n                        <td id=\"T_a3240290_cb8d_11eb_870e_f079600ee336row1_col6\" class=\"data row1 col6\" >200000000</td>\n                        <td id=\"T_a3240290_cb8d_11eb_870e_f079600ee336row1_col7\" class=\"data row1 col7\" >['Action', 'Adventure', 'Science Fiction']</td>\n                        <td id=\"T_a3240290_cb8d_11eb_870e_f079600ee336row1_col8\" class=\"data row1 col8\" >37.495000</td>\n                        <td id=\"T_a3240290_cb8d_11eb_870e_f079600ee336row1_col9\" class=\"data row1 col9\" >['Lucasfilm Ltd.']</td>\n                        <td id=\"T_a3240290_cb8d_11eb_870e_f079600ee336row1_col10\" class=\"data row1 col10\" >133.000000</td>\n            </tr>\n            <tr>\n                        <th id=\"T_a3240290_cb8d_11eb_870e_f079600ee336level0_row2\" class=\"row_heading level0 row2\" >2</th>\n                        <td id=\"T_a3240290_cb8d_11eb_870e_f079600ee336row2_col0\" class=\"data row2 col0\" >2</td>\n                        <td id=\"T_a3240290_cb8d_11eb_870e_f079600ee336row2_col1\" class=\"data row2 col1\" >2</td>\n                        <td id=\"T_a3240290_cb8d_11eb_870e_f079600ee336row2_col2\" class=\"data row2 col2\" >127380</td>\n                        <td id=\"T_a3240290_cb8d_11eb_870e_f079600ee336row2_col3\" class=\"data row2 col3\" >Finding Dory</td>\n                        <td id=\"T_a3240290_cb8d_11eb_870e_f079600ee336row2_col4\" class=\"data row2 col4\" >2016-06-16 00:00:00</td>\n                        <td id=\"T_a3240290_cb8d_11eb_870e_f079600ee336row2_col5\" class=\"data row2 col5\" >$       1,028,570,889</td>\n                        <td id=\"T_a3240290_cb8d_11eb_870e_f079600ee336row2_col6\" class=\"data row2 col6\" >200000000</td>\n                        <td id=\"T_a3240290_cb8d_11eb_870e_f079600ee336row2_col7\" class=\"data row2 col7\" >['Adventure', 'Animation', 'Comedy', 'Family']</td>\n                        <td id=\"T_a3240290_cb8d_11eb_870e_f079600ee336row2_col8\" class=\"data row2 col8\" >42.162000</td>\n                        <td id=\"T_a3240290_cb8d_11eb_870e_f079600ee336row2_col9\" class=\"data row2 col9\" >['Pixar']</td>\n                        <td id=\"T_a3240290_cb8d_11eb_870e_f079600ee336row2_col10\" class=\"data row2 col10\" >97.000000</td>\n            </tr>\n            <tr>\n                        <th id=\"T_a3240290_cb8d_11eb_870e_f079600ee336level0_row3\" class=\"row_heading level0 row3\" >3</th>\n                        <td id=\"T_a3240290_cb8d_11eb_870e_f079600ee336row3_col0\" class=\"data row3 col0\" >3</td>\n                        <td id=\"T_a3240290_cb8d_11eb_870e_f079600ee336row3_col1\" class=\"data row3 col1\" >3</td>\n                        <td id=\"T_a3240290_cb8d_11eb_870e_f079600ee336row3_col2\" class=\"data row3 col2\" >269149</td>\n                        <td id=\"T_a3240290_cb8d_11eb_870e_f079600ee336row3_col3\" class=\"data row3 col3\" >Zootopia</td>\n                        <td id=\"T_a3240290_cb8d_11eb_870e_f079600ee336row3_col4\" class=\"data row3 col4\" >2016-02-11 00:00:00</td>\n                        <td id=\"T_a3240290_cb8d_11eb_870e_f079600ee336row3_col5\" class=\"data row3 col5\" >$       1,023,784,195</td>\n                        <td id=\"T_a3240290_cb8d_11eb_870e_f079600ee336row3_col6\" class=\"data row3 col6\" >150000000</td>\n                        <td id=\"T_a3240290_cb8d_11eb_870e_f079600ee336row3_col7\" class=\"data row3 col7\" >['Animation', 'Adventure', 'Family', 'Comedy']</td>\n                        <td id=\"T_a3240290_cb8d_11eb_870e_f079600ee336row3_col8\" class=\"data row3 col8\" >60.016000</td>\n                        <td id=\"T_a3240290_cb8d_11eb_870e_f079600ee336row3_col9\" class=\"data row3 col9\" >['Walt Disney Animation Studios', 'Walt Disney Pictures']</td>\n                        <td id=\"T_a3240290_cb8d_11eb_870e_f079600ee336row3_col10\" class=\"data row3 col10\" >109.000000</td>\n            </tr>\n            <tr>\n                        <th id=\"T_a3240290_cb8d_11eb_870e_f079600ee336level0_row4\" class=\"row_heading level0 row4\" >4</th>\n                        <td id=\"T_a3240290_cb8d_11eb_870e_f079600ee336row4_col0\" class=\"data row4 col0\" >4</td>\n                        <td id=\"T_a3240290_cb8d_11eb_870e_f079600ee336row4_col1\" class=\"data row4 col1\" >4</td>\n                        <td id=\"T_a3240290_cb8d_11eb_870e_f079600ee336row4_col2\" class=\"data row4 col2\" >278927</td>\n                        <td id=\"T_a3240290_cb8d_11eb_870e_f079600ee336row4_col3\" class=\"data row4 col3\" >The Jungle Book</td>\n                        <td id=\"T_a3240290_cb8d_11eb_870e_f079600ee336row4_col4\" class=\"data row4 col4\" >2016-04-07 00:00:00</td>\n                        <td id=\"T_a3240290_cb8d_11eb_870e_f079600ee336row4_col5\" class=\"data row4 col5\" >$         966,550,600</td>\n                        <td id=\"T_a3240290_cb8d_11eb_870e_f079600ee336row4_col6\" class=\"data row4 col6\" >175000000</td>\n                        <td id=\"T_a3240290_cb8d_11eb_870e_f079600ee336row4_col7\" class=\"data row4 col7\" >['Family', 'Adventure', 'Drama', 'Fantasy']</td>\n                        <td id=\"T_a3240290_cb8d_11eb_870e_f079600ee336row4_col8\" class=\"data row4 col8\" >34.177000</td>\n                        <td id=\"T_a3240290_cb8d_11eb_870e_f079600ee336row4_col9\" class=\"data row4 col9\" >['Walt Disney Pictures', 'Fairview Entertainment', 'Moving Picture Company']</td>\n                        <td id=\"T_a3240290_cb8d_11eb_870e_f079600ee336row4_col10\" class=\"data row4 col10\" >106.000000</td>\n            </tr>\n            <tr>\n                        <th id=\"T_a3240290_cb8d_11eb_870e_f079600ee336level0_row5\" class=\"row_heading level0 row5\" >5</th>\n                        <td id=\"T_a3240290_cb8d_11eb_870e_f079600ee336row5_col0\" class=\"data row5 col0\" >5</td>\n                        <td id=\"T_a3240290_cb8d_11eb_870e_f079600ee336row5_col1\" class=\"data row5 col1\" >5</td>\n                        <td id=\"T_a3240290_cb8d_11eb_870e_f079600ee336row5_col2\" class=\"data row5 col2\" >328111</td>\n                        <td id=\"T_a3240290_cb8d_11eb_870e_f079600ee336row5_col3\" class=\"data row5 col3\" >The Secret Life of Pets</td>\n                        <td id=\"T_a3240290_cb8d_11eb_870e_f079600ee336row5_col4\" class=\"data row5 col4\" >2016-06-18 00:00:00</td>\n                        <td id=\"T_a3240290_cb8d_11eb_870e_f079600ee336row5_col5\" class=\"data row5 col5\" >$         875,457,937</td>\n                        <td id=\"T_a3240290_cb8d_11eb_870e_f079600ee336row5_col6\" class=\"data row5 col6\" >75000000</td>\n                        <td id=\"T_a3240290_cb8d_11eb_870e_f079600ee336row5_col7\" class=\"data row5 col7\" >['Adventure', 'Comedy', 'Animation', 'Family']</td>\n                        <td id=\"T_a3240290_cb8d_11eb_870e_f079600ee336row5_col8\" class=\"data row5 col8\" >22.553000</td>\n                        <td id=\"T_a3240290_cb8d_11eb_870e_f079600ee336row5_col9\" class=\"data row5 col9\" >['Universal Pictures', 'Fuji Television Network', 'Illumination Entertainment', 'DENTSU']</td>\n                        <td id=\"T_a3240290_cb8d_11eb_870e_f079600ee336row5_col10\" class=\"data row5 col10\" >87.000000</td>\n            </tr>\n            <tr>\n                        <th id=\"T_a3240290_cb8d_11eb_870e_f079600ee336level0_row6\" class=\"row_heading level0 row6\" >6</th>\n                        <td id=\"T_a3240290_cb8d_11eb_870e_f079600ee336row6_col0\" class=\"data row6 col0\" >6</td>\n                        <td id=\"T_a3240290_cb8d_11eb_870e_f079600ee336row6_col1\" class=\"data row6 col1\" >6</td>\n                        <td id=\"T_a3240290_cb8d_11eb_870e_f079600ee336row6_col2\" class=\"data row6 col2\" >209112</td>\n                        <td id=\"T_a3240290_cb8d_11eb_870e_f079600ee336row6_col3\" class=\"data row6 col3\" >Batman v Superman: Dawn of Justice</td>\n                        <td id=\"T_a3240290_cb8d_11eb_870e_f079600ee336row6_col4\" class=\"data row6 col4\" >2016-03-23 00:00:00</td>\n                        <td id=\"T_a3240290_cb8d_11eb_870e_f079600ee336row6_col5\" class=\"data row6 col5\" >$         873,634,919</td>\n                        <td id=\"T_a3240290_cb8d_11eb_870e_f079600ee336row6_col6\" class=\"data row6 col6\" >250000000</td>\n                        <td id=\"T_a3240290_cb8d_11eb_870e_f079600ee336row6_col7\" class=\"data row6 col7\" >['Action', 'Adventure', 'Fantasy']</td>\n                        <td id=\"T_a3240290_cb8d_11eb_870e_f079600ee336row6_col8\" class=\"data row6 col8\" >61.728000</td>\n                        <td id=\"T_a3240290_cb8d_11eb_870e_f079600ee336row6_col9\" class=\"data row6 col9\" >['Warner Bros. Pictures', 'RatPac Entertainment', 'DC Comics', 'Atlas Entertainment', 'Cruel & Unusual Films', 'DC Entertainment']</td>\n                        <td id=\"T_a3240290_cb8d_11eb_870e_f079600ee336row6_col10\" class=\"data row6 col10\" >152.000000</td>\n            </tr>\n            <tr>\n                        <th id=\"T_a3240290_cb8d_11eb_870e_f079600ee336level0_row7\" class=\"row_heading level0 row7\" >7</th>\n                        <td id=\"T_a3240290_cb8d_11eb_870e_f079600ee336row7_col0\" class=\"data row7 col0\" >7</td>\n                        <td id=\"T_a3240290_cb8d_11eb_870e_f079600ee336row7_col1\" class=\"data row7 col1\" >7</td>\n                        <td id=\"T_a3240290_cb8d_11eb_870e_f079600ee336row7_col2\" class=\"data row7 col2\" >259316</td>\n                        <td id=\"T_a3240290_cb8d_11eb_870e_f079600ee336row7_col3\" class=\"data row7 col3\" >Fantastic Beasts and Where to Find Them</td>\n                        <td id=\"T_a3240290_cb8d_11eb_870e_f079600ee336row7_col4\" class=\"data row7 col4\" >2016-11-16 00:00:00</td>\n                        <td id=\"T_a3240290_cb8d_11eb_870e_f079600ee336row7_col5\" class=\"data row7 col5\" >$         809,342,332</td>\n                        <td id=\"T_a3240290_cb8d_11eb_870e_f079600ee336row7_col6\" class=\"data row7 col6\" >180000000</td>\n                        <td id=\"T_a3240290_cb8d_11eb_870e_f079600ee336row7_col7\" class=\"data row7 col7\" >['Adventure', 'Fantasy']</td>\n                        <td id=\"T_a3240290_cb8d_11eb_870e_f079600ee336row7_col8\" class=\"data row7 col8\" >54.023000</td>\n                        <td id=\"T_a3240290_cb8d_11eb_870e_f079600ee336row7_col9\" class=\"data row7 col9\" >['Heyday Films', 'Warner Bros. Pictures']</td>\n                        <td id=\"T_a3240290_cb8d_11eb_870e_f079600ee336row7_col10\" class=\"data row7 col10\" >132.000000</td>\n            </tr>\n            <tr>\n                        <th id=\"T_a3240290_cb8d_11eb_870e_f079600ee336level0_row8\" class=\"row_heading level0 row8\" >8</th>\n                        <td id=\"T_a3240290_cb8d_11eb_870e_f079600ee336row8_col0\" class=\"data row8 col0\" >8</td>\n                        <td id=\"T_a3240290_cb8d_11eb_870e_f079600ee336row8_col1\" class=\"data row8 col1\" >8</td>\n                        <td id=\"T_a3240290_cb8d_11eb_870e_f079600ee336row8_col2\" class=\"data row8 col2\" >293660</td>\n                        <td id=\"T_a3240290_cb8d_11eb_870e_f079600ee336row8_col3\" class=\"data row8 col3\" >Deadpool</td>\n                        <td id=\"T_a3240290_cb8d_11eb_870e_f079600ee336row8_col4\" class=\"data row8 col4\" >2016-02-09 00:00:00</td>\n                        <td id=\"T_a3240290_cb8d_11eb_870e_f079600ee336row8_col5\" class=\"data row8 col5\" >$         783,100,000</td>\n                        <td id=\"T_a3240290_cb8d_11eb_870e_f079600ee336row8_col6\" class=\"data row8 col6\" >58000000</td>\n                        <td id=\"T_a3240290_cb8d_11eb_870e_f079600ee336row8_col7\" class=\"data row8 col7\" >['Action', 'Adventure', 'Comedy']</td>\n                        <td id=\"T_a3240290_cb8d_11eb_870e_f079600ee336row8_col8\" class=\"data row8 col8\" >110.212000</td>\n                        <td id=\"T_a3240290_cb8d_11eb_870e_f079600ee336row8_col9\" class=\"data row8 col9\" >['20th Century Fox', 'Marvel Entertainment', \"The Donners' Company\", 'TSG Entertainment', 'Genre Films']</td>\n                        <td id=\"T_a3240290_cb8d_11eb_870e_f079600ee336row8_col10\" class=\"data row8 col10\" >108.000000</td>\n            </tr>\n            <tr>\n                        <th id=\"T_a3240290_cb8d_11eb_870e_f079600ee336level0_row9\" class=\"row_heading level0 row9\" >9</th>\n                        <td id=\"T_a3240290_cb8d_11eb_870e_f079600ee336row9_col0\" class=\"data row9 col0\" >9</td>\n                        <td id=\"T_a3240290_cb8d_11eb_870e_f079600ee336row9_col1\" class=\"data row9 col1\" >9</td>\n                        <td id=\"T_a3240290_cb8d_11eb_870e_f079600ee336row9_col2\" class=\"data row9 col2\" >297761</td>\n                        <td id=\"T_a3240290_cb8d_11eb_870e_f079600ee336row9_col3\" class=\"data row9 col3\" >Suicide Squad</td>\n                        <td id=\"T_a3240290_cb8d_11eb_870e_f079600ee336row9_col4\" class=\"data row9 col4\" >2016-08-03 00:00:00</td>\n                        <td id=\"T_a3240290_cb8d_11eb_870e_f079600ee336row9_col5\" class=\"data row9 col5\" >$         746,846,894</td>\n                        <td id=\"T_a3240290_cb8d_11eb_870e_f079600ee336row9_col6\" class=\"data row9 col6\" >175000000</td>\n                        <td id=\"T_a3240290_cb8d_11eb_870e_f079600ee336row9_col7\" class=\"data row9 col7\" >['Action', 'Adventure', 'Crime', 'Fantasy', 'Science Fiction']</td>\n                        <td id=\"T_a3240290_cb8d_11eb_870e_f079600ee336row9_col8\" class=\"data row9 col8\" >51.851000</td>\n                        <td id=\"T_a3240290_cb8d_11eb_870e_f079600ee336row9_col9\" class=\"data row9 col9\" >['DC Entertainment', 'Dune Entertainment', 'Warner Bros. Pictures', 'Atlas Entertainment', 'DC Comics', 'DC Films', 'Lin Pictures']</td>\n                        <td id=\"T_a3240290_cb8d_11eb_870e_f079600ee336row9_col10\" class=\"data row9 col10\" >123.000000</td>\n            </tr>\n    </tbody></table>"
     },
     "metadata": {},
     "execution_count": 460
    }
   ],
   "source": [
    "df_q3.head(10).style.format({\"revenue\": \"${:20,.0f}\"})\n"
   ]
  },
  {
   "cell_type": "code",
   "execution_count": 462,
   "metadata": {},
   "outputs": [
    {
     "output_type": "execute_result",
     "data": {
      "text/plain": [
       "array([[<matplotlib.axes._subplots.AxesSubplot object at 0x7fde1f386f60>,\n",
       "        <matplotlib.axes._subplots.AxesSubplot object at 0x7fde1e32a6d8>],\n",
       "       [<matplotlib.axes._subplots.AxesSubplot object at 0x7fde1ddbc710>,\n",
       "        <matplotlib.axes._subplots.AxesSubplot object at 0x7fde30eb3eb8>],\n",
       "       [<matplotlib.axes._subplots.AxesSubplot object at 0x7fde1fb4b6a0>,\n",
       "        <matplotlib.axes._subplots.AxesSubplot object at 0x7fde1ef97fd0>]],\n",
       "      dtype=object)"
      ]
     },
     "metadata": {},
     "execution_count": 462
    },
    {
     "output_type": "display_data",
     "data": {
      "text/plain": "<Figure size 720x432 with 6 Axes>",
      "image/svg+xml": "<?xml version=\"1.0\" encoding=\"utf-8\" standalone=\"no\"?>\n<!DOCTYPE svg PUBLIC \"-//W3C//DTD SVG 1.1//EN\"\n  \"http://www.w3.org/Graphics/SVG/1.1/DTD/svg11.dtd\">\n<!-- Created with matplotlib (https://matplotlib.org/) -->\n<svg height=\"379.55875pt\" version=\"1.1\" viewBox=\"0 0 616.4875 379.55875\" width=\"616.4875pt\" xmlns=\"http://www.w3.org/2000/svg\" xmlns:xlink=\"http://www.w3.org/1999/xlink\">\n <defs>\n  <style type=\"text/css\">\n*{stroke-linecap:butt;stroke-linejoin:round;}\n  </style>\n </defs>\n <g id=\"figure_1\">\n  <g id=\"patch_1\">\n   <path d=\"M 0 379.55875 \nL 616.4875 379.55875 \nL 616.4875 0 \nL 0 0 \nz\n\" style=\"fill:none;\"/>\n  </g>\n  <g id=\"axes_1\">\n   <g id=\"patch_2\">\n    <path d=\"M 33.2875 103.318125 \nL 283.722283 103.318125 \nL 283.722283 22.318125 \nL 33.2875 22.318125 \nz\n\" style=\"fill:#ffffff;\"/>\n   </g>\n   <g id=\"patch_3\">\n    <path clip-path=\"url(#p7c0e81440d)\" d=\"M 44.670899 103.318125 \nL 67.437698 103.318125 \nL 67.437698 26.175268 \nL 44.670899 26.175268 \nz\n\" style=\"fill:#1f77b4;\"/>\n   </g>\n   <g id=\"patch_4\">\n    <path clip-path=\"url(#p7c0e81440d)\" d=\"M 67.437698 103.318125 \nL 90.204496 103.318125 \nL 90.204496 86.175268 \nL 67.437698 86.175268 \nz\n\" style=\"fill:#1f77b4;\"/>\n   </g>\n   <g id=\"patch_5\">\n    <path clip-path=\"url(#p7c0e81440d)\" d=\"M 90.204496 103.318125 \nL 112.971294 103.318125 \nL 112.971294 95.318125 \nL 90.204496 95.318125 \nz\n\" style=\"fill:#1f77b4;\"/>\n   </g>\n   <g id=\"patch_6\">\n    <path clip-path=\"url(#p7c0e81440d)\" d=\"M 112.971294 103.318125 \nL 135.738093 103.318125 \nL 135.738093 99.318125 \nL 112.971294 99.318125 \nz\n\" style=\"fill:#1f77b4;\"/>\n   </g>\n   <g id=\"patch_7\">\n    <path clip-path=\"url(#p7c0e81440d)\" d=\"M 135.738093 103.318125 \nL 158.504891 103.318125 \nL 158.504891 102.175268 \nL 135.738093 102.175268 \nz\n\" style=\"fill:#1f77b4;\"/>\n   </g>\n   <g id=\"patch_8\">\n    <path clip-path=\"url(#p7c0e81440d)\" d=\"M 158.504891 103.318125 \nL 181.27169 103.318125 \nL 181.27169 101.603839 \nL 158.504891 101.603839 \nz\n\" style=\"fill:#1f77b4;\"/>\n   </g>\n   <g id=\"patch_9\">\n    <path clip-path=\"url(#p7c0e81440d)\" d=\"M 181.27169 103.318125 \nL 204.038488 103.318125 \nL 204.038488 102.175268 \nL 181.27169 102.175268 \nz\n\" style=\"fill:#1f77b4;\"/>\n   </g>\n   <g id=\"patch_10\">\n    <path clip-path=\"url(#p7c0e81440d)\" d=\"M 204.038488 103.318125 \nL 226.805287 103.318125 \nL 226.805287 101.603839 \nL 204.038488 101.603839 \nz\n\" style=\"fill:#1f77b4;\"/>\n   </g>\n   <g id=\"patch_11\">\n    <path clip-path=\"url(#p7c0e81440d)\" d=\"M 226.805287 103.318125 \nL 249.572085 103.318125 \nL 249.572085 101.603839 \nL 226.805287 101.603839 \nz\n\" style=\"fill:#1f77b4;\"/>\n   </g>\n   <g id=\"patch_12\">\n    <path clip-path=\"url(#p7c0e81440d)\" d=\"M 249.572085 103.318125 \nL 272.338883 103.318125 \nL 272.338883 102.175268 \nL 249.572085 102.175268 \nz\n\" style=\"fill:#1f77b4;\"/>\n   </g>\n   <g id=\"matplotlib.axis_1\">\n    <g id=\"xtick_1\">\n     <g id=\"line2d_1\">\n      <defs>\n       <path d=\"M 0 0 \nL 0 3.5 \n\" id=\"m24bcaa515a\" style=\"stroke:#000000;stroke-width:0.8;\"/>\n      </defs>\n      <g>\n       <use style=\"stroke:#000000;stroke-width:0.8;\" x=\"44.044954\" xlink:href=\"#m24bcaa515a\" y=\"103.318125\"/>\n      </g>\n     </g>\n     <g id=\"text_1\">\n      <!-- 0.0 -->\n      <defs>\n       <path d=\"M 31.78125 66.40625 \nQ 24.171875 66.40625 20.328125 58.90625 \nQ 16.5 51.421875 16.5 36.375 \nQ 16.5 21.390625 20.328125 13.890625 \nQ 24.171875 6.390625 31.78125 6.390625 \nQ 39.453125 6.390625 43.28125 13.890625 \nQ 47.125 21.390625 47.125 36.375 \nQ 47.125 51.421875 43.28125 58.90625 \nQ 39.453125 66.40625 31.78125 66.40625 \nz\nM 31.78125 74.21875 \nQ 44.046875 74.21875 50.515625 64.515625 \nQ 56.984375 54.828125 56.984375 36.375 \nQ 56.984375 17.96875 50.515625 8.265625 \nQ 44.046875 -1.421875 31.78125 -1.421875 \nQ 19.53125 -1.421875 13.0625 8.265625 \nQ 6.59375 17.96875 6.59375 36.375 \nQ 6.59375 54.828125 13.0625 64.515625 \nQ 19.53125 74.21875 31.78125 74.21875 \nz\n\" id=\"DejaVuSans-48\"/>\n       <path d=\"M 10.6875 12.40625 \nL 21 12.40625 \nL 21 0 \nL 10.6875 0 \nz\n\" id=\"DejaVuSans-46\"/>\n      </defs>\n      <g transform=\"translate(46.804329 126.22125)rotate(-90)scale(0.1 -0.1)\">\n       <use xlink:href=\"#DejaVuSans-48\"/>\n       <use x=\"63.623047\" xlink:href=\"#DejaVuSans-46\"/>\n       <use x=\"95.410156\" xlink:href=\"#DejaVuSans-48\"/>\n      </g>\n     </g>\n    </g>\n    <g id=\"xtick_2\">\n     <g id=\"line2d_2\">\n      <g>\n       <use style=\"stroke:#000000;stroke-width:0.8;\" x=\"83.634768\" xlink:href=\"#m24bcaa515a\" y=\"103.318125\"/>\n      </g>\n     </g>\n     <g id=\"text_2\">\n      <!-- 0.2 -->\n      <defs>\n       <path d=\"M 19.1875 8.296875 \nL 53.609375 8.296875 \nL 53.609375 0 \nL 7.328125 0 \nL 7.328125 8.296875 \nQ 12.9375 14.109375 22.625 23.890625 \nQ 32.328125 33.6875 34.8125 36.53125 \nQ 39.546875 41.84375 41.421875 45.53125 \nQ 43.3125 49.21875 43.3125 52.78125 \nQ 43.3125 58.59375 39.234375 62.25 \nQ 35.15625 65.921875 28.609375 65.921875 \nQ 23.96875 65.921875 18.8125 64.3125 \nQ 13.671875 62.703125 7.8125 59.421875 \nL 7.8125 69.390625 \nQ 13.765625 71.78125 18.9375 73 \nQ 24.125 74.21875 28.421875 74.21875 \nQ 39.75 74.21875 46.484375 68.546875 \nQ 53.21875 62.890625 53.21875 53.421875 \nQ 53.21875 48.921875 51.53125 44.890625 \nQ 49.859375 40.875 45.40625 35.40625 \nQ 44.1875 33.984375 37.640625 27.21875 \nQ 31.109375 20.453125 19.1875 8.296875 \nz\n\" id=\"DejaVuSans-50\"/>\n      </defs>\n      <g transform=\"translate(86.394143 126.22125)rotate(-90)scale(0.1 -0.1)\">\n       <use xlink:href=\"#DejaVuSans-48\"/>\n       <use x=\"63.623047\" xlink:href=\"#DejaVuSans-46\"/>\n       <use x=\"95.410156\" xlink:href=\"#DejaVuSans-50\"/>\n      </g>\n     </g>\n    </g>\n    <g id=\"xtick_3\">\n     <g id=\"line2d_3\">\n      <g>\n       <use style=\"stroke:#000000;stroke-width:0.8;\" x=\"123.224582\" xlink:href=\"#m24bcaa515a\" y=\"103.318125\"/>\n      </g>\n     </g>\n     <g id=\"text_3\">\n      <!-- 0.4 -->\n      <defs>\n       <path d=\"M 37.796875 64.3125 \nL 12.890625 25.390625 \nL 37.796875 25.390625 \nz\nM 35.203125 72.90625 \nL 47.609375 72.90625 \nL 47.609375 25.390625 \nL 58.015625 25.390625 \nL 58.015625 17.1875 \nL 47.609375 17.1875 \nL 47.609375 0 \nL 37.796875 0 \nL 37.796875 17.1875 \nL 4.890625 17.1875 \nL 4.890625 26.703125 \nz\n\" id=\"DejaVuSans-52\"/>\n      </defs>\n      <g transform=\"translate(125.983957 126.22125)rotate(-90)scale(0.1 -0.1)\">\n       <use xlink:href=\"#DejaVuSans-48\"/>\n       <use x=\"63.623047\" xlink:href=\"#DejaVuSans-46\"/>\n       <use x=\"95.410156\" xlink:href=\"#DejaVuSans-52\"/>\n      </g>\n     </g>\n    </g>\n    <g id=\"xtick_4\">\n     <g id=\"line2d_4\">\n      <g>\n       <use style=\"stroke:#000000;stroke-width:0.8;\" x=\"162.814396\" xlink:href=\"#m24bcaa515a\" y=\"103.318125\"/>\n      </g>\n     </g>\n     <g id=\"text_4\">\n      <!-- 0.6 -->\n      <defs>\n       <path d=\"M 33.015625 40.375 \nQ 26.375 40.375 22.484375 35.828125 \nQ 18.609375 31.296875 18.609375 23.390625 \nQ 18.609375 15.53125 22.484375 10.953125 \nQ 26.375 6.390625 33.015625 6.390625 \nQ 39.65625 6.390625 43.53125 10.953125 \nQ 47.40625 15.53125 47.40625 23.390625 \nQ 47.40625 31.296875 43.53125 35.828125 \nQ 39.65625 40.375 33.015625 40.375 \nz\nM 52.59375 71.296875 \nL 52.59375 62.3125 \nQ 48.875 64.0625 45.09375 64.984375 \nQ 41.3125 65.921875 37.59375 65.921875 \nQ 27.828125 65.921875 22.671875 59.328125 \nQ 17.53125 52.734375 16.796875 39.40625 \nQ 19.671875 43.65625 24.015625 45.921875 \nQ 28.375 48.1875 33.59375 48.1875 \nQ 44.578125 48.1875 50.953125 41.515625 \nQ 57.328125 34.859375 57.328125 23.390625 \nQ 57.328125 12.15625 50.6875 5.359375 \nQ 44.046875 -1.421875 33.015625 -1.421875 \nQ 20.359375 -1.421875 13.671875 8.265625 \nQ 6.984375 17.96875 6.984375 36.375 \nQ 6.984375 53.65625 15.1875 63.9375 \nQ 23.390625 74.21875 37.203125 74.21875 \nQ 40.921875 74.21875 44.703125 73.484375 \nQ 48.484375 72.75 52.59375 71.296875 \nz\n\" id=\"DejaVuSans-54\"/>\n      </defs>\n      <g transform=\"translate(165.573771 126.22125)rotate(-90)scale(0.1 -0.1)\">\n       <use xlink:href=\"#DejaVuSans-48\"/>\n       <use x=\"63.623047\" xlink:href=\"#DejaVuSans-46\"/>\n       <use x=\"95.410156\" xlink:href=\"#DejaVuSans-54\"/>\n      </g>\n     </g>\n    </g>\n    <g id=\"xtick_5\">\n     <g id=\"line2d_5\">\n      <g>\n       <use style=\"stroke:#000000;stroke-width:0.8;\" x=\"202.404211\" xlink:href=\"#m24bcaa515a\" y=\"103.318125\"/>\n      </g>\n     </g>\n     <g id=\"text_5\">\n      <!-- 0.8 -->\n      <defs>\n       <path d=\"M 31.78125 34.625 \nQ 24.75 34.625 20.71875 30.859375 \nQ 16.703125 27.09375 16.703125 20.515625 \nQ 16.703125 13.921875 20.71875 10.15625 \nQ 24.75 6.390625 31.78125 6.390625 \nQ 38.8125 6.390625 42.859375 10.171875 \nQ 46.921875 13.96875 46.921875 20.515625 \nQ 46.921875 27.09375 42.890625 30.859375 \nQ 38.875 34.625 31.78125 34.625 \nz\nM 21.921875 38.8125 \nQ 15.578125 40.375 12.03125 44.71875 \nQ 8.5 49.078125 8.5 55.328125 \nQ 8.5 64.0625 14.71875 69.140625 \nQ 20.953125 74.21875 31.78125 74.21875 \nQ 42.671875 74.21875 48.875 69.140625 \nQ 55.078125 64.0625 55.078125 55.328125 \nQ 55.078125 49.078125 51.53125 44.71875 \nQ 48 40.375 41.703125 38.8125 \nQ 48.828125 37.15625 52.796875 32.3125 \nQ 56.78125 27.484375 56.78125 20.515625 \nQ 56.78125 9.90625 50.3125 4.234375 \nQ 43.84375 -1.421875 31.78125 -1.421875 \nQ 19.734375 -1.421875 13.25 4.234375 \nQ 6.78125 9.90625 6.78125 20.515625 \nQ 6.78125 27.484375 10.78125 32.3125 \nQ 14.796875 37.15625 21.921875 38.8125 \nz\nM 18.3125 54.390625 \nQ 18.3125 48.734375 21.84375 45.5625 \nQ 25.390625 42.390625 31.78125 42.390625 \nQ 38.140625 42.390625 41.71875 45.5625 \nQ 45.3125 48.734375 45.3125 54.390625 \nQ 45.3125 60.0625 41.71875 63.234375 \nQ 38.140625 66.40625 31.78125 66.40625 \nQ 25.390625 66.40625 21.84375 63.234375 \nQ 18.3125 60.0625 18.3125 54.390625 \nz\n\" id=\"DejaVuSans-56\"/>\n      </defs>\n      <g transform=\"translate(205.163586 126.22125)rotate(-90)scale(0.1 -0.1)\">\n       <use xlink:href=\"#DejaVuSans-48\"/>\n       <use x=\"63.623047\" xlink:href=\"#DejaVuSans-46\"/>\n       <use x=\"95.410156\" xlink:href=\"#DejaVuSans-56\"/>\n      </g>\n     </g>\n    </g>\n    <g id=\"xtick_6\">\n     <g id=\"line2d_6\">\n      <g>\n       <use style=\"stroke:#000000;stroke-width:0.8;\" x=\"241.994025\" xlink:href=\"#m24bcaa515a\" y=\"103.318125\"/>\n      </g>\n     </g>\n     <g id=\"text_6\">\n      <!-- 1.0 -->\n      <defs>\n       <path d=\"M 12.40625 8.296875 \nL 28.515625 8.296875 \nL 28.515625 63.921875 \nL 10.984375 60.40625 \nL 10.984375 69.390625 \nL 28.421875 72.90625 \nL 38.28125 72.90625 \nL 38.28125 8.296875 \nL 54.390625 8.296875 \nL 54.390625 0 \nL 12.40625 0 \nz\n\" id=\"DejaVuSans-49\"/>\n      </defs>\n      <g transform=\"translate(244.7534 126.22125)rotate(-90)scale(0.1 -0.1)\">\n       <use xlink:href=\"#DejaVuSans-49\"/>\n       <use x=\"63.623047\" xlink:href=\"#DejaVuSans-46\"/>\n       <use x=\"95.410156\" xlink:href=\"#DejaVuSans-48\"/>\n      </g>\n     </g>\n    </g>\n    <g id=\"xtick_7\">\n     <g id=\"line2d_7\">\n      <g>\n       <use style=\"stroke:#000000;stroke-width:0.8;\" x=\"281.583839\" xlink:href=\"#m24bcaa515a\" y=\"103.318125\"/>\n      </g>\n     </g>\n     <g id=\"text_7\">\n      <!-- 1.2 -->\n      <g transform=\"translate(284.343214 126.22125)rotate(-90)scale(0.1 -0.1)\">\n       <use xlink:href=\"#DejaVuSans-49\"/>\n       <use x=\"63.623047\" xlink:href=\"#DejaVuSans-46\"/>\n       <use x=\"95.410156\" xlink:href=\"#DejaVuSans-50\"/>\n      </g>\n     </g>\n    </g>\n    <g id=\"text_8\">\n     <!-- 1e9 -->\n     <defs>\n      <path d=\"M 56.203125 29.59375 \nL 56.203125 25.203125 \nL 14.890625 25.203125 \nQ 15.484375 15.921875 20.484375 11.0625 \nQ 25.484375 6.203125 34.421875 6.203125 \nQ 39.59375 6.203125 44.453125 7.46875 \nQ 49.3125 8.734375 54.109375 11.28125 \nL 54.109375 2.78125 \nQ 49.265625 0.734375 44.1875 -0.34375 \nQ 39.109375 -1.421875 33.890625 -1.421875 \nQ 20.796875 -1.421875 13.15625 6.1875 \nQ 5.515625 13.8125 5.515625 26.8125 \nQ 5.515625 40.234375 12.765625 48.109375 \nQ 20.015625 56 32.328125 56 \nQ 43.359375 56 49.78125 48.890625 \nQ 56.203125 41.796875 56.203125 29.59375 \nz\nM 47.21875 32.234375 \nQ 47.125 39.59375 43.09375 43.984375 \nQ 39.0625 48.390625 32.421875 48.390625 \nQ 24.90625 48.390625 20.390625 44.140625 \nQ 15.875 39.890625 15.1875 32.171875 \nz\n\" id=\"DejaVuSans-101\"/>\n      <path d=\"M 10.984375 1.515625 \nL 10.984375 10.5 \nQ 14.703125 8.734375 18.5 7.8125 \nQ 22.3125 6.890625 25.984375 6.890625 \nQ 35.75 6.890625 40.890625 13.453125 \nQ 46.046875 20.015625 46.78125 33.40625 \nQ 43.953125 29.203125 39.59375 26.953125 \nQ 35.25 24.703125 29.984375 24.703125 \nQ 19.046875 24.703125 12.671875 31.3125 \nQ 6.296875 37.9375 6.296875 49.421875 \nQ 6.296875 60.640625 12.9375 67.421875 \nQ 19.578125 74.21875 30.609375 74.21875 \nQ 43.265625 74.21875 49.921875 64.515625 \nQ 56.59375 54.828125 56.59375 36.375 \nQ 56.59375 19.140625 48.40625 8.859375 \nQ 40.234375 -1.421875 26.421875 -1.421875 \nQ 22.703125 -1.421875 18.890625 -0.6875 \nQ 15.09375 0.046875 10.984375 1.515625 \nz\nM 30.609375 32.421875 \nQ 37.25 32.421875 41.125 36.953125 \nQ 45.015625 41.5 45.015625 49.421875 \nQ 45.015625 57.28125 41.125 61.84375 \nQ 37.25 66.40625 30.609375 66.40625 \nQ 23.96875 66.40625 20.09375 61.84375 \nQ 16.21875 57.28125 16.21875 49.421875 \nQ 16.21875 41.5 20.09375 36.953125 \nQ 23.96875 32.421875 30.609375 32.421875 \nz\n\" id=\"DejaVuSans-57\"/>\n     </defs>\n     <g transform=\"translate(264.844158 136.819687)scale(0.1 -0.1)\">\n      <use xlink:href=\"#DejaVuSans-49\"/>\n      <use x=\"63.623047\" xlink:href=\"#DejaVuSans-101\"/>\n      <use x=\"125.146484\" xlink:href=\"#DejaVuSans-57\"/>\n     </g>\n    </g>\n   </g>\n   <g id=\"matplotlib.axis_2\">\n    <g id=\"ytick_1\">\n     <g id=\"line2d_8\">\n      <defs>\n       <path d=\"M 0 0 \nL -3.5 0 \n\" id=\"m87c0873673\" style=\"stroke:#000000;stroke-width:0.8;\"/>\n      </defs>\n      <g>\n       <use style=\"stroke:#000000;stroke-width:0.8;\" x=\"33.2875\" xlink:href=\"#m87c0873673\" y=\"103.318125\"/>\n      </g>\n     </g>\n     <g id=\"text_9\">\n      <!-- 0 -->\n      <g transform=\"translate(19.925 107.117344)scale(0.1 -0.1)\">\n       <use xlink:href=\"#DejaVuSans-48\"/>\n      </g>\n     </g>\n    </g>\n    <g id=\"ytick_2\">\n     <g id=\"line2d_9\">\n      <g>\n       <use style=\"stroke:#000000;stroke-width:0.8;\" x=\"33.2875\" xlink:href=\"#m87c0873673\" y=\"74.746696\"/>\n      </g>\n     </g>\n     <g id=\"text_10\">\n      <!-- 50 -->\n      <defs>\n       <path d=\"M 10.796875 72.90625 \nL 49.515625 72.90625 \nL 49.515625 64.59375 \nL 19.828125 64.59375 \nL 19.828125 46.734375 \nQ 21.96875 47.46875 24.109375 47.828125 \nQ 26.265625 48.1875 28.421875 48.1875 \nQ 40.625 48.1875 47.75 41.5 \nQ 54.890625 34.8125 54.890625 23.390625 \nQ 54.890625 11.625 47.5625 5.09375 \nQ 40.234375 -1.421875 26.90625 -1.421875 \nQ 22.3125 -1.421875 17.546875 -0.640625 \nQ 12.796875 0.140625 7.71875 1.703125 \nL 7.71875 11.625 \nQ 12.109375 9.234375 16.796875 8.0625 \nQ 21.484375 6.890625 26.703125 6.890625 \nQ 35.15625 6.890625 40.078125 11.328125 \nQ 45.015625 15.765625 45.015625 23.390625 \nQ 45.015625 31 40.078125 35.4375 \nQ 35.15625 39.890625 26.703125 39.890625 \nQ 22.75 39.890625 18.8125 39.015625 \nQ 14.890625 38.140625 10.796875 36.28125 \nz\n\" id=\"DejaVuSans-53\"/>\n      </defs>\n      <g transform=\"translate(13.5625 78.545915)scale(0.1 -0.1)\">\n       <use xlink:href=\"#DejaVuSans-53\"/>\n       <use x=\"63.623047\" xlink:href=\"#DejaVuSans-48\"/>\n      </g>\n     </g>\n    </g>\n    <g id=\"ytick_3\">\n     <g id=\"line2d_10\">\n      <g>\n       <use style=\"stroke:#000000;stroke-width:0.8;\" x=\"33.2875\" xlink:href=\"#m87c0873673\" y=\"46.175268\"/>\n      </g>\n     </g>\n     <g id=\"text_11\">\n      <!-- 100 -->\n      <g transform=\"translate(7.2 49.974487)scale(0.1 -0.1)\">\n       <use xlink:href=\"#DejaVuSans-49\"/>\n       <use x=\"63.623047\" xlink:href=\"#DejaVuSans-48\"/>\n       <use x=\"127.246094\" xlink:href=\"#DejaVuSans-48\"/>\n      </g>\n     </g>\n    </g>\n   </g>\n   <g id=\"patch_13\">\n    <path d=\"M 33.2875 103.318125 \nL 33.2875 22.318125 \n\" style=\"fill:none;stroke:#000000;stroke-linecap:square;stroke-linejoin:miter;stroke-width:0.8;\"/>\n   </g>\n   <g id=\"patch_14\">\n    <path d=\"M 283.722283 103.318125 \nL 283.722283 22.318125 \n\" style=\"fill:none;stroke:#000000;stroke-linecap:square;stroke-linejoin:miter;stroke-width:0.8;\"/>\n   </g>\n   <g id=\"patch_15\">\n    <path d=\"M 33.2875 103.318125 \nL 283.722283 103.318125 \n\" style=\"fill:none;stroke:#000000;stroke-linecap:square;stroke-linejoin:miter;stroke-width:0.8;\"/>\n   </g>\n   <g id=\"patch_16\">\n    <path d=\"M 33.2875 22.318125 \nL 283.722283 22.318125 \n\" style=\"fill:none;stroke:#000000;stroke-linecap:square;stroke-linejoin:miter;stroke-width:0.8;\"/>\n   </g>\n   <g id=\"text_12\">\n    <!-- 2016 -->\n    <g transform=\"translate(143.234891 16.318125)scale(0.12 -0.12)\">\n     <use xlink:href=\"#DejaVuSans-50\"/>\n     <use x=\"63.623047\" xlink:href=\"#DejaVuSans-48\"/>\n     <use x=\"127.246094\" xlink:href=\"#DejaVuSans-49\"/>\n     <use x=\"190.869141\" xlink:href=\"#DejaVuSans-54\"/>\n    </g>\n   </g>\n  </g>\n  <g id=\"axes_2\">\n   <g id=\"patch_17\">\n    <path d=\"M 358.852717 103.318125 \nL 609.2875 103.318125 \nL 609.2875 22.318125 \nL 358.852717 22.318125 \nz\n\" style=\"fill:#ffffff;\"/>\n   </g>\n   <g id=\"patch_18\">\n    <path clip-path=\"url(#pf86aa22af8)\" d=\"M 370.236117 103.318125 \nL 393.002915 103.318125 \nL 393.002915 26.175268 \nL 370.236117 26.175268 \nz\n\" style=\"fill:#1f77b4;\"/>\n   </g>\n   <g id=\"patch_19\">\n    <path clip-path=\"url(#pf86aa22af8)\" d=\"M 393.002915 103.318125 \nL 415.769713 103.318125 \nL 415.769713 88.017062 \nL 393.002915 88.017062 \nz\n\" style=\"fill:#1f77b4;\"/>\n   </g>\n   <g id=\"patch_20\">\n    <path clip-path=\"url(#pf86aa22af8)\" d=\"M 415.769713 103.318125 \nL 438.536512 103.318125 \nL 438.536512 98.217771 \nL 415.769713 98.217771 \nz\n\" style=\"fill:#1f77b4;\"/>\n   </g>\n   <g id=\"patch_21\">\n    <path clip-path=\"url(#pf86aa22af8)\" d=\"M 438.536512 103.318125 \nL 461.30331 103.318125 \nL 461.30331 99.492859 \nL 438.536512 99.492859 \nz\n\" style=\"fill:#1f77b4;\"/>\n   </g>\n   <g id=\"patch_22\">\n    <path clip-path=\"url(#pf86aa22af8)\" d=\"M 461.30331 103.318125 \nL 484.070109 103.318125 \nL 484.070109 100.767948 \nL 461.30331 100.767948 \nz\n\" style=\"fill:#1f77b4;\"/>\n   </g>\n   <g id=\"patch_23\">\n    <path clip-path=\"url(#pf86aa22af8)\" d=\"M 484.070109 103.318125 \nL 506.836907 103.318125 \nL 506.836907 101.405492 \nL 484.070109 101.405492 \nz\n\" style=\"fill:#1f77b4;\"/>\n   </g>\n   <g id=\"patch_24\">\n    <path clip-path=\"url(#pf86aa22af8)\" d=\"M 506.836907 103.318125 \nL 529.603706 103.318125 \nL 529.603706 100.767948 \nL 506.836907 100.767948 \nz\n\" style=\"fill:#1f77b4;\"/>\n   </g>\n   <g id=\"patch_25\">\n    <path clip-path=\"url(#pf86aa22af8)\" d=\"M 529.603706 103.318125 \nL 552.370504 103.318125 \nL 552.370504 102.043036 \nL 529.603706 102.043036 \nz\n\" style=\"fill:#1f77b4;\"/>\n   </g>\n   <g id=\"patch_26\">\n    <path clip-path=\"url(#pf86aa22af8)\" d=\"M 552.370504 103.318125 \nL 575.137302 103.318125 \nL 575.137302 103.318125 \nL 552.370504 103.318125 \nz\n\" style=\"fill:#1f77b4;\"/>\n   </g>\n   <g id=\"patch_27\">\n    <path clip-path=\"url(#pf86aa22af8)\" d=\"M 575.137302 103.318125 \nL 597.904101 103.318125 \nL 597.904101 101.405492 \nL 575.137302 101.405492 \nz\n\" style=\"fill:#1f77b4;\"/>\n   </g>\n   <g id=\"matplotlib.axis_3\">\n    <g id=\"xtick_8\">\n     <g id=\"line2d_11\">\n      <g>\n       <use style=\"stroke:#000000;stroke-width:0.8;\" x=\"369.717376\" xlink:href=\"#m24bcaa515a\" y=\"103.318125\"/>\n      </g>\n     </g>\n     <g id=\"text_13\">\n      <!-- 0.0 -->\n      <g transform=\"translate(372.476751 126.22125)rotate(-90)scale(0.1 -0.1)\">\n       <use xlink:href=\"#DejaVuSans-48\"/>\n       <use x=\"63.623047\" xlink:href=\"#DejaVuSans-46\"/>\n       <use x=\"95.410156\" xlink:href=\"#DejaVuSans-48\"/>\n      </g>\n     </g>\n    </g>\n    <g id=\"xtick_9\">\n     <g id=\"line2d_12\">\n      <g>\n       <use style=\"stroke:#000000;stroke-width:0.8;\" x=\"403.965765\" xlink:href=\"#m24bcaa515a\" y=\"103.318125\"/>\n      </g>\n     </g>\n     <g id=\"text_14\">\n      <!-- 0.2 -->\n      <g transform=\"translate(406.72514 126.22125)rotate(-90)scale(0.1 -0.1)\">\n       <use xlink:href=\"#DejaVuSans-48\"/>\n       <use x=\"63.623047\" xlink:href=\"#DejaVuSans-46\"/>\n       <use x=\"95.410156\" xlink:href=\"#DejaVuSans-50\"/>\n      </g>\n     </g>\n    </g>\n    <g id=\"xtick_10\">\n     <g id=\"line2d_13\">\n      <g>\n       <use style=\"stroke:#000000;stroke-width:0.8;\" x=\"438.214154\" xlink:href=\"#m24bcaa515a\" y=\"103.318125\"/>\n      </g>\n     </g>\n     <g id=\"text_15\">\n      <!-- 0.4 -->\n      <g transform=\"translate(440.973529 126.22125)rotate(-90)scale(0.1 -0.1)\">\n       <use xlink:href=\"#DejaVuSans-48\"/>\n       <use x=\"63.623047\" xlink:href=\"#DejaVuSans-46\"/>\n       <use x=\"95.410156\" xlink:href=\"#DejaVuSans-52\"/>\n      </g>\n     </g>\n    </g>\n    <g id=\"xtick_11\">\n     <g id=\"line2d_14\">\n      <g>\n       <use style=\"stroke:#000000;stroke-width:0.8;\" x=\"472.462544\" xlink:href=\"#m24bcaa515a\" y=\"103.318125\"/>\n      </g>\n     </g>\n     <g id=\"text_16\">\n      <!-- 0.6 -->\n      <g transform=\"translate(475.221919 126.22125)rotate(-90)scale(0.1 -0.1)\">\n       <use xlink:href=\"#DejaVuSans-48\"/>\n       <use x=\"63.623047\" xlink:href=\"#DejaVuSans-46\"/>\n       <use x=\"95.410156\" xlink:href=\"#DejaVuSans-54\"/>\n      </g>\n     </g>\n    </g>\n    <g id=\"xtick_12\">\n     <g id=\"line2d_15\">\n      <g>\n       <use style=\"stroke:#000000;stroke-width:0.8;\" x=\"506.710933\" xlink:href=\"#m24bcaa515a\" y=\"103.318125\"/>\n      </g>\n     </g>\n     <g id=\"text_17\">\n      <!-- 0.8 -->\n      <g transform=\"translate(509.470308 126.22125)rotate(-90)scale(0.1 -0.1)\">\n       <use xlink:href=\"#DejaVuSans-48\"/>\n       <use x=\"63.623047\" xlink:href=\"#DejaVuSans-46\"/>\n       <use x=\"95.410156\" xlink:href=\"#DejaVuSans-56\"/>\n      </g>\n     </g>\n    </g>\n    <g id=\"xtick_13\">\n     <g id=\"line2d_16\">\n      <g>\n       <use style=\"stroke:#000000;stroke-width:0.8;\" x=\"540.959323\" xlink:href=\"#m24bcaa515a\" y=\"103.318125\"/>\n      </g>\n     </g>\n     <g id=\"text_18\">\n      <!-- 1.0 -->\n      <g transform=\"translate(543.718698 126.22125)rotate(-90)scale(0.1 -0.1)\">\n       <use xlink:href=\"#DejaVuSans-49\"/>\n       <use x=\"63.623047\" xlink:href=\"#DejaVuSans-46\"/>\n       <use x=\"95.410156\" xlink:href=\"#DejaVuSans-48\"/>\n      </g>\n     </g>\n    </g>\n    <g id=\"xtick_14\">\n     <g id=\"line2d_17\">\n      <g>\n       <use style=\"stroke:#000000;stroke-width:0.8;\" x=\"575.207712\" xlink:href=\"#m24bcaa515a\" y=\"103.318125\"/>\n      </g>\n     </g>\n     <g id=\"text_19\">\n      <!-- 1.2 -->\n      <g transform=\"translate(577.967087 126.22125)rotate(-90)scale(0.1 -0.1)\">\n       <use xlink:href=\"#DejaVuSans-49\"/>\n       <use x=\"63.623047\" xlink:href=\"#DejaVuSans-46\"/>\n       <use x=\"95.410156\" xlink:href=\"#DejaVuSans-50\"/>\n      </g>\n     </g>\n    </g>\n    <g id=\"text_20\">\n     <!-- 1e9 -->\n     <g transform=\"translate(590.409375 136.819687)scale(0.1 -0.1)\">\n      <use xlink:href=\"#DejaVuSans-49\"/>\n      <use x=\"63.623047\" xlink:href=\"#DejaVuSans-101\"/>\n      <use x=\"125.146484\" xlink:href=\"#DejaVuSans-57\"/>\n     </g>\n    </g>\n   </g>\n   <g id=\"matplotlib.axis_4\">\n    <g id=\"ytick_4\">\n     <g id=\"line2d_18\">\n      <g>\n       <use style=\"stroke:#000000;stroke-width:0.8;\" x=\"358.852717\" xlink:href=\"#m87c0873673\" y=\"103.318125\"/>\n      </g>\n     </g>\n     <g id=\"text_21\">\n      <!-- 0 -->\n      <g transform=\"translate(345.490217 107.117344)scale(0.1 -0.1)\">\n       <use xlink:href=\"#DejaVuSans-48\"/>\n      </g>\n     </g>\n    </g>\n    <g id=\"ytick_5\">\n     <g id=\"line2d_19\">\n      <g>\n       <use style=\"stroke:#000000;stroke-width:0.8;\" x=\"358.852717\" xlink:href=\"#m87c0873673\" y=\"71.440911\"/>\n      </g>\n     </g>\n     <g id=\"text_22\">\n      <!-- 50 -->\n      <g transform=\"translate(339.127717 75.24013)scale(0.1 -0.1)\">\n       <use xlink:href=\"#DejaVuSans-53\"/>\n       <use x=\"63.623047\" xlink:href=\"#DejaVuSans-48\"/>\n      </g>\n     </g>\n    </g>\n    <g id=\"ytick_6\">\n     <g id=\"line2d_20\">\n      <g>\n       <use style=\"stroke:#000000;stroke-width:0.8;\" x=\"358.852717\" xlink:href=\"#m87c0873673\" y=\"39.563698\"/>\n      </g>\n     </g>\n     <g id=\"text_23\">\n      <!-- 100 -->\n      <g transform=\"translate(332.765217 43.362916)scale(0.1 -0.1)\">\n       <use xlink:href=\"#DejaVuSans-49\"/>\n       <use x=\"63.623047\" xlink:href=\"#DejaVuSans-48\"/>\n       <use x=\"127.246094\" xlink:href=\"#DejaVuSans-48\"/>\n      </g>\n     </g>\n    </g>\n   </g>\n   <g id=\"patch_28\">\n    <path d=\"M 358.852717 103.318125 \nL 358.852717 22.318125 \n\" style=\"fill:none;stroke:#000000;stroke-linecap:square;stroke-linejoin:miter;stroke-width:0.8;\"/>\n   </g>\n   <g id=\"patch_29\">\n    <path d=\"M 609.2875 103.318125 \nL 609.2875 22.318125 \n\" style=\"fill:none;stroke:#000000;stroke-linecap:square;stroke-linejoin:miter;stroke-width:0.8;\"/>\n   </g>\n   <g id=\"patch_30\">\n    <path d=\"M 358.852717 103.318125 \nL 609.2875 103.318125 \n\" style=\"fill:none;stroke:#000000;stroke-linecap:square;stroke-linejoin:miter;stroke-width:0.8;\"/>\n   </g>\n   <g id=\"patch_31\">\n    <path d=\"M 358.852717 22.318125 \nL 609.2875 22.318125 \n\" style=\"fill:none;stroke:#000000;stroke-linecap:square;stroke-linejoin:miter;stroke-width:0.8;\"/>\n   </g>\n   <g id=\"text_24\">\n    <!-- 2017 -->\n    <defs>\n     <path d=\"M 8.203125 72.90625 \nL 55.078125 72.90625 \nL 55.078125 68.703125 \nL 28.609375 0 \nL 18.3125 0 \nL 43.21875 64.59375 \nL 8.203125 64.59375 \nz\n\" id=\"DejaVuSans-55\"/>\n    </defs>\n    <g transform=\"translate(468.800109 16.318125)scale(0.12 -0.12)\">\n     <use xlink:href=\"#DejaVuSans-50\"/>\n     <use x=\"63.623047\" xlink:href=\"#DejaVuSans-48\"/>\n     <use x=\"127.246094\" xlink:href=\"#DejaVuSans-49\"/>\n     <use x=\"190.869141\" xlink:href=\"#DejaVuSans-55\"/>\n    </g>\n   </g>\n  </g>\n  <g id=\"axes_3\">\n   <g id=\"patch_32\">\n    <path d=\"M 33.2875 224.818125 \nL 283.722283 224.818125 \nL 283.722283 143.818125 \nL 33.2875 143.818125 \nz\n\" style=\"fill:#ffffff;\"/>\n   </g>\n   <g id=\"patch_33\">\n    <path clip-path=\"url(#p3fb66ebfbd)\" d=\"M 44.670899 224.818125 \nL 67.437698 224.818125 \nL 67.437698 147.675268 \nL 44.670899 147.675268 \nz\n\" style=\"fill:#1f77b4;\"/>\n   </g>\n   <g id=\"patch_34\">\n    <path clip-path=\"url(#p3fb66ebfbd)\" d=\"M 67.437698 224.818125 \nL 90.204496 224.818125 \nL 90.204496 214.730213 \nL 67.437698 214.730213 \nz\n\" style=\"fill:#1f77b4;\"/>\n   </g>\n   <g id=\"patch_35\">\n    <path clip-path=\"url(#p3fb66ebfbd)\" d=\"M 90.204496 224.818125 \nL 112.971294 224.818125 \nL 112.971294 220.664279 \nL 90.204496 220.664279 \nz\n\" style=\"fill:#1f77b4;\"/>\n   </g>\n   <g id=\"patch_36\">\n    <path clip-path=\"url(#p3fb66ebfbd)\" d=\"M 112.971294 224.818125 \nL 135.738093 224.818125 \nL 135.738093 222.444499 \nL 112.971294 222.444499 \nz\n\" style=\"fill:#1f77b4;\"/>\n   </g>\n   <g id=\"patch_37\">\n    <path clip-path=\"url(#p3fb66ebfbd)\" d=\"M 135.738093 224.818125 \nL 158.504891 224.818125 \nL 158.504891 223.631312 \nL 135.738093 223.631312 \nz\n\" style=\"fill:#1f77b4;\"/>\n   </g>\n   <g id=\"patch_38\">\n    <path clip-path=\"url(#p3fb66ebfbd)\" d=\"M 158.504891 224.818125 \nL 181.27169 224.818125 \nL 181.27169 224.224718 \nL 158.504891 224.224718 \nz\n\" style=\"fill:#1f77b4;\"/>\n   </g>\n   <g id=\"patch_39\">\n    <path clip-path=\"url(#p3fb66ebfbd)\" d=\"M 181.27169 224.818125 \nL 204.038488 224.818125 \nL 204.038488 223.037905 \nL 181.27169 223.037905 \nz\n\" style=\"fill:#1f77b4;\"/>\n   </g>\n   <g id=\"patch_40\">\n    <path clip-path=\"url(#p3fb66ebfbd)\" d=\"M 204.038488 224.818125 \nL 226.805287 224.818125 \nL 226.805287 224.818125 \nL 204.038488 224.818125 \nz\n\" style=\"fill:#1f77b4;\"/>\n   </g>\n   <g id=\"patch_41\">\n    <path clip-path=\"url(#p3fb66ebfbd)\" d=\"M 226.805287 224.818125 \nL 249.572085 224.818125 \nL 249.572085 224.818125 \nL 226.805287 224.818125 \nz\n\" style=\"fill:#1f77b4;\"/>\n   </g>\n   <g id=\"patch_42\">\n    <path clip-path=\"url(#p3fb66ebfbd)\" d=\"M 249.572085 224.818125 \nL 272.338883 224.818125 \nL 272.338883 224.224718 \nL 249.572085 224.224718 \nz\n\" style=\"fill:#1f77b4;\"/>\n   </g>\n   <g id=\"matplotlib.axis_5\">\n    <g id=\"xtick_15\">\n     <g id=\"line2d_21\">\n      <g>\n       <use style=\"stroke:#000000;stroke-width:0.8;\" x=\"44.335551\" xlink:href=\"#m24bcaa515a\" y=\"224.818125\"/>\n      </g>\n     </g>\n     <g id=\"text_25\">\n      <!-- 0.0 -->\n      <g transform=\"translate(47.094926 247.72125)rotate(-90)scale(0.1 -0.1)\">\n       <use xlink:href=\"#DejaVuSans-48\"/>\n       <use x=\"63.623047\" xlink:href=\"#DejaVuSans-46\"/>\n       <use x=\"95.410156\" xlink:href=\"#DejaVuSans-48\"/>\n      </g>\n     </g>\n    </g>\n    <g id=\"xtick_16\">\n     <g id=\"line2d_22\">\n      <g>\n       <use style=\"stroke:#000000;stroke-width:0.8;\" x=\"100.048315\" xlink:href=\"#m24bcaa515a\" y=\"224.818125\"/>\n      </g>\n     </g>\n     <g id=\"text_26\">\n      <!-- 0.5 -->\n      <g transform=\"translate(102.80769 247.72125)rotate(-90)scale(0.1 -0.1)\">\n       <use xlink:href=\"#DejaVuSans-48\"/>\n       <use x=\"63.623047\" xlink:href=\"#DejaVuSans-46\"/>\n       <use x=\"95.410156\" xlink:href=\"#DejaVuSans-53\"/>\n      </g>\n     </g>\n    </g>\n    <g id=\"xtick_17\">\n     <g id=\"line2d_23\">\n      <g>\n       <use style=\"stroke:#000000;stroke-width:0.8;\" x=\"155.761079\" xlink:href=\"#m24bcaa515a\" y=\"224.818125\"/>\n      </g>\n     </g>\n     <g id=\"text_27\">\n      <!-- 1.0 -->\n      <g transform=\"translate(158.520454 247.72125)rotate(-90)scale(0.1 -0.1)\">\n       <use xlink:href=\"#DejaVuSans-49\"/>\n       <use x=\"63.623047\" xlink:href=\"#DejaVuSans-46\"/>\n       <use x=\"95.410156\" xlink:href=\"#DejaVuSans-48\"/>\n      </g>\n     </g>\n    </g>\n    <g id=\"xtick_18\">\n     <g id=\"line2d_24\">\n      <g>\n       <use style=\"stroke:#000000;stroke-width:0.8;\" x=\"211.473843\" xlink:href=\"#m24bcaa515a\" y=\"224.818125\"/>\n      </g>\n     </g>\n     <g id=\"text_28\">\n      <!-- 1.5 -->\n      <g transform=\"translate(214.233218 247.72125)rotate(-90)scale(0.1 -0.1)\">\n       <use xlink:href=\"#DejaVuSans-49\"/>\n       <use x=\"63.623047\" xlink:href=\"#DejaVuSans-46\"/>\n       <use x=\"95.410156\" xlink:href=\"#DejaVuSans-53\"/>\n      </g>\n     </g>\n    </g>\n    <g id=\"xtick_19\">\n     <g id=\"line2d_25\">\n      <g>\n       <use style=\"stroke:#000000;stroke-width:0.8;\" x=\"267.186607\" xlink:href=\"#m24bcaa515a\" y=\"224.818125\"/>\n      </g>\n     </g>\n     <g id=\"text_29\">\n      <!-- 2.0 -->\n      <g transform=\"translate(269.945982 247.72125)rotate(-90)scale(0.1 -0.1)\">\n       <use xlink:href=\"#DejaVuSans-50\"/>\n       <use x=\"63.623047\" xlink:href=\"#DejaVuSans-46\"/>\n       <use x=\"95.410156\" xlink:href=\"#DejaVuSans-48\"/>\n      </g>\n     </g>\n    </g>\n    <g id=\"text_30\">\n     <!-- 1e9 -->\n     <g transform=\"translate(264.844158 258.319687)scale(0.1 -0.1)\">\n      <use xlink:href=\"#DejaVuSans-49\"/>\n      <use x=\"63.623047\" xlink:href=\"#DejaVuSans-101\"/>\n      <use x=\"125.146484\" xlink:href=\"#DejaVuSans-57\"/>\n     </g>\n    </g>\n   </g>\n   <g id=\"matplotlib.axis_6\">\n    <g id=\"ytick_7\">\n     <g id=\"line2d_26\">\n      <g>\n       <use style=\"stroke:#000000;stroke-width:0.8;\" x=\"33.2875\" xlink:href=\"#m87c0873673\" y=\"224.818125\"/>\n      </g>\n     </g>\n     <g id=\"text_31\">\n      <!-- 0 -->\n      <g transform=\"translate(19.925 228.617344)scale(0.1 -0.1)\">\n       <use xlink:href=\"#DejaVuSans-48\"/>\n      </g>\n     </g>\n    </g>\n    <g id=\"ytick_8\">\n     <g id=\"line2d_27\">\n      <g>\n       <use style=\"stroke:#000000;stroke-width:0.8;\" x=\"33.2875\" xlink:href=\"#m87c0873673\" y=\"195.147795\"/>\n      </g>\n     </g>\n     <g id=\"text_32\">\n      <!-- 50 -->\n      <g transform=\"translate(13.5625 198.947014)scale(0.1 -0.1)\">\n       <use xlink:href=\"#DejaVuSans-53\"/>\n       <use x=\"63.623047\" xlink:href=\"#DejaVuSans-48\"/>\n      </g>\n     </g>\n    </g>\n    <g id=\"ytick_9\">\n     <g id=\"line2d_28\">\n      <g>\n       <use style=\"stroke:#000000;stroke-width:0.8;\" x=\"33.2875\" xlink:href=\"#m87c0873673\" y=\"165.477466\"/>\n      </g>\n     </g>\n     <g id=\"text_33\">\n      <!-- 100 -->\n      <g transform=\"translate(7.2 169.276684)scale(0.1 -0.1)\">\n       <use xlink:href=\"#DejaVuSans-49\"/>\n       <use x=\"63.623047\" xlink:href=\"#DejaVuSans-48\"/>\n       <use x=\"127.246094\" xlink:href=\"#DejaVuSans-48\"/>\n      </g>\n     </g>\n    </g>\n   </g>\n   <g id=\"patch_43\">\n    <path d=\"M 33.2875 224.818125 \nL 33.2875 143.818125 \n\" style=\"fill:none;stroke:#000000;stroke-linecap:square;stroke-linejoin:miter;stroke-width:0.8;\"/>\n   </g>\n   <g id=\"patch_44\">\n    <path d=\"M 283.722283 224.818125 \nL 283.722283 143.818125 \n\" style=\"fill:none;stroke:#000000;stroke-linecap:square;stroke-linejoin:miter;stroke-width:0.8;\"/>\n   </g>\n   <g id=\"patch_45\">\n    <path d=\"M 33.2875 224.818125 \nL 283.722283 224.818125 \n\" style=\"fill:none;stroke:#000000;stroke-linecap:square;stroke-linejoin:miter;stroke-width:0.8;\"/>\n   </g>\n   <g id=\"patch_46\">\n    <path d=\"M 33.2875 143.818125 \nL 283.722283 143.818125 \n\" style=\"fill:none;stroke:#000000;stroke-linecap:square;stroke-linejoin:miter;stroke-width:0.8;\"/>\n   </g>\n   <g id=\"text_34\">\n    <!-- 2018 -->\n    <g transform=\"translate(143.234891 137.818125)scale(0.12 -0.12)\">\n     <use xlink:href=\"#DejaVuSans-50\"/>\n     <use x=\"63.623047\" xlink:href=\"#DejaVuSans-48\"/>\n     <use x=\"127.246094\" xlink:href=\"#DejaVuSans-49\"/>\n     <use x=\"190.869141\" xlink:href=\"#DejaVuSans-56\"/>\n    </g>\n   </g>\n  </g>\n  <g id=\"axes_4\">\n   <g id=\"patch_47\">\n    <path d=\"M 358.852717 224.818125 \nL 609.2875 224.818125 \nL 609.2875 143.818125 \nL 358.852717 143.818125 \nz\n\" style=\"fill:#ffffff;\"/>\n   </g>\n   <g id=\"patch_48\">\n    <path clip-path=\"url(#p61249bf8e9)\" d=\"M 370.236117 224.818125 \nL 393.002915 224.818125 \nL 393.002915 147.675268 \nL 370.236117 147.675268 \nz\n\" style=\"fill:#1f77b4;\"/>\n   </g>\n   <g id=\"patch_49\">\n    <path clip-path=\"url(#p61249bf8e9)\" d=\"M 393.002915 224.818125 \nL 415.769713 224.818125 \nL 415.769713 216.325333 \nL 393.002915 216.325333 \nz\n\" style=\"fill:#1f77b4;\"/>\n   </g>\n   <g id=\"patch_50\">\n    <path clip-path=\"url(#p61249bf8e9)\" d=\"M 415.769713 224.818125 \nL 438.536512 224.818125 \nL 438.536512 223.40266 \nL 415.769713 223.40266 \nz\n\" style=\"fill:#1f77b4;\"/>\n   </g>\n   <g id=\"patch_51\">\n    <path clip-path=\"url(#p61249bf8e9)\" d=\"M 438.536512 224.818125 \nL 461.30331 224.818125 \nL 461.30331 221.987194 \nL 438.536512 221.987194 \nz\n\" style=\"fill:#1f77b4;\"/>\n   </g>\n   <g id=\"patch_52\">\n    <path clip-path=\"url(#p61249bf8e9)\" d=\"M 461.30331 224.818125 \nL 484.070109 224.818125 \nL 484.070109 223.40266 \nL 461.30331 223.40266 \nz\n\" style=\"fill:#1f77b4;\"/>\n   </g>\n   <g id=\"patch_53\">\n    <path clip-path=\"url(#p61249bf8e9)\" d=\"M 484.070109 224.818125 \nL 506.836907 224.818125 \nL 506.836907 223.40266 \nL 484.070109 223.40266 \nz\n\" style=\"fill:#1f77b4;\"/>\n   </g>\n   <g id=\"patch_54\">\n    <path clip-path=\"url(#p61249bf8e9)\" d=\"M 506.836907 224.818125 \nL 529.603706 224.818125 \nL 529.603706 224.818125 \nL 506.836907 224.818125 \nz\n\" style=\"fill:#1f77b4;\"/>\n   </g>\n   <g id=\"patch_55\">\n    <path clip-path=\"url(#p61249bf8e9)\" d=\"M 529.603706 224.818125 \nL 552.370504 224.818125 \nL 552.370504 224.818125 \nL 529.603706 224.818125 \nz\n\" style=\"fill:#1f77b4;\"/>\n   </g>\n   <g id=\"patch_56\">\n    <path clip-path=\"url(#p61249bf8e9)\" d=\"M 552.370504 224.818125 \nL 575.137302 224.818125 \nL 575.137302 224.818125 \nL 552.370504 224.818125 \nz\n\" style=\"fill:#1f77b4;\"/>\n   </g>\n   <g id=\"patch_57\">\n    <path clip-path=\"url(#p61249bf8e9)\" d=\"M 575.137302 224.818125 \nL 597.904101 224.818125 \nL 597.904101 224.110392 \nL 575.137302 224.110392 \nz\n\" style=\"fill:#1f77b4;\"/>\n   </g>\n   <g id=\"matplotlib.axis_7\">\n    <g id=\"xtick_20\">\n     <g id=\"line2d_29\">\n      <g>\n       <use style=\"stroke:#000000;stroke-width:0.8;\" x=\"369.961272\" xlink:href=\"#m24bcaa515a\" y=\"224.818125\"/>\n      </g>\n     </g>\n     <g id=\"text_35\">\n      <!-- 0.0 -->\n      <g transform=\"translate(372.720647 247.72125)rotate(-90)scale(0.1 -0.1)\">\n       <use xlink:href=\"#DejaVuSans-48\"/>\n       <use x=\"63.623047\" xlink:href=\"#DejaVuSans-46\"/>\n       <use x=\"95.410156\" xlink:href=\"#DejaVuSans-48\"/>\n      </g>\n     </g>\n    </g>\n    <g id=\"xtick_21\">\n     <g id=\"line2d_30\">\n      <g>\n       <use style=\"stroke:#000000;stroke-width:0.8;\" x=\"410.697348\" xlink:href=\"#m24bcaa515a\" y=\"224.818125\"/>\n      </g>\n     </g>\n     <g id=\"text_36\">\n      <!-- 0.5 -->\n      <g transform=\"translate(413.456723 247.72125)rotate(-90)scale(0.1 -0.1)\">\n       <use xlink:href=\"#DejaVuSans-48\"/>\n       <use x=\"63.623047\" xlink:href=\"#DejaVuSans-46\"/>\n       <use x=\"95.410156\" xlink:href=\"#DejaVuSans-53\"/>\n      </g>\n     </g>\n    </g>\n    <g id=\"xtick_22\">\n     <g id=\"line2d_31\">\n      <g>\n       <use style=\"stroke:#000000;stroke-width:0.8;\" x=\"451.433423\" xlink:href=\"#m24bcaa515a\" y=\"224.818125\"/>\n      </g>\n     </g>\n     <g id=\"text_37\">\n      <!-- 1.0 -->\n      <g transform=\"translate(454.192798 247.72125)rotate(-90)scale(0.1 -0.1)\">\n       <use xlink:href=\"#DejaVuSans-49\"/>\n       <use x=\"63.623047\" xlink:href=\"#DejaVuSans-46\"/>\n       <use x=\"95.410156\" xlink:href=\"#DejaVuSans-48\"/>\n      </g>\n     </g>\n    </g>\n    <g id=\"xtick_23\">\n     <g id=\"line2d_32\">\n      <g>\n       <use style=\"stroke:#000000;stroke-width:0.8;\" x=\"492.169498\" xlink:href=\"#m24bcaa515a\" y=\"224.818125\"/>\n      </g>\n     </g>\n     <g id=\"text_38\">\n      <!-- 1.5 -->\n      <g transform=\"translate(494.928873 247.72125)rotate(-90)scale(0.1 -0.1)\">\n       <use xlink:href=\"#DejaVuSans-49\"/>\n       <use x=\"63.623047\" xlink:href=\"#DejaVuSans-46\"/>\n       <use x=\"95.410156\" xlink:href=\"#DejaVuSans-53\"/>\n      </g>\n     </g>\n    </g>\n    <g id=\"xtick_24\">\n     <g id=\"line2d_33\">\n      <g>\n       <use style=\"stroke:#000000;stroke-width:0.8;\" x=\"532.905573\" xlink:href=\"#m24bcaa515a\" y=\"224.818125\"/>\n      </g>\n     </g>\n     <g id=\"text_39\">\n      <!-- 2.0 -->\n      <g transform=\"translate(535.664948 247.72125)rotate(-90)scale(0.1 -0.1)\">\n       <use xlink:href=\"#DejaVuSans-50\"/>\n       <use x=\"63.623047\" xlink:href=\"#DejaVuSans-46\"/>\n       <use x=\"95.410156\" xlink:href=\"#DejaVuSans-48\"/>\n      </g>\n     </g>\n    </g>\n    <g id=\"xtick_25\">\n     <g id=\"line2d_34\">\n      <g>\n       <use style=\"stroke:#000000;stroke-width:0.8;\" x=\"573.641648\" xlink:href=\"#m24bcaa515a\" y=\"224.818125\"/>\n      </g>\n     </g>\n     <g id=\"text_40\">\n      <!-- 2.5 -->\n      <g transform=\"translate(576.401023 247.72125)rotate(-90)scale(0.1 -0.1)\">\n       <use xlink:href=\"#DejaVuSans-50\"/>\n       <use x=\"63.623047\" xlink:href=\"#DejaVuSans-46\"/>\n       <use x=\"95.410156\" xlink:href=\"#DejaVuSans-53\"/>\n      </g>\n     </g>\n    </g>\n    <g id=\"text_41\">\n     <!-- 1e9 -->\n     <g transform=\"translate(590.409375 258.319687)scale(0.1 -0.1)\">\n      <use xlink:href=\"#DejaVuSans-49\"/>\n      <use x=\"63.623047\" xlink:href=\"#DejaVuSans-101\"/>\n      <use x=\"125.146484\" xlink:href=\"#DejaVuSans-57\"/>\n     </g>\n    </g>\n   </g>\n   <g id=\"matplotlib.axis_8\">\n    <g id=\"ytick_10\">\n     <g id=\"line2d_35\">\n      <g>\n       <use style=\"stroke:#000000;stroke-width:0.8;\" x=\"358.852717\" xlink:href=\"#m87c0873673\" y=\"224.818125\"/>\n      </g>\n     </g>\n     <g id=\"text_42\">\n      <!-- 0 -->\n      <g transform=\"translate(345.490217 228.617344)scale(0.1 -0.1)\">\n       <use xlink:href=\"#DejaVuSans-48\"/>\n      </g>\n     </g>\n    </g>\n    <g id=\"ytick_11\">\n     <g id=\"line2d_36\">\n      <g>\n       <use style=\"stroke:#000000;stroke-width:0.8;\" x=\"358.852717\" xlink:href=\"#m87c0873673\" y=\"189.431493\"/>\n      </g>\n     </g>\n     <g id=\"text_43\">\n      <!-- 50 -->\n      <g transform=\"translate(339.127717 193.230712)scale(0.1 -0.1)\">\n       <use xlink:href=\"#DejaVuSans-53\"/>\n       <use x=\"63.623047\" xlink:href=\"#DejaVuSans-48\"/>\n      </g>\n     </g>\n    </g>\n    <g id=\"ytick_12\">\n     <g id=\"line2d_37\">\n      <g>\n       <use style=\"stroke:#000000;stroke-width:0.8;\" x=\"358.852717\" xlink:href=\"#m87c0873673\" y=\"154.044862\"/>\n      </g>\n     </g>\n     <g id=\"text_44\">\n      <!-- 100 -->\n      <g transform=\"translate(332.765217 157.84408)scale(0.1 -0.1)\">\n       <use xlink:href=\"#DejaVuSans-49\"/>\n       <use x=\"63.623047\" xlink:href=\"#DejaVuSans-48\"/>\n       <use x=\"127.246094\" xlink:href=\"#DejaVuSans-48\"/>\n      </g>\n     </g>\n    </g>\n   </g>\n   <g id=\"patch_58\">\n    <path d=\"M 358.852717 224.818125 \nL 358.852717 143.818125 \n\" style=\"fill:none;stroke:#000000;stroke-linecap:square;stroke-linejoin:miter;stroke-width:0.8;\"/>\n   </g>\n   <g id=\"patch_59\">\n    <path d=\"M 609.2875 224.818125 \nL 609.2875 143.818125 \n\" style=\"fill:none;stroke:#000000;stroke-linecap:square;stroke-linejoin:miter;stroke-width:0.8;\"/>\n   </g>\n   <g id=\"patch_60\">\n    <path d=\"M 358.852717 224.818125 \nL 609.2875 224.818125 \n\" style=\"fill:none;stroke:#000000;stroke-linecap:square;stroke-linejoin:miter;stroke-width:0.8;\"/>\n   </g>\n   <g id=\"patch_61\">\n    <path d=\"M 358.852717 143.818125 \nL 609.2875 143.818125 \n\" style=\"fill:none;stroke:#000000;stroke-linecap:square;stroke-linejoin:miter;stroke-width:0.8;\"/>\n   </g>\n   <g id=\"text_45\">\n    <!-- 2019 -->\n    <g transform=\"translate(468.800109 137.818125)scale(0.12 -0.12)\">\n     <use xlink:href=\"#DejaVuSans-50\"/>\n     <use x=\"63.623047\" xlink:href=\"#DejaVuSans-48\"/>\n     <use x=\"127.246094\" xlink:href=\"#DejaVuSans-49\"/>\n     <use x=\"190.869141\" xlink:href=\"#DejaVuSans-57\"/>\n    </g>\n   </g>\n  </g>\n  <g id=\"axes_5\">\n   <g id=\"patch_62\">\n    <path d=\"M 33.2875 346.318125 \nL 283.722283 346.318125 \nL 283.722283 265.318125 \nL 33.2875 265.318125 \nz\n\" style=\"fill:#ffffff;\"/>\n   </g>\n   <g id=\"patch_63\">\n    <path clip-path=\"url(#p568810bec2)\" d=\"M 44.670899 346.318125 \nL 67.437698 346.318125 \nL 67.437698 269.175268 \nL 44.670899 269.175268 \nz\n\" style=\"fill:#1f77b4;\"/>\n   </g>\n   <g id=\"patch_64\">\n    <path clip-path=\"url(#p568810bec2)\" d=\"M 67.437698 346.318125 \nL 90.204496 346.318125 \nL 90.204496 337.978357 \nL 67.437698 337.978357 \nz\n\" style=\"fill:#1f77b4;\"/>\n   </g>\n   <g id=\"patch_65\">\n    <path clip-path=\"url(#p568810bec2)\" d=\"M 90.204496 346.318125 \nL 112.971294 346.318125 \nL 112.971294 344.233183 \nL 90.204496 344.233183 \nz\n\" style=\"fill:#1f77b4;\"/>\n   </g>\n   <g id=\"patch_66\">\n    <path clip-path=\"url(#p568810bec2)\" d=\"M 112.971294 346.318125 \nL 135.738093 346.318125 \nL 135.738093 335.893415 \nL 112.971294 335.893415 \nz\n\" style=\"fill:#1f77b4;\"/>\n   </g>\n   <g id=\"patch_67\">\n    <path clip-path=\"url(#p568810bec2)\" d=\"M 135.738093 346.318125 \nL 158.504891 346.318125 \nL 158.504891 344.233183 \nL 135.738093 344.233183 \nz\n\" style=\"fill:#1f77b4;\"/>\n   </g>\n   <g id=\"patch_68\">\n    <path clip-path=\"url(#p568810bec2)\" d=\"M 158.504891 346.318125 \nL 181.27169 346.318125 \nL 181.27169 344.233183 \nL 158.504891 344.233183 \nz\n\" style=\"fill:#1f77b4;\"/>\n   </g>\n   <g id=\"patch_69\">\n    <path clip-path=\"url(#p568810bec2)\" d=\"M 181.27169 346.318125 \nL 204.038488 346.318125 \nL 204.038488 346.318125 \nL 181.27169 346.318125 \nz\n\" style=\"fill:#1f77b4;\"/>\n   </g>\n   <g id=\"patch_70\">\n    <path clip-path=\"url(#p568810bec2)\" d=\"M 204.038488 346.318125 \nL 226.805287 346.318125 \nL 226.805287 344.233183 \nL 204.038488 344.233183 \nz\n\" style=\"fill:#1f77b4;\"/>\n   </g>\n   <g id=\"patch_71\">\n    <path clip-path=\"url(#p568810bec2)\" d=\"M 226.805287 346.318125 \nL 249.572085 346.318125 \nL 249.572085 344.233183 \nL 226.805287 344.233183 \nz\n\" style=\"fill:#1f77b4;\"/>\n   </g>\n   <g id=\"patch_72\">\n    <path clip-path=\"url(#p568810bec2)\" d=\"M 249.572085 346.318125 \nL 272.338883 346.318125 \nL 272.338883 344.233183 \nL 249.572085 344.233183 \nz\n\" style=\"fill:#1f77b4;\"/>\n   </g>\n   <g id=\"matplotlib.axis_9\">\n    <g id=\"xtick_26\">\n     <g id=\"line2d_38\">\n      <g>\n       <use style=\"stroke:#000000;stroke-width:0.8;\" x=\"42.963028\" xlink:href=\"#m24bcaa515a\" y=\"346.318125\"/>\n      </g>\n     </g>\n     <g id=\"text_46\">\n      <!-- 0 -->\n      <g transform=\"translate(45.722403 359.680625)rotate(-90)scale(0.1 -0.1)\">\n       <use xlink:href=\"#DejaVuSans-48\"/>\n      </g>\n     </g>\n    </g>\n    <g id=\"xtick_27\">\n     <g id=\"line2d_39\">\n      <g>\n       <use style=\"stroke:#000000;stroke-width:0.8;\" x=\"96.743341\" xlink:href=\"#m24bcaa515a\" y=\"346.318125\"/>\n      </g>\n     </g>\n     <g id=\"text_47\">\n      <!-- 1 -->\n      <g transform=\"translate(99.502716 359.680625)rotate(-90)scale(0.1 -0.1)\">\n       <use xlink:href=\"#DejaVuSans-49\"/>\n      </g>\n     </g>\n    </g>\n    <g id=\"xtick_28\">\n     <g id=\"line2d_40\">\n      <g>\n       <use style=\"stroke:#000000;stroke-width:0.8;\" x=\"150.523654\" xlink:href=\"#m24bcaa515a\" y=\"346.318125\"/>\n      </g>\n     </g>\n     <g id=\"text_48\">\n      <!-- 2 -->\n      <g transform=\"translate(153.283029 359.680625)rotate(-90)scale(0.1 -0.1)\">\n       <use xlink:href=\"#DejaVuSans-50\"/>\n      </g>\n     </g>\n    </g>\n    <g id=\"xtick_29\">\n     <g id=\"line2d_41\">\n      <g>\n       <use style=\"stroke:#000000;stroke-width:0.8;\" x=\"204.303967\" xlink:href=\"#m24bcaa515a\" y=\"346.318125\"/>\n      </g>\n     </g>\n     <g id=\"text_49\">\n      <!-- 3 -->\n      <defs>\n       <path d=\"M 40.578125 39.3125 \nQ 47.65625 37.796875 51.625 33 \nQ 55.609375 28.21875 55.609375 21.1875 \nQ 55.609375 10.40625 48.1875 4.484375 \nQ 40.765625 -1.421875 27.09375 -1.421875 \nQ 22.515625 -1.421875 17.65625 -0.515625 \nQ 12.796875 0.390625 7.625 2.203125 \nL 7.625 11.71875 \nQ 11.71875 9.328125 16.59375 8.109375 \nQ 21.484375 6.890625 26.8125 6.890625 \nQ 36.078125 6.890625 40.9375 10.546875 \nQ 45.796875 14.203125 45.796875 21.1875 \nQ 45.796875 27.640625 41.28125 31.265625 \nQ 36.765625 34.90625 28.71875 34.90625 \nL 20.21875 34.90625 \nL 20.21875 43.015625 \nL 29.109375 43.015625 \nQ 36.375 43.015625 40.234375 45.921875 \nQ 44.09375 48.828125 44.09375 54.296875 \nQ 44.09375 59.90625 40.109375 62.90625 \nQ 36.140625 65.921875 28.71875 65.921875 \nQ 24.65625 65.921875 20.015625 65.03125 \nQ 15.375 64.15625 9.8125 62.3125 \nL 9.8125 71.09375 \nQ 15.4375 72.65625 20.34375 73.4375 \nQ 25.25 74.21875 29.59375 74.21875 \nQ 40.828125 74.21875 47.359375 69.109375 \nQ 53.90625 64.015625 53.90625 55.328125 \nQ 53.90625 49.265625 50.4375 45.09375 \nQ 46.96875 40.921875 40.578125 39.3125 \nz\n\" id=\"DejaVuSans-51\"/>\n      </defs>\n      <g transform=\"translate(207.063342 359.680625)rotate(-90)scale(0.1 -0.1)\">\n       <use xlink:href=\"#DejaVuSans-51\"/>\n      </g>\n     </g>\n    </g>\n    <g id=\"xtick_30\">\n     <g id=\"line2d_42\">\n      <g>\n       <use style=\"stroke:#000000;stroke-width:0.8;\" x=\"258.08428\" xlink:href=\"#m24bcaa515a\" y=\"346.318125\"/>\n      </g>\n     </g>\n     <g id=\"text_50\">\n      <!-- 4 -->\n      <g transform=\"translate(260.843655 359.680625)rotate(-90)scale(0.1 -0.1)\">\n       <use xlink:href=\"#DejaVuSans-52\"/>\n      </g>\n     </g>\n    </g>\n    <g id=\"text_51\">\n     <!-- 1e8 -->\n     <g transform=\"translate(264.844158 370.279062)scale(0.1 -0.1)\">\n      <use xlink:href=\"#DejaVuSans-49\"/>\n      <use x=\"63.623047\" xlink:href=\"#DejaVuSans-101\"/>\n      <use x=\"125.146484\" xlink:href=\"#DejaVuSans-56\"/>\n     </g>\n    </g>\n   </g>\n   <g id=\"matplotlib.axis_10\">\n    <g id=\"ytick_13\">\n     <g id=\"line2d_43\">\n      <g>\n       <use style=\"stroke:#000000;stroke-width:0.8;\" x=\"33.2875\" xlink:href=\"#m87c0873673\" y=\"346.318125\"/>\n      </g>\n     </g>\n     <g id=\"text_52\">\n      <!-- 0 -->\n      <g transform=\"translate(19.925 350.117344)scale(0.1 -0.1)\">\n       <use xlink:href=\"#DejaVuSans-48\"/>\n      </g>\n     </g>\n    </g>\n    <g id=\"ytick_14\">\n     <g id=\"line2d_44\">\n      <g>\n       <use style=\"stroke:#000000;stroke-width:0.8;\" x=\"33.2875\" xlink:href=\"#m87c0873673\" y=\"325.468704\"/>\n      </g>\n     </g>\n     <g id=\"text_53\">\n      <!-- 10 -->\n      <g transform=\"translate(13.5625 329.267923)scale(0.1 -0.1)\">\n       <use xlink:href=\"#DejaVuSans-49\"/>\n       <use x=\"63.623047\" xlink:href=\"#DejaVuSans-48\"/>\n      </g>\n     </g>\n    </g>\n    <g id=\"ytick_15\">\n     <g id=\"line2d_45\">\n      <g>\n       <use style=\"stroke:#000000;stroke-width:0.8;\" x=\"33.2875\" xlink:href=\"#m87c0873673\" y=\"304.619283\"/>\n      </g>\n     </g>\n     <g id=\"text_54\">\n      <!-- 20 -->\n      <g transform=\"translate(13.5625 308.418502)scale(0.1 -0.1)\">\n       <use xlink:href=\"#DejaVuSans-50\"/>\n       <use x=\"63.623047\" xlink:href=\"#DejaVuSans-48\"/>\n      </g>\n     </g>\n    </g>\n    <g id=\"ytick_16\">\n     <g id=\"line2d_46\">\n      <g>\n       <use style=\"stroke:#000000;stroke-width:0.8;\" x=\"33.2875\" xlink:href=\"#m87c0873673\" y=\"283.769862\"/>\n      </g>\n     </g>\n     <g id=\"text_55\">\n      <!-- 30 -->\n      <g transform=\"translate(13.5625 287.569081)scale(0.1 -0.1)\">\n       <use xlink:href=\"#DejaVuSans-51\"/>\n       <use x=\"63.623047\" xlink:href=\"#DejaVuSans-48\"/>\n      </g>\n     </g>\n    </g>\n   </g>\n   <g id=\"patch_73\">\n    <path d=\"M 33.2875 346.318125 \nL 33.2875 265.318125 \n\" style=\"fill:none;stroke:#000000;stroke-linecap:square;stroke-linejoin:miter;stroke-width:0.8;\"/>\n   </g>\n   <g id=\"patch_74\">\n    <path d=\"M 283.722283 346.318125 \nL 283.722283 265.318125 \n\" style=\"fill:none;stroke:#000000;stroke-linecap:square;stroke-linejoin:miter;stroke-width:0.8;\"/>\n   </g>\n   <g id=\"patch_75\">\n    <path d=\"M 33.2875 346.318125 \nL 283.722283 346.318125 \n\" style=\"fill:none;stroke:#000000;stroke-linecap:square;stroke-linejoin:miter;stroke-width:0.8;\"/>\n   </g>\n   <g id=\"patch_76\">\n    <path d=\"M 33.2875 265.318125 \nL 283.722283 265.318125 \n\" style=\"fill:none;stroke:#000000;stroke-linecap:square;stroke-linejoin:miter;stroke-width:0.8;\"/>\n   </g>\n   <g id=\"text_56\">\n    <!-- 2020 -->\n    <g transform=\"translate(143.234891 259.318125)scale(0.12 -0.12)\">\n     <use xlink:href=\"#DejaVuSans-50\"/>\n     <use x=\"63.623047\" xlink:href=\"#DejaVuSans-48\"/>\n     <use x=\"127.246094\" xlink:href=\"#DejaVuSans-50\"/>\n     <use x=\"190.869141\" xlink:href=\"#DejaVuSans-48\"/>\n    </g>\n   </g>\n  </g>\n  <g id=\"axes_6\">\n   <g id=\"patch_77\">\n    <path d=\"M 358.852717 346.318125 \nL 609.2875 346.318125 \nL 609.2875 265.318125 \nL 358.852717 265.318125 \nz\n\" style=\"fill:#ffffff;\"/>\n   </g>\n   <g id=\"patch_78\">\n    <path clip-path=\"url(#p727319f72e)\" d=\"M 370.236117 346.318125 \nL 393.002915 346.318125 \nL 393.002915 269.175268 \nL 370.236117 269.175268 \nz\n\" style=\"fill:#1f77b4;\"/>\n   </g>\n   <g id=\"patch_79\">\n    <path clip-path=\"url(#p727319f72e)\" d=\"M 393.002915 346.318125 \nL 415.769713 346.318125 \nL 415.769713 318.266177 \nL 393.002915 318.266177 \nz\n\" style=\"fill:#1f77b4;\"/>\n   </g>\n   <g id=\"patch_80\">\n    <path clip-path=\"url(#p727319f72e)\" d=\"M 415.769713 346.318125 \nL 438.536512 346.318125 \nL 438.536512 332.292151 \nL 415.769713 332.292151 \nz\n\" style=\"fill:#1f77b4;\"/>\n   </g>\n   <g id=\"patch_81\">\n    <path clip-path=\"url(#p727319f72e)\" d=\"M 438.536512 346.318125 \nL 461.30331 346.318125 \nL 461.30331 339.305138 \nL 438.536512 339.305138 \nz\n\" style=\"fill:#1f77b4;\"/>\n   </g>\n   <g id=\"patch_82\">\n    <path clip-path=\"url(#p727319f72e)\" d=\"M 461.30331 346.318125 \nL 484.070109 346.318125 \nL 484.070109 346.318125 \nL 461.30331 346.318125 \nz\n\" style=\"fill:#1f77b4;\"/>\n   </g>\n   <g id=\"patch_83\">\n    <path clip-path=\"url(#p727319f72e)\" d=\"M 484.070109 346.318125 \nL 506.836907 346.318125 \nL 506.836907 339.305138 \nL 484.070109 339.305138 \nz\n\" style=\"fill:#1f77b4;\"/>\n   </g>\n   <g id=\"patch_84\">\n    <path clip-path=\"url(#p727319f72e)\" d=\"M 506.836907 346.318125 \nL 529.603706 346.318125 \nL 529.603706 346.318125 \nL 506.836907 346.318125 \nz\n\" style=\"fill:#1f77b4;\"/>\n   </g>\n   <g id=\"patch_85\">\n    <path clip-path=\"url(#p727319f72e)\" d=\"M 529.603706 346.318125 \nL 552.370504 346.318125 \nL 552.370504 346.318125 \nL 529.603706 346.318125 \nz\n\" style=\"fill:#1f77b4;\"/>\n   </g>\n   <g id=\"patch_86\">\n    <path clip-path=\"url(#p727319f72e)\" d=\"M 552.370504 346.318125 \nL 575.137302 346.318125 \nL 575.137302 346.318125 \nL 552.370504 346.318125 \nz\n\" style=\"fill:#1f77b4;\"/>\n   </g>\n   <g id=\"patch_87\">\n    <path clip-path=\"url(#p727319f72e)\" d=\"M 575.137302 346.318125 \nL 597.904101 346.318125 \nL 597.904101 339.305138 \nL 575.137302 339.305138 \nz\n\" style=\"fill:#1f77b4;\"/>\n   </g>\n   <g id=\"matplotlib.axis_11\">\n    <g id=\"xtick_31\">\n     <g id=\"line2d_47\">\n      <g>\n       <use style=\"stroke:#000000;stroke-width:0.8;\" x=\"368.256161\" xlink:href=\"#m24bcaa515a\" y=\"346.318125\"/>\n      </g>\n     </g>\n     <g id=\"text_57\">\n      <!-- 0 -->\n      <g transform=\"translate(371.015536 359.680625)rotate(-90)scale(0.1 -0.1)\">\n       <use xlink:href=\"#DejaVuSans-48\"/>\n      </g>\n     </g>\n    </g>\n    <g id=\"xtick_32\">\n     <g id=\"line2d_48\">\n      <g>\n       <use style=\"stroke:#000000;stroke-width:0.8;\" x=\"420.678009\" xlink:href=\"#m24bcaa515a\" y=\"346.318125\"/>\n      </g>\n     </g>\n     <g id=\"text_58\">\n      <!-- 1 -->\n      <g transform=\"translate(423.437384 359.680625)rotate(-90)scale(0.1 -0.1)\">\n       <use xlink:href=\"#DejaVuSans-49\"/>\n      </g>\n     </g>\n    </g>\n    <g id=\"xtick_33\">\n     <g id=\"line2d_49\">\n      <g>\n       <use style=\"stroke:#000000;stroke-width:0.8;\" x=\"473.099857\" xlink:href=\"#m24bcaa515a\" y=\"346.318125\"/>\n      </g>\n     </g>\n     <g id=\"text_59\">\n      <!-- 2 -->\n      <g transform=\"translate(475.859232 359.680625)rotate(-90)scale(0.1 -0.1)\">\n       <use xlink:href=\"#DejaVuSans-50\"/>\n      </g>\n     </g>\n    </g>\n    <g id=\"xtick_34\">\n     <g id=\"line2d_50\">\n      <g>\n       <use style=\"stroke:#000000;stroke-width:0.8;\" x=\"525.521705\" xlink:href=\"#m24bcaa515a\" y=\"346.318125\"/>\n      </g>\n     </g>\n     <g id=\"text_60\">\n      <!-- 3 -->\n      <g transform=\"translate(528.28108 359.680625)rotate(-90)scale(0.1 -0.1)\">\n       <use xlink:href=\"#DejaVuSans-51\"/>\n      </g>\n     </g>\n    </g>\n    <g id=\"xtick_35\">\n     <g id=\"line2d_51\">\n      <g>\n       <use style=\"stroke:#000000;stroke-width:0.8;\" x=\"577.943552\" xlink:href=\"#m24bcaa515a\" y=\"346.318125\"/>\n      </g>\n     </g>\n     <g id=\"text_61\">\n      <!-- 4 -->\n      <g transform=\"translate(580.702927 359.680625)rotate(-90)scale(0.1 -0.1)\">\n       <use xlink:href=\"#DejaVuSans-52\"/>\n      </g>\n     </g>\n    </g>\n    <g id=\"text_62\">\n     <!-- 1e8 -->\n     <g transform=\"translate(590.409375 370.279062)scale(0.1 -0.1)\">\n      <use xlink:href=\"#DejaVuSans-49\"/>\n      <use x=\"63.623047\" xlink:href=\"#DejaVuSans-101\"/>\n      <use x=\"125.146484\" xlink:href=\"#DejaVuSans-56\"/>\n     </g>\n    </g>\n   </g>\n   <g id=\"matplotlib.axis_12\">\n    <g id=\"ytick_17\">\n     <g id=\"line2d_52\">\n      <g>\n       <use style=\"stroke:#000000;stroke-width:0.8;\" x=\"358.852717\" xlink:href=\"#m87c0873673\" y=\"346.318125\"/>\n      </g>\n     </g>\n     <g id=\"text_63\">\n      <!-- 0 -->\n      <g transform=\"translate(345.490217 350.117344)scale(0.1 -0.1)\">\n       <use xlink:href=\"#DejaVuSans-48\"/>\n      </g>\n     </g>\n    </g>\n    <g id=\"ytick_18\">\n     <g id=\"line2d_53\">\n      <g>\n       <use style=\"stroke:#000000;stroke-width:0.8;\" x=\"358.852717\" xlink:href=\"#m87c0873673\" y=\"311.25319\"/>\n      </g>\n     </g>\n     <g id=\"text_64\">\n      <!-- 5 -->\n      <g transform=\"translate(345.490217 315.052409)scale(0.1 -0.1)\">\n       <use xlink:href=\"#DejaVuSans-53\"/>\n      </g>\n     </g>\n    </g>\n    <g id=\"ytick_19\">\n     <g id=\"line2d_54\">\n      <g>\n       <use style=\"stroke:#000000;stroke-width:0.8;\" x=\"358.852717\" xlink:href=\"#m87c0873673\" y=\"276.188255\"/>\n      </g>\n     </g>\n     <g id=\"text_65\">\n      <!-- 10 -->\n      <g transform=\"translate(339.127717 279.987474)scale(0.1 -0.1)\">\n       <use xlink:href=\"#DejaVuSans-49\"/>\n       <use x=\"63.623047\" xlink:href=\"#DejaVuSans-48\"/>\n      </g>\n     </g>\n    </g>\n   </g>\n   <g id=\"patch_88\">\n    <path d=\"M 358.852717 346.318125 \nL 358.852717 265.318125 \n\" style=\"fill:none;stroke:#000000;stroke-linecap:square;stroke-linejoin:miter;stroke-width:0.8;\"/>\n   </g>\n   <g id=\"patch_89\">\n    <path d=\"M 609.2875 346.318125 \nL 609.2875 265.318125 \n\" style=\"fill:none;stroke:#000000;stroke-linecap:square;stroke-linejoin:miter;stroke-width:0.8;\"/>\n   </g>\n   <g id=\"patch_90\">\n    <path d=\"M 358.852717 346.318125 \nL 609.2875 346.318125 \n\" style=\"fill:none;stroke:#000000;stroke-linecap:square;stroke-linejoin:miter;stroke-width:0.8;\"/>\n   </g>\n   <g id=\"patch_91\">\n    <path d=\"M 358.852717 265.318125 \nL 609.2875 265.318125 \n\" style=\"fill:none;stroke:#000000;stroke-linecap:square;stroke-linejoin:miter;stroke-width:0.8;\"/>\n   </g>\n   <g id=\"text_66\">\n    <!-- 2021 -->\n    <g transform=\"translate(468.800109 259.318125)scale(0.12 -0.12)\">\n     <use xlink:href=\"#DejaVuSans-50\"/>\n     <use x=\"63.623047\" xlink:href=\"#DejaVuSans-48\"/>\n     <use x=\"127.246094\" xlink:href=\"#DejaVuSans-50\"/>\n     <use x=\"190.869141\" xlink:href=\"#DejaVuSans-49\"/>\n    </g>\n   </g>\n  </g>\n </g>\n <defs>\n  <clipPath id=\"p7c0e81440d\">\n   <rect height=\"81\" width=\"250.434783\" x=\"33.2875\" y=\"22.318125\"/>\n  </clipPath>\n  <clipPath id=\"pf86aa22af8\">\n   <rect height=\"81\" width=\"250.434783\" x=\"358.852717\" y=\"22.318125\"/>\n  </clipPath>\n  <clipPath id=\"p3fb66ebfbd\">\n   <rect height=\"81\" width=\"250.434783\" x=\"33.2875\" y=\"143.818125\"/>\n  </clipPath>\n  <clipPath id=\"p61249bf8e9\">\n   <rect height=\"81\" width=\"250.434783\" x=\"358.852717\" y=\"143.818125\"/>\n  </clipPath>\n  <clipPath id=\"p568810bec2\">\n   <rect height=\"81\" width=\"250.434783\" x=\"33.2875\" y=\"265.318125\"/>\n  </clipPath>\n  <clipPath id=\"p727319f72e\">\n   <rect height=\"81\" width=\"250.434783\" x=\"358.852717\" y=\"265.318125\"/>\n  </clipPath>\n </defs>\n</svg>\n",
      "image/png": "[encoded data removed]"
     },
     "metadata": {
      "needs_background": "light"
     }
    }
   ],
   "source": [
    "df_q3.hist(by=df_q3['release_date'].dt.year,\n",
    "       column='revenue',\n",
    "       figsize=[10, 6])"
   ]
  }
 ],
 "metadata": {
  "kernelspec": {
   "name": "python3",
   "display_name": "Python 3.6.9 64-bit ('learn-env': conda)"
  },
  "language_info": {
   "codemirror_mode": {
    "name": "ipython",
    "version": 3
   },
   "file_extension": ".py",
   "mimetype": "text/x-python",
   "name": "python",
   "nbconvert_exporter": "python",
   "pygments_lexer": "ipython3",
   "version": "3.6.9"
  },
  "interpreter": {
   "hash": "5d1f83e9c63cec2de7bdeb43eb17fdae110b98c2255761b9e5cd119be6dbfe82"
  }
 },
 "nbformat": 4,
 "nbformat_minor": 2
}